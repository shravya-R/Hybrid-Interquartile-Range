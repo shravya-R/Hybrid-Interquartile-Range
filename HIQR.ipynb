{
 "cells": [
  {
   "cell_type": "code",
   "execution_count": null,
   "metadata": {
    "id": "wWCcfVMkH2I4"
   },
   "outputs": [],
   "source": [
    "from google.colab import drive\n",
    "drive.mount('/content/drive')"
   ]
  },
  {
   "cell_type": "code",
   "execution_count": null,
   "metadata": {
    "id": "_JytCuT8JCZf"
   },
   "outputs": [],
   "source": [
    "import pandas as pd\n",
    "import numpy as np\n",
    "from scipy.io.arff import loadarff\n",
    "import seaborn as sns\n",
    "from sklearn.ensemble import IsolationForest\n",
    "from sklearn.model_selection import train_test_split\n",
    "import math\n",
    "from scipy.stats import multivariate_normal\n",
    "from scipy.stats import mode\n",
    "from sklearn.metrics import confusion_matrix\n",
    "import matplotlib.pyplot as plt\n",
    "import sklearn\n",
    "import seaborn as sns\n",
    "from sklearn import metrics\n",
    "from sklearn.model_selection import cross_val_score\n",
    "from sklearn.model_selection import RepeatedStratifiedKFold\n",
    "from sklearn.preprocessing import StandardScaler\n",
    "from sklearn.ensemble import RandomForestClassifier\n",
    "from sklearn.linear_model import LogisticRegression\n",
    "from sklearn.preprocessing import StandardScaler\n",
    "from sklearn.metrics import confusion_matrix, classification_report\n",
    "from imblearn.under_sampling import RandomUnderSampler\n",
    "from imblearn.over_sampling import SMOTE\n",
    "from sklearn.metrics import accuracy_score, confusion_matrix\n",
    "from sklearn.svm import SVC\n",
    "from sklearn import tree\n",
    "from imblearn.combine import SMOTETomek\n",
    "import pydotplus\n",
    "from scipy.io import arff\n",
    "from sklearn.tree import DecisionTreeClassifier"
   ]
  },
  {
   "cell_type": "code",
   "execution_count": null,
   "metadata": {
    "id": "argDRzPaKKy6"
   },
   "outputs": [],
   "source": [
    "def removeOutliers(data, col, original):\n",
    "\tQ3 = np.quantile(data[col], 0.75)\n",
    "\tQ1 = np.quantile(data[col], 0.25)\n",
    "\tIQR = Q3 - Q1\n",
    "\n",
    "\t# print(\"IQR value for column %s is: %s\" % (col, IQR))\n",
    "\tglobal outlier_free_list\n",
    "\tglobal outlier_list\n",
    "\tglobal outlier_inst\n",
    "\tglobal filtered_data\n",
    "\tglobal classify_df\n",
    "\tlower_range = Q1 - 1.5 * IQR\n",
    "\tupper_range = Q3 + 1.5 * IQR\n",
    "\tclassify_df = original.copy()\n",
    "\tclassify_df['outlier'] = 0\n",
    "\tfor i in range(data.shape[0]):\n",
    "\t\tif data['score'][i] <= lower_range or data['score'][i] >= upper_range:\n",
    "\t\t\tclassify_df['outlier'][i] = 1\n",
    "\toutlier_free_list = [x for x in data[col] if (\n",
    "\t\t(x > lower_range) & (x < upper_range))]\n",
    "\toutlier_list = [x for x in data[col] if (\n",
    "\t\t(x <= lower_range) | (x >= upper_range))]\n",
    "\tfiltered_data = original.loc[data[col].isin(outlier_free_list)]\n",
    "\toutlier_inst = original.loc[data[col].isin(outlier_list)]"
   ]
  },
  {
   "cell_type": "code",
   "execution_count": null,
   "metadata": {
    "id": "jEBoiKw5b2Vg"
   },
   "outputs": [],
   "source": [
    "def MapFunc(df, str_ar):\n",
    "  for i in range(len(str_ar)):\n",
    "    uni = df[str_ar[i]].unique()\n",
    "    mylist = range(0,len(uni))\n",
    "    d = dict(zip(uni,mylist))\n",
    "    df[str_ar[i]] = [d[item] for item in df[str_ar[i]]]\n",
    "  return df"
   ]
  },
  {
   "cell_type": "code",
   "execution_count": null,
   "metadata": {
    "id": "381BrgdKaYL6"
   },
   "outputs": [],
   "source": [
    "def MissingValuesHandler(df, categ, cont):\n",
    "  for s in categ:\n",
    "    mode = df[s].mode()[0]\n",
    "    df[s] = df[s].replace(\"?\", mode)\n",
    "  for s in cont:\n",
    "    temp = df[s].copy()\n",
    "    temp = temp.replace(\"?\", 0)\n",
    "    temp = temp.replace('nan', 0)\n",
    "    median = temp.median()\n",
    "    df[s] = df[s].replace('?',median)\n",
    "    df[s] = df[s].replace('nan',median)\n",
    "  return df"
   ]
  },
  {
   "cell_type": "code",
   "execution_count": null,
   "metadata": {
    "id": "hGHdghodcGMM"
   },
   "outputs": [],
   "source": [
    "def oneHotFunc(df, categ):\n",
    "  for i in range(len(categ)):\n",
    "    one_hot = pd.get_dummies(df[categ[i]])\n",
    "    names = df[categ[i]].unique()\n",
    "    temp = []\n",
    "    for j in range(len(names)):\n",
    "      temp.append(categ[i] +'_'+ str(names[j]))\n",
    "    one_hot.columns = temp\n",
    "    df = df.drop(categ[i],axis = 1)\n",
    "    df= df.join(one_hot)\n",
    "  print(df.head())\n",
    "  return df"
   ]
  },
  {
   "cell_type": "markdown",
   "metadata": {
    "id": "geCrkHAtOsov"
   },
   "source": [
    "Removal of Outliers using IQR\n",
    "--------------------------------"
   ]
  },
  {
   "cell_type": "markdown",
   "metadata": {
    "id": "A4F4XXdIKI8E"
   },
   "source": [
    "Cylinder Bands\n",
    "------------------"
   ]
  },
  {
   "cell_type": "code",
   "execution_count": null,
   "metadata": {
    "colab": {
     "base_uri": "https://localhost:8080/",
     "height": 211
    },
    "id": "LU2XTJ7rKI8F",
    "outputId": "7f477a25-d151-415e-b1bd-512a372f0710"
   },
   "outputs": [],
   "source": [
    "colnames = ['timestamp', 'cylinder_number', 'customer', 'job_number', 'grain_screened', 'ink_color',\n",
    "'proof_on_ctd_ink', 'blade_mfg', 'cylinder_division', 'paper_type', 'ink_type', 'direct_steam', 'solvent_type',\n",
    "'type_on_cylinder', 'press_type', 'press', 'unit_number', 'cylinder_size', 'paper_mill_location', 'plating_tank',\n",
    "'proof_cut', 'viscosity', 'caliper', 'ink_temperature', 'humifity', 'roughness', 'blade_pressure', 'varnish_pct',\n",
    "'press_speed', 'ink_pct', 'solvent_pct', 'ESA_Voltage', 'ESA_Amperage', 'wax', 'hardener', 'roller_durometer',\n",
    "'current_density', 'anode_space_ratio', 'chrome_content', 'target']\n",
    "df = pd.read_csv(\"drive/MyDrive/Datasets/bands.data\",names=colnames, header=None)\n",
    "df = df.drop('timestamp',1)\n",
    "df.head()"
   ]
  },
  {
   "cell_type": "markdown",
   "metadata": {
    "id": "d-rIht2HKI8G"
   },
   "source": [
    "cylinder number: nominal\n",
    "\n",
    "customer: nominal;\n",
    "\n",
    "job number: nominal;\n",
    "\n",
    "grain screened: nominal; yes, no\n",
    "\n",
    "ink color: nominal;  key, type\n",
    "\n",
    "proof on ctd ink:  nominal;  yes, no  \n",
    "\n",
    "blade mfg: nominal;  benton, daetwyler, uddeholm\n",
    "\n",
    "cylinder division: nominal;  gallatin, warsaw, mattoon\n",
    "\n",
    "paper type: nominal;  uncoated, coated, super\n",
    "\n",
    "ink type: nominal;  uncoated, coated, cover\n",
    "\n",
    "direct steam: nominal; use; yes, no *\n",
    "\n",
    "solvent type: nominal;  xylol, lactol, naptha, line, other\n",
    "\n",
    "type on cylinder:  nominal;  yes, no  \n",
    "\n",
    "press type: nominal; use; 70 wood hoe, 70 motter, 70 albert, 94 motter\n",
    "\n",
    "press: nominal;  821, 802, 813, 824, 815, 816, 827, 828\n",
    "\n",
    "unit number: nominal;  1, 2, 3, 4, 5, 6, 7, 8, 9, 10\n",
    "\n",
    "cylinder size: nominal;  catalog, spiegel, tabloid\n",
    "\n",
    "paper mill location: nominal; north us, south us, canadian, scandanavian, mid european\n",
    "\n",
    "plating tank: nominal; 1910, 1911, other\n",
    "\n",
    "band type: nominal; class; band, no band *"
   ]
  },
  {
   "cell_type": "code",
   "execution_count": null,
   "metadata": {
    "id": "2TnbXHW5YLc_"
   },
   "outputs": [],
   "source": [
    "categ = ['cylinder_number', 'customer', 'job_number', 'grain_screened', 'ink_color',\n",
    "'proof_on_ctd_ink', 'blade_mfg', 'cylinder_division', 'paper_type', 'ink_type', 'direct_steam', 'solvent_type',\n",
    "'type_on_cylinder', 'press_type', 'press', 'unit_number', 'cylinder_size', 'paper_mill_location', 'plating_tank']\n",
    "cont = ['proof_cut', 'viscosity', 'caliper', 'ink_temperature', 'humifity', 'roughness', 'blade_pressure', 'varnish_pct',\n",
    "'press_speed', 'ink_pct', 'solvent_pct', 'ESA_Voltage', 'ESA_Amperage', 'wax', 'hardener', 'roller_durometer',\n",
    "'current_density', 'anode_space_ratio', 'chrome_content']\n",
    "df = MissingValuesHandler(df, categ, cont)"
   ]
  },
  {
   "cell_type": "code",
   "execution_count": null,
   "metadata": {
    "id": "iz6Klt5xKI8I"
   },
   "outputs": [],
   "source": [
    "str_ar = categ.copy()\n",
    "str_ar.append('target')\n",
    "df = MapFunc(df, str_ar)\n",
    "df.head()"
   ]
  },
  {
   "cell_type": "code",
   "execution_count": null,
   "metadata": {
    "id": "AJX7dnmpKI8J"
   },
   "outputs": [],
   "source": [
    "df = df.astype(float)\n",
    "std_dev=df.std()\n",
    "avg=df.mean()\n",
    "for i in str_ar:\n",
    "    std_dev[i]=1\n",
    "    avg[i]=0\n",
    "df= (df- avg)/std_dev"
   ]
  },
  {
   "cell_type": "code",
   "execution_count": null,
   "metadata": {
    "id": "9xTkE_NtKI8J"
   },
   "outputs": [],
   "source": [
    "for j in range(len(categ)):\n",
    "    data_crosstab = pd.crosstab(df.target,df[categ[j]], margins = False)\n",
    "    total=data_crosstab.sum(axis=0)\n",
    "    data_crosstab = data_crosstab/total\n",
    "    print(data_crosstab)\n",
    "    print()\n",
    "    df[categ[j]] = [data_crosstab[df[categ[j]][i]][df['target'][i]] for i in range(len(df))]\n",
    "df['score']=df.sum(axis=1)"
   ]
  },
  {
   "cell_type": "code",
   "execution_count": null,
   "metadata": {
    "id": "XWmm5Mj7KI8K"
   },
   "outputs": [],
   "source": [
    "colnames = ['timestamp', 'cylinder_number', 'customer', 'job_number', 'grain_screened', 'ink_color',\n",
    "'proof_on_ctd_ink', 'blade_mfg', 'cylinder_division', 'paper_type', 'ink_type', 'direct_steam', 'solvent_type',\n",
    "'type_on_cylinder', 'press_type', 'press', 'unit_number', 'cylinder_size', 'paper_mill_location', 'plating_tank',\n",
    "'proof_cut', 'viscosity', 'caliper', 'ink_temperature', 'humifity', 'roughness', 'blade_pressure', 'varnish_pct',\n",
    "'press_speed', 'ink_pct', 'solvent_pct', 'ESA_Voltage', 'ESA_Amperage', 'wax', 'hardener', 'roller_durometer',\n",
    "'current_density', 'anode_space_ratio', 'chrome_content', 'target']\n",
    "original = pd.read_csv(\"drive/MyDrive/Datasets/bands.data\",names=colnames, header=None)\n",
    "original.head()"
   ]
  },
  {
   "cell_type": "code",
   "execution_count": null,
   "metadata": {
    "id": "wTsq13lQKI8L"
   },
   "outputs": [],
   "source": [
    "removeOutliers(df, 'score' ,original)\n",
    "data = filtered_data\n",
    "print(\"Shape of data after outlier removal is: \", data.shape)\n",
    "print(df.shape)\n",
    "# outlier_inst = outlier_inst.drop['target',1]\n",
    "print(outlier_inst)"
   ]
  },
  {
   "cell_type": "code",
   "execution_count": null,
   "metadata": {
    "id": "FtoJJxCSKI8M"
   },
   "outputs": [],
   "source": [
    "data.to_csv('drive/MyDrive/Datasets/IQRAfterRemovingOutliers/band.csv', index = False)"
   ]
  },
  {
   "cell_type": "code",
   "execution_count": null,
   "metadata": {
    "id": "h3Xlx_VzKI8N"
   },
   "outputs": [],
   "source": [
    "classify_df = classify_df.drop('target',1)\n",
    "classify_df.to_csv('drive/MyDrive/Datasets/IQROutlier_Classification/band.csv',index=False)"
   ]
  },
  {
   "cell_type": "markdown",
   "metadata": {
    "id": "4vWcZGBaKdje"
   },
   "source": [
    "Credit\n",
    "------------------"
   ]
  },
  {
   "cell_type": "code",
   "execution_count": null,
   "metadata": {
    "colab": {
     "base_uri": "https://localhost:8080/",
     "height": 206
    },
    "id": "2diYXmBUKdjf",
    "outputId": "be4fa3a9-9b9c-4f70-f91e-db87c50891b5"
   },
   "outputs": [
    {
     "data": {
      "text/html": [
       "\n",
       "  <div id=\"df-129c9f1f-da00-46b1-b94b-d7d294f2da2a\">\n",
       "    <div class=\"colab-df-container\">\n",
       "      <div>\n",
       "<style scoped>\n",
       "    .dataframe tbody tr th:only-of-type {\n",
       "        vertical-align: middle;\n",
       "    }\n",
       "\n",
       "    .dataframe tbody tr th {\n",
       "        vertical-align: top;\n",
       "    }\n",
       "\n",
       "    .dataframe thead th {\n",
       "        text-align: right;\n",
       "    }\n",
       "</style>\n",
       "<table border=\"1\" class=\"dataframe\">\n",
       "  <thead>\n",
       "    <tr style=\"text-align: right;\">\n",
       "      <th></th>\n",
       "      <th>A1</th>\n",
       "      <th>A2</th>\n",
       "      <th>A3</th>\n",
       "      <th>A4</th>\n",
       "      <th>A5</th>\n",
       "      <th>A6</th>\n",
       "      <th>A7</th>\n",
       "      <th>A8</th>\n",
       "      <th>A9</th>\n",
       "      <th>A10</th>\n",
       "      <th>A11</th>\n",
       "      <th>A12</th>\n",
       "      <th>A13</th>\n",
       "      <th>A14</th>\n",
       "      <th>A15</th>\n",
       "      <th>target</th>\n",
       "    </tr>\n",
       "  </thead>\n",
       "  <tbody>\n",
       "    <tr>\n",
       "      <th>0</th>\n",
       "      <td>b</td>\n",
       "      <td>30.83</td>\n",
       "      <td>0.000</td>\n",
       "      <td>u</td>\n",
       "      <td>g</td>\n",
       "      <td>w</td>\n",
       "      <td>v</td>\n",
       "      <td>1.25</td>\n",
       "      <td>t</td>\n",
       "      <td>t</td>\n",
       "      <td>1</td>\n",
       "      <td>f</td>\n",
       "      <td>g</td>\n",
       "      <td>00202</td>\n",
       "      <td>0</td>\n",
       "      <td>+</td>\n",
       "    </tr>\n",
       "    <tr>\n",
       "      <th>1</th>\n",
       "      <td>a</td>\n",
       "      <td>58.67</td>\n",
       "      <td>4.460</td>\n",
       "      <td>u</td>\n",
       "      <td>g</td>\n",
       "      <td>q</td>\n",
       "      <td>h</td>\n",
       "      <td>3.04</td>\n",
       "      <td>t</td>\n",
       "      <td>t</td>\n",
       "      <td>6</td>\n",
       "      <td>f</td>\n",
       "      <td>g</td>\n",
       "      <td>00043</td>\n",
       "      <td>560</td>\n",
       "      <td>+</td>\n",
       "    </tr>\n",
       "    <tr>\n",
       "      <th>2</th>\n",
       "      <td>a</td>\n",
       "      <td>24.50</td>\n",
       "      <td>0.500</td>\n",
       "      <td>u</td>\n",
       "      <td>g</td>\n",
       "      <td>q</td>\n",
       "      <td>h</td>\n",
       "      <td>1.50</td>\n",
       "      <td>t</td>\n",
       "      <td>f</td>\n",
       "      <td>0</td>\n",
       "      <td>f</td>\n",
       "      <td>g</td>\n",
       "      <td>00280</td>\n",
       "      <td>824</td>\n",
       "      <td>+</td>\n",
       "    </tr>\n",
       "    <tr>\n",
       "      <th>3</th>\n",
       "      <td>b</td>\n",
       "      <td>27.83</td>\n",
       "      <td>1.540</td>\n",
       "      <td>u</td>\n",
       "      <td>g</td>\n",
       "      <td>w</td>\n",
       "      <td>v</td>\n",
       "      <td>3.75</td>\n",
       "      <td>t</td>\n",
       "      <td>t</td>\n",
       "      <td>5</td>\n",
       "      <td>t</td>\n",
       "      <td>g</td>\n",
       "      <td>00100</td>\n",
       "      <td>3</td>\n",
       "      <td>+</td>\n",
       "    </tr>\n",
       "    <tr>\n",
       "      <th>4</th>\n",
       "      <td>b</td>\n",
       "      <td>20.17</td>\n",
       "      <td>5.625</td>\n",
       "      <td>u</td>\n",
       "      <td>g</td>\n",
       "      <td>w</td>\n",
       "      <td>v</td>\n",
       "      <td>1.71</td>\n",
       "      <td>t</td>\n",
       "      <td>f</td>\n",
       "      <td>0</td>\n",
       "      <td>f</td>\n",
       "      <td>s</td>\n",
       "      <td>00120</td>\n",
       "      <td>0</td>\n",
       "      <td>+</td>\n",
       "    </tr>\n",
       "  </tbody>\n",
       "</table>\n",
       "</div>\n",
       "      <button class=\"colab-df-convert\" onclick=\"convertToInteractive('df-129c9f1f-da00-46b1-b94b-d7d294f2da2a')\"\n",
       "              title=\"Convert this dataframe to an interactive table.\"\n",
       "              style=\"display:none;\">\n",
       "        \n",
       "  <svg xmlns=\"http://www.w3.org/2000/svg\" height=\"24px\"viewBox=\"0 0 24 24\"\n",
       "       width=\"24px\">\n",
       "    <path d=\"M0 0h24v24H0V0z\" fill=\"none\"/>\n",
       "    <path d=\"M18.56 5.44l.94 2.06.94-2.06 2.06-.94-2.06-.94-.94-2.06-.94 2.06-2.06.94zm-11 1L8.5 8.5l.94-2.06 2.06-.94-2.06-.94L8.5 2.5l-.94 2.06-2.06.94zm10 10l.94 2.06.94-2.06 2.06-.94-2.06-.94-.94-2.06-.94 2.06-2.06.94z\"/><path d=\"M17.41 7.96l-1.37-1.37c-.4-.4-.92-.59-1.43-.59-.52 0-1.04.2-1.43.59L10.3 9.45l-7.72 7.72c-.78.78-.78 2.05 0 2.83L4 21.41c.39.39.9.59 1.41.59.51 0 1.02-.2 1.41-.59l7.78-7.78 2.81-2.81c.8-.78.8-2.07 0-2.86zM5.41 20L4 18.59l7.72-7.72 1.47 1.35L5.41 20z\"/>\n",
       "  </svg>\n",
       "      </button>\n",
       "      \n",
       "  <style>\n",
       "    .colab-df-container {\n",
       "      display:flex;\n",
       "      flex-wrap:wrap;\n",
       "      gap: 12px;\n",
       "    }\n",
       "\n",
       "    .colab-df-convert {\n",
       "      background-color: #E8F0FE;\n",
       "      border: none;\n",
       "      border-radius: 50%;\n",
       "      cursor: pointer;\n",
       "      display: none;\n",
       "      fill: #1967D2;\n",
       "      height: 32px;\n",
       "      padding: 0 0 0 0;\n",
       "      width: 32px;\n",
       "    }\n",
       "\n",
       "    .colab-df-convert:hover {\n",
       "      background-color: #E2EBFA;\n",
       "      box-shadow: 0px 1px 2px rgba(60, 64, 67, 0.3), 0px 1px 3px 1px rgba(60, 64, 67, 0.15);\n",
       "      fill: #174EA6;\n",
       "    }\n",
       "\n",
       "    [theme=dark] .colab-df-convert {\n",
       "      background-color: #3B4455;\n",
       "      fill: #D2E3FC;\n",
       "    }\n",
       "\n",
       "    [theme=dark] .colab-df-convert:hover {\n",
       "      background-color: #434B5C;\n",
       "      box-shadow: 0px 1px 3px 1px rgba(0, 0, 0, 0.15);\n",
       "      filter: drop-shadow(0px 1px 2px rgba(0, 0, 0, 0.3));\n",
       "      fill: #FFFFFF;\n",
       "    }\n",
       "  </style>\n",
       "\n",
       "      <script>\n",
       "        const buttonEl =\n",
       "          document.querySelector('#df-129c9f1f-da00-46b1-b94b-d7d294f2da2a button.colab-df-convert');\n",
       "        buttonEl.style.display =\n",
       "          google.colab.kernel.accessAllowed ? 'block' : 'none';\n",
       "\n",
       "        async function convertToInteractive(key) {\n",
       "          const element = document.querySelector('#df-129c9f1f-da00-46b1-b94b-d7d294f2da2a');\n",
       "          const dataTable =\n",
       "            await google.colab.kernel.invokeFunction('convertToInteractive',\n",
       "                                                     [key], {});\n",
       "          if (!dataTable) return;\n",
       "\n",
       "          const docLinkHtml = 'Like what you see? Visit the ' +\n",
       "            '<a target=\"_blank\" href=https://colab.research.google.com/notebooks/data_table.ipynb>data table notebook</a>'\n",
       "            + ' to learn more about interactive tables.';\n",
       "          element.innerHTML = '';\n",
       "          dataTable['output_type'] = 'display_data';\n",
       "          await google.colab.output.renderOutput(dataTable, element);\n",
       "          const docLink = document.createElement('div');\n",
       "          docLink.innerHTML = docLinkHtml;\n",
       "          element.appendChild(docLink);\n",
       "        }\n",
       "      </script>\n",
       "    </div>\n",
       "  </div>\n",
       "  "
      ],
      "text/plain": [
       "  A1     A2     A3 A4 A5 A6 A7    A8 A9 A10  A11 A12 A13    A14  A15 target\n",
       "0  b  30.83  0.000  u  g  w  v  1.25  t   t    1   f   g  00202    0      +\n",
       "1  a  58.67  4.460  u  g  q  h  3.04  t   t    6   f   g  00043  560      +\n",
       "2  a  24.50  0.500  u  g  q  h  1.50  t   f    0   f   g  00280  824      +\n",
       "3  b  27.83  1.540  u  g  w  v  3.75  t   t    5   t   g  00100    3      +\n",
       "4  b  20.17  5.625  u  g  w  v  1.71  t   f    0   f   s  00120    0      +"
      ]
     },
     "execution_count": 7,
     "metadata": {},
     "output_type": "execute_result"
    }
   ],
   "source": [
    "colnames = ['A1','A2','A3','A4','A5','A6','A7','A8','A9','A10','A11','A12','A13','A14','A15','target']\n",
    "df = pd.read_csv(\"drive/MyDrive/Datasets/creditapproval.data\",names=colnames, header=None)\n",
    "df.head()"
   ]
  },
  {
   "cell_type": "markdown",
   "metadata": {
    "id": "mSyFA1vvKdjg"
   },
   "source": [
    "A1:\t0, 1  ('b', 'a')\n",
    "\n",
    "A4: 0, 1, 2, 3\t('u', 'y', 'l', 't')\n",
    "    \n",
    "A5:\t0, 1, 2  ('g', 'p', 'gg')\n",
    "    \n",
    "A6:\t0, 1, 2, 3, 4, 5, 6, 7, 8, 9, 10, 11, 12, 13  ('c', 'd', 'cc', 'i', 'j', 'k', 'm', 'r', 'q', 'w', 'x', 'e', 'aa', 'ff')\n",
    "\n",
    "A7:\t0, 1, 2, 3, 4, 5, 6, 7, 8 ('v', 'h', 'bb', 'j', 'n', 'z', 'dd', 'ff', 'o')\n",
    "\n",
    "A9:\t0, 1  ('t', 'f')\n",
    "\n",
    "A10: 0, 1  ('t', 'f')\n",
    "\n",
    "A12:\t0, 1  ('t', 'f')\n",
    "\n",
    "A13: 0, 1, 2 ('g', 'p', 's')\n",
    "\n",
    "target: 0, 1 ('+', '-')         (class attribute)"
   ]
  },
  {
   "cell_type": "code",
   "execution_count": null,
   "metadata": {
    "id": "vffbozY8QqFL"
   },
   "outputs": [],
   "source": [
    "categ=['A1','A4','A5','A6','A7','A9','A10','A12','A13']\n",
    "cont=['A2','A3','A8','A11','A14','A15']\n",
    "df = MissingValuesHandler(df, categ, cont)"
   ]
  },
  {
   "cell_type": "code",
   "execution_count": null,
   "metadata": {
    "colab": {
     "base_uri": "https://localhost:8080/",
     "height": 206
    },
    "id": "cj4w24icnmwO",
    "outputId": "c98b5d61-7ca9-485f-b603-6214aef2214c"
   },
   "outputs": [
    {
     "data": {
      "text/html": [
       "\n",
       "  <div id=\"df-68dc1352-400f-40b9-a61f-e582300c2ad4\">\n",
       "    <div class=\"colab-df-container\">\n",
       "      <div>\n",
       "<style scoped>\n",
       "    .dataframe tbody tr th:only-of-type {\n",
       "        vertical-align: middle;\n",
       "    }\n",
       "\n",
       "    .dataframe tbody tr th {\n",
       "        vertical-align: top;\n",
       "    }\n",
       "\n",
       "    .dataframe thead th {\n",
       "        text-align: right;\n",
       "    }\n",
       "</style>\n",
       "<table border=\"1\" class=\"dataframe\">\n",
       "  <thead>\n",
       "    <tr style=\"text-align: right;\">\n",
       "      <th></th>\n",
       "      <th>A1</th>\n",
       "      <th>A2</th>\n",
       "      <th>A3</th>\n",
       "      <th>A4</th>\n",
       "      <th>A5</th>\n",
       "      <th>A6</th>\n",
       "      <th>A7</th>\n",
       "      <th>A8</th>\n",
       "      <th>A9</th>\n",
       "      <th>A10</th>\n",
       "      <th>A11</th>\n",
       "      <th>A12</th>\n",
       "      <th>A13</th>\n",
       "      <th>A14</th>\n",
       "      <th>A15</th>\n",
       "      <th>target</th>\n",
       "    </tr>\n",
       "  </thead>\n",
       "  <tbody>\n",
       "    <tr>\n",
       "      <th>0</th>\n",
       "      <td>0</td>\n",
       "      <td>30.83</td>\n",
       "      <td>0.000</td>\n",
       "      <td>0</td>\n",
       "      <td>0</td>\n",
       "      <td>0</td>\n",
       "      <td>0</td>\n",
       "      <td>1.25</td>\n",
       "      <td>0</td>\n",
       "      <td>0</td>\n",
       "      <td>1</td>\n",
       "      <td>0</td>\n",
       "      <td>0</td>\n",
       "      <td>00202</td>\n",
       "      <td>0</td>\n",
       "      <td>0</td>\n",
       "    </tr>\n",
       "    <tr>\n",
       "      <th>1</th>\n",
       "      <td>1</td>\n",
       "      <td>58.67</td>\n",
       "      <td>4.460</td>\n",
       "      <td>0</td>\n",
       "      <td>0</td>\n",
       "      <td>1</td>\n",
       "      <td>1</td>\n",
       "      <td>3.04</td>\n",
       "      <td>0</td>\n",
       "      <td>0</td>\n",
       "      <td>6</td>\n",
       "      <td>0</td>\n",
       "      <td>0</td>\n",
       "      <td>00043</td>\n",
       "      <td>560</td>\n",
       "      <td>0</td>\n",
       "    </tr>\n",
       "    <tr>\n",
       "      <th>2</th>\n",
       "      <td>1</td>\n",
       "      <td>24.50</td>\n",
       "      <td>0.500</td>\n",
       "      <td>0</td>\n",
       "      <td>0</td>\n",
       "      <td>1</td>\n",
       "      <td>1</td>\n",
       "      <td>1.50</td>\n",
       "      <td>0</td>\n",
       "      <td>1</td>\n",
       "      <td>0</td>\n",
       "      <td>0</td>\n",
       "      <td>0</td>\n",
       "      <td>00280</td>\n",
       "      <td>824</td>\n",
       "      <td>0</td>\n",
       "    </tr>\n",
       "    <tr>\n",
       "      <th>3</th>\n",
       "      <td>0</td>\n",
       "      <td>27.83</td>\n",
       "      <td>1.540</td>\n",
       "      <td>0</td>\n",
       "      <td>0</td>\n",
       "      <td>0</td>\n",
       "      <td>0</td>\n",
       "      <td>3.75</td>\n",
       "      <td>0</td>\n",
       "      <td>0</td>\n",
       "      <td>5</td>\n",
       "      <td>1</td>\n",
       "      <td>0</td>\n",
       "      <td>00100</td>\n",
       "      <td>3</td>\n",
       "      <td>0</td>\n",
       "    </tr>\n",
       "    <tr>\n",
       "      <th>4</th>\n",
       "      <td>0</td>\n",
       "      <td>20.17</td>\n",
       "      <td>5.625</td>\n",
       "      <td>0</td>\n",
       "      <td>0</td>\n",
       "      <td>0</td>\n",
       "      <td>0</td>\n",
       "      <td>1.71</td>\n",
       "      <td>0</td>\n",
       "      <td>1</td>\n",
       "      <td>0</td>\n",
       "      <td>0</td>\n",
       "      <td>1</td>\n",
       "      <td>00120</td>\n",
       "      <td>0</td>\n",
       "      <td>0</td>\n",
       "    </tr>\n",
       "  </tbody>\n",
       "</table>\n",
       "</div>\n",
       "      <button class=\"colab-df-convert\" onclick=\"convertToInteractive('df-68dc1352-400f-40b9-a61f-e582300c2ad4')\"\n",
       "              title=\"Convert this dataframe to an interactive table.\"\n",
       "              style=\"display:none;\">\n",
       "        \n",
       "  <svg xmlns=\"http://www.w3.org/2000/svg\" height=\"24px\"viewBox=\"0 0 24 24\"\n",
       "       width=\"24px\">\n",
       "    <path d=\"M0 0h24v24H0V0z\" fill=\"none\"/>\n",
       "    <path d=\"M18.56 5.44l.94 2.06.94-2.06 2.06-.94-2.06-.94-.94-2.06-.94 2.06-2.06.94zm-11 1L8.5 8.5l.94-2.06 2.06-.94-2.06-.94L8.5 2.5l-.94 2.06-2.06.94zm10 10l.94 2.06.94-2.06 2.06-.94-2.06-.94-.94-2.06-.94 2.06-2.06.94z\"/><path d=\"M17.41 7.96l-1.37-1.37c-.4-.4-.92-.59-1.43-.59-.52 0-1.04.2-1.43.59L10.3 9.45l-7.72 7.72c-.78.78-.78 2.05 0 2.83L4 21.41c.39.39.9.59 1.41.59.51 0 1.02-.2 1.41-.59l7.78-7.78 2.81-2.81c.8-.78.8-2.07 0-2.86zM5.41 20L4 18.59l7.72-7.72 1.47 1.35L5.41 20z\"/>\n",
       "  </svg>\n",
       "      </button>\n",
       "      \n",
       "  <style>\n",
       "    .colab-df-container {\n",
       "      display:flex;\n",
       "      flex-wrap:wrap;\n",
       "      gap: 12px;\n",
       "    }\n",
       "\n",
       "    .colab-df-convert {\n",
       "      background-color: #E8F0FE;\n",
       "      border: none;\n",
       "      border-radius: 50%;\n",
       "      cursor: pointer;\n",
       "      display: none;\n",
       "      fill: #1967D2;\n",
       "      height: 32px;\n",
       "      padding: 0 0 0 0;\n",
       "      width: 32px;\n",
       "    }\n",
       "\n",
       "    .colab-df-convert:hover {\n",
       "      background-color: #E2EBFA;\n",
       "      box-shadow: 0px 1px 2px rgba(60, 64, 67, 0.3), 0px 1px 3px 1px rgba(60, 64, 67, 0.15);\n",
       "      fill: #174EA6;\n",
       "    }\n",
       "\n",
       "    [theme=dark] .colab-df-convert {\n",
       "      background-color: #3B4455;\n",
       "      fill: #D2E3FC;\n",
       "    }\n",
       "\n",
       "    [theme=dark] .colab-df-convert:hover {\n",
       "      background-color: #434B5C;\n",
       "      box-shadow: 0px 1px 3px 1px rgba(0, 0, 0, 0.15);\n",
       "      filter: drop-shadow(0px 1px 2px rgba(0, 0, 0, 0.3));\n",
       "      fill: #FFFFFF;\n",
       "    }\n",
       "  </style>\n",
       "\n",
       "      <script>\n",
       "        const buttonEl =\n",
       "          document.querySelector('#df-68dc1352-400f-40b9-a61f-e582300c2ad4 button.colab-df-convert');\n",
       "        buttonEl.style.display =\n",
       "          google.colab.kernel.accessAllowed ? 'block' : 'none';\n",
       "\n",
       "        async function convertToInteractive(key) {\n",
       "          const element = document.querySelector('#df-68dc1352-400f-40b9-a61f-e582300c2ad4');\n",
       "          const dataTable =\n",
       "            await google.colab.kernel.invokeFunction('convertToInteractive',\n",
       "                                                     [key], {});\n",
       "          if (!dataTable) return;\n",
       "\n",
       "          const docLinkHtml = 'Like what you see? Visit the ' +\n",
       "            '<a target=\"_blank\" href=https://colab.research.google.com/notebooks/data_table.ipynb>data table notebook</a>'\n",
       "            + ' to learn more about interactive tables.';\n",
       "          element.innerHTML = '';\n",
       "          dataTable['output_type'] = 'display_data';\n",
       "          await google.colab.output.renderOutput(dataTable, element);\n",
       "          const docLink = document.createElement('div');\n",
       "          docLink.innerHTML = docLinkHtml;\n",
       "          element.appendChild(docLink);\n",
       "        }\n",
       "      </script>\n",
       "    </div>\n",
       "  </div>\n",
       "  "
      ],
      "text/plain": [
       "   A1     A2     A3  A4  A5  A6  A7    A8  A9  A10  A11  A12  A13    A14  A15  \\\n",
       "0   0  30.83  0.000   0   0   0   0  1.25   0    0    1    0    0  00202    0   \n",
       "1   1  58.67  4.460   0   0   1   1  3.04   0    0    6    0    0  00043  560   \n",
       "2   1  24.50  0.500   0   0   1   1  1.50   0    1    0    0    0  00280  824   \n",
       "3   0  27.83  1.540   0   0   0   0  3.75   0    0    5    1    0  00100    3   \n",
       "4   0  20.17  5.625   0   0   0   0  1.71   0    1    0    0    1  00120    0   \n",
       "\n",
       "   target  \n",
       "0       0  \n",
       "1       0  \n",
       "2       0  \n",
       "3       0  \n",
       "4       0  "
      ]
     },
     "execution_count": 9,
     "metadata": {},
     "output_type": "execute_result"
    }
   ],
   "source": [
    "str_ar= categ.copy()\n",
    "str_ar.append('target')\n",
    "df = MapFunc(df, str_ar)\n",
    "df.head()"
   ]
  },
  {
   "cell_type": "code",
   "execution_count": null,
   "metadata": {
    "id": "Fa4-1gXdKdjh"
   },
   "outputs": [],
   "source": [
    "df = df.astype(float)\n",
    "std_dev=df.std()\n",
    "avg=df.mean()\n",
    "for i in str_ar:\n",
    "    std_dev[i]=1\n",
    "    avg[i]=0\n",
    "df= (df- avg)/std_dev"
   ]
  },
  {
   "cell_type": "code",
   "execution_count": null,
   "metadata": {
    "colab": {
     "base_uri": "https://localhost:8080/"
    },
    "id": "lXX0PTymKdji",
    "outputId": "352a98e1-d0ce-4570-b6ed-e9b0c474f72f"
   },
   "outputs": [
    {
     "name": "stdout",
     "output_type": "stream",
     "text": [
      "A1           0.0       1.0\n",
      "target                    \n",
      "0.0     0.435417  0.466667\n",
      "1.0     0.564583  0.533333\n",
      "\n",
      "A4           0.0       1.0  2.0\n",
      "target                         \n",
      "0.0     0.495238  0.276074  1.0\n",
      "1.0     0.504762  0.723926  0.0\n",
      "\n",
      "A5           0.0       1.0  2.0\n",
      "target                         \n",
      "0.0     0.495238  0.276074  1.0\n",
      "1.0     0.504762  0.723926  0.0\n",
      "\n",
      "A6          0.0       1.0       2.0       3.0       4.0      5.0       6.0   \\\n",
      "target                                                                        \n",
      "0.0     0.515625  0.653846  0.421053  0.666667  0.707317  0.27451  0.452055   \n",
      "1.0     0.484375  0.346154  0.578947  0.333333  0.292683  0.72549  0.547945   \n",
      "\n",
      "A6          7.0       8.0       9.0   10.0      11.0      12.0  13.0  \n",
      "target                                                                \n",
      "0.0     0.233333  0.842105  0.237288  0.56  0.351852  0.132075   0.3  \n",
      "1.0     0.766667  0.157895  0.762712  0.44  0.648148  0.867925   0.7  \n",
      "\n",
      "A7          0.0       1.0       2.0       3.0    4.0   5.0  6.0       7.0  8.0\n",
      "target                                                                        \n",
      "0.0     0.42402  0.630435  0.423729  0.140351  0.375  0.75  0.5  0.333333  0.5\n",
      "1.0     0.57598  0.369565  0.576271  0.859649  0.625  0.25  0.5  0.666667  0.5\n",
      "\n",
      "A9           0.0       1.0\n",
      "target                    \n",
      "0.0     0.786704  0.069909\n",
      "1.0     0.213296  0.930091\n",
      "\n",
      "A10          0.0       1.0\n",
      "target                    \n",
      "0.0     0.708475  0.248101\n",
      "1.0     0.291525  0.751899\n",
      "\n",
      "A12          0.0       1.0\n",
      "target                    \n",
      "0.0     0.430481  0.462025\n",
      "1.0     0.569519  0.537975\n",
      "\n",
      "A13        0.0       1.0    2.0\n",
      "target                         \n",
      "0.0     0.4592  0.263158  0.625\n",
      "1.0     0.5408  0.736842  0.375\n",
      "\n"
     ]
    }
   ],
   "source": [
    "for j in range(len(categ)):\n",
    "    data_crosstab = pd.crosstab(df.target,df[categ[j]], margins = False)\n",
    "    total=data_crosstab.sum(axis=0)\n",
    "    data_crosstab = data_crosstab/total\n",
    "    print(data_crosstab)\n",
    "    print()\n",
    "    df[categ[j]] = [data_crosstab[df[categ[j]][i]][df['target'][i]] for i in range(len(df))]\n",
    "df['score']=df.sum(axis=1)"
   ]
  },
  {
   "cell_type": "code",
   "execution_count": null,
   "metadata": {
    "colab": {
     "base_uri": "https://localhost:8080/",
     "height": 206
    },
    "id": "B9BIF_AXKdji",
    "outputId": "19db9eae-be0f-4af4-fcca-56a4636c67c1"
   },
   "outputs": [
    {
     "data": {
      "text/html": [
       "\n",
       "  <div id=\"df-eb4adb80-902e-4f76-8d99-d806cce99af5\">\n",
       "    <div class=\"colab-df-container\">\n",
       "      <div>\n",
       "<style scoped>\n",
       "    .dataframe tbody tr th:only-of-type {\n",
       "        vertical-align: middle;\n",
       "    }\n",
       "\n",
       "    .dataframe tbody tr th {\n",
       "        vertical-align: top;\n",
       "    }\n",
       "\n",
       "    .dataframe thead th {\n",
       "        text-align: right;\n",
       "    }\n",
       "</style>\n",
       "<table border=\"1\" class=\"dataframe\">\n",
       "  <thead>\n",
       "    <tr style=\"text-align: right;\">\n",
       "      <th></th>\n",
       "      <th>A1</th>\n",
       "      <th>A2</th>\n",
       "      <th>A3</th>\n",
       "      <th>A4</th>\n",
       "      <th>A5</th>\n",
       "      <th>A6</th>\n",
       "      <th>A7</th>\n",
       "      <th>A8</th>\n",
       "      <th>A9</th>\n",
       "      <th>A10</th>\n",
       "      <th>A11</th>\n",
       "      <th>A12</th>\n",
       "      <th>A13</th>\n",
       "      <th>A14</th>\n",
       "      <th>A15</th>\n",
       "      <th>target</th>\n",
       "    </tr>\n",
       "  </thead>\n",
       "  <tbody>\n",
       "    <tr>\n",
       "      <th>0</th>\n",
       "      <td>b</td>\n",
       "      <td>30.83</td>\n",
       "      <td>0.000</td>\n",
       "      <td>u</td>\n",
       "      <td>g</td>\n",
       "      <td>w</td>\n",
       "      <td>v</td>\n",
       "      <td>1.25</td>\n",
       "      <td>t</td>\n",
       "      <td>t</td>\n",
       "      <td>1</td>\n",
       "      <td>f</td>\n",
       "      <td>g</td>\n",
       "      <td>00202</td>\n",
       "      <td>0</td>\n",
       "      <td>+</td>\n",
       "    </tr>\n",
       "    <tr>\n",
       "      <th>1</th>\n",
       "      <td>a</td>\n",
       "      <td>58.67</td>\n",
       "      <td>4.460</td>\n",
       "      <td>u</td>\n",
       "      <td>g</td>\n",
       "      <td>q</td>\n",
       "      <td>h</td>\n",
       "      <td>3.04</td>\n",
       "      <td>t</td>\n",
       "      <td>t</td>\n",
       "      <td>6</td>\n",
       "      <td>f</td>\n",
       "      <td>g</td>\n",
       "      <td>00043</td>\n",
       "      <td>560</td>\n",
       "      <td>+</td>\n",
       "    </tr>\n",
       "    <tr>\n",
       "      <th>2</th>\n",
       "      <td>a</td>\n",
       "      <td>24.50</td>\n",
       "      <td>0.500</td>\n",
       "      <td>u</td>\n",
       "      <td>g</td>\n",
       "      <td>q</td>\n",
       "      <td>h</td>\n",
       "      <td>1.50</td>\n",
       "      <td>t</td>\n",
       "      <td>f</td>\n",
       "      <td>0</td>\n",
       "      <td>f</td>\n",
       "      <td>g</td>\n",
       "      <td>00280</td>\n",
       "      <td>824</td>\n",
       "      <td>+</td>\n",
       "    </tr>\n",
       "    <tr>\n",
       "      <th>3</th>\n",
       "      <td>b</td>\n",
       "      <td>27.83</td>\n",
       "      <td>1.540</td>\n",
       "      <td>u</td>\n",
       "      <td>g</td>\n",
       "      <td>w</td>\n",
       "      <td>v</td>\n",
       "      <td>3.75</td>\n",
       "      <td>t</td>\n",
       "      <td>t</td>\n",
       "      <td>5</td>\n",
       "      <td>t</td>\n",
       "      <td>g</td>\n",
       "      <td>00100</td>\n",
       "      <td>3</td>\n",
       "      <td>+</td>\n",
       "    </tr>\n",
       "    <tr>\n",
       "      <th>4</th>\n",
       "      <td>b</td>\n",
       "      <td>20.17</td>\n",
       "      <td>5.625</td>\n",
       "      <td>u</td>\n",
       "      <td>g</td>\n",
       "      <td>w</td>\n",
       "      <td>v</td>\n",
       "      <td>1.71</td>\n",
       "      <td>t</td>\n",
       "      <td>f</td>\n",
       "      <td>0</td>\n",
       "      <td>f</td>\n",
       "      <td>s</td>\n",
       "      <td>00120</td>\n",
       "      <td>0</td>\n",
       "      <td>+</td>\n",
       "    </tr>\n",
       "  </tbody>\n",
       "</table>\n",
       "</div>\n",
       "      <button class=\"colab-df-convert\" onclick=\"convertToInteractive('df-eb4adb80-902e-4f76-8d99-d806cce99af5')\"\n",
       "              title=\"Convert this dataframe to an interactive table.\"\n",
       "              style=\"display:none;\">\n",
       "        \n",
       "  <svg xmlns=\"http://www.w3.org/2000/svg\" height=\"24px\"viewBox=\"0 0 24 24\"\n",
       "       width=\"24px\">\n",
       "    <path d=\"M0 0h24v24H0V0z\" fill=\"none\"/>\n",
       "    <path d=\"M18.56 5.44l.94 2.06.94-2.06 2.06-.94-2.06-.94-.94-2.06-.94 2.06-2.06.94zm-11 1L8.5 8.5l.94-2.06 2.06-.94-2.06-.94L8.5 2.5l-.94 2.06-2.06.94zm10 10l.94 2.06.94-2.06 2.06-.94-2.06-.94-.94-2.06-.94 2.06-2.06.94z\"/><path d=\"M17.41 7.96l-1.37-1.37c-.4-.4-.92-.59-1.43-.59-.52 0-1.04.2-1.43.59L10.3 9.45l-7.72 7.72c-.78.78-.78 2.05 0 2.83L4 21.41c.39.39.9.59 1.41.59.51 0 1.02-.2 1.41-.59l7.78-7.78 2.81-2.81c.8-.78.8-2.07 0-2.86zM5.41 20L4 18.59l7.72-7.72 1.47 1.35L5.41 20z\"/>\n",
       "  </svg>\n",
       "      </button>\n",
       "      \n",
       "  <style>\n",
       "    .colab-df-container {\n",
       "      display:flex;\n",
       "      flex-wrap:wrap;\n",
       "      gap: 12px;\n",
       "    }\n",
       "\n",
       "    .colab-df-convert {\n",
       "      background-color: #E8F0FE;\n",
       "      border: none;\n",
       "      border-radius: 50%;\n",
       "      cursor: pointer;\n",
       "      display: none;\n",
       "      fill: #1967D2;\n",
       "      height: 32px;\n",
       "      padding: 0 0 0 0;\n",
       "      width: 32px;\n",
       "    }\n",
       "\n",
       "    .colab-df-convert:hover {\n",
       "      background-color: #E2EBFA;\n",
       "      box-shadow: 0px 1px 2px rgba(60, 64, 67, 0.3), 0px 1px 3px 1px rgba(60, 64, 67, 0.15);\n",
       "      fill: #174EA6;\n",
       "    }\n",
       "\n",
       "    [theme=dark] .colab-df-convert {\n",
       "      background-color: #3B4455;\n",
       "      fill: #D2E3FC;\n",
       "    }\n",
       "\n",
       "    [theme=dark] .colab-df-convert:hover {\n",
       "      background-color: #434B5C;\n",
       "      box-shadow: 0px 1px 3px 1px rgba(0, 0, 0, 0.15);\n",
       "      filter: drop-shadow(0px 1px 2px rgba(0, 0, 0, 0.3));\n",
       "      fill: #FFFFFF;\n",
       "    }\n",
       "  </style>\n",
       "\n",
       "      <script>\n",
       "        const buttonEl =\n",
       "          document.querySelector('#df-eb4adb80-902e-4f76-8d99-d806cce99af5 button.colab-df-convert');\n",
       "        buttonEl.style.display =\n",
       "          google.colab.kernel.accessAllowed ? 'block' : 'none';\n",
       "\n",
       "        async function convertToInteractive(key) {\n",
       "          const element = document.querySelector('#df-eb4adb80-902e-4f76-8d99-d806cce99af5');\n",
       "          const dataTable =\n",
       "            await google.colab.kernel.invokeFunction('convertToInteractive',\n",
       "                                                     [key], {});\n",
       "          if (!dataTable) return;\n",
       "\n",
       "          const docLinkHtml = 'Like what you see? Visit the ' +\n",
       "            '<a target=\"_blank\" href=https://colab.research.google.com/notebooks/data_table.ipynb>data table notebook</a>'\n",
       "            + ' to learn more about interactive tables.';\n",
       "          element.innerHTML = '';\n",
       "          dataTable['output_type'] = 'display_data';\n",
       "          await google.colab.output.renderOutput(dataTable, element);\n",
       "          const docLink = document.createElement('div');\n",
       "          docLink.innerHTML = docLinkHtml;\n",
       "          element.appendChild(docLink);\n",
       "        }\n",
       "      </script>\n",
       "    </div>\n",
       "  </div>\n",
       "  "
      ],
      "text/plain": [
       "  A1     A2     A3 A4 A5 A6 A7    A8 A9 A10  A11 A12 A13    A14  A15 target\n",
       "0  b  30.83  0.000  u  g  w  v  1.25  t   t    1   f   g  00202    0      +\n",
       "1  a  58.67  4.460  u  g  q  h  3.04  t   t    6   f   g  00043  560      +\n",
       "2  a  24.50  0.500  u  g  q  h  1.50  t   f    0   f   g  00280  824      +\n",
       "3  b  27.83  1.540  u  g  w  v  3.75  t   t    5   t   g  00100    3      +\n",
       "4  b  20.17  5.625  u  g  w  v  1.71  t   f    0   f   s  00120    0      +"
      ]
     },
     "execution_count": 12,
     "metadata": {},
     "output_type": "execute_result"
    }
   ],
   "source": [
    "colnames = ['A1','A2','A3','A4','A5','A6','A7','A8','A9','A10','A11','A12','A13','A14','A15','target']\n",
    "original = pd.read_csv(\"drive/MyDrive/Datasets/creditapproval.data\",names=colnames, header=None)\n",
    "original.head()"
   ]
  },
  {
   "cell_type": "code",
   "execution_count": null,
   "metadata": {
    "colab": {
     "base_uri": "https://localhost:8080/"
    },
    "id": "kk--pp8BKdjj",
    "outputId": "a6cb156c-e81f-411f-a55a-77e5047cf994"
   },
   "outputs": [
    {
     "name": "stdout",
     "output_type": "stream",
     "text": [
      "Shape of data after outlier removal is:  (655, 16)\n",
      "(690, 17)\n",
      "    A1     A2      A3 A4  A5  A6  A7      A8 A9 A10  A11 A12 A13    A14  \\\n",
      "27   b  56.58  18.500  u   g   d  bb  15.000  t   t   17   t   g  00000   \n",
      "39   b  54.58   9.415  u   g  ff  ff  14.415  t   t   11   t   g  00030   \n",
      "44   b  56.42  28.000  y   p   c   v  28.500  t   t   40   f   g  00000   \n",
      "65   b  34.17   1.540  u   g  cc   v   1.540  t   t    1   t   g  00520   \n",
      "69   b  35.17  25.125  u   g   x   h   1.625  t   t    1   t   g  00515   \n",
      "72   a  38.58   5.000  u   g  cc   v  13.500  t   f    0   t   g  00980   \n",
      "105  b  54.83  15.500  u   g   e   z   0.000  t   t   20   f   g  00152   \n",
      "117  b  52.50   6.500  u   g   k   v   6.290  t   t   15   f   g  00000   \n",
      "118  b  57.83   7.040  u   g   m   v  14.000  t   t    6   t   g  00360   \n",
      "121  b  25.67  12.500  u   g  cc   v   1.210  t   t   67   t   g  00140   \n",
      "132  a  47.42   8.000  u   g   e  bb   6.500  t   t    6   f   g  00375   \n",
      "149  a  52.83  15.000  u   g   c   v   5.500  t   t   14   f   g  00000   \n",
      "157  a  68.67  15.000  u   g   e   z   0.000  t   t   14   f   g  00000   \n",
      "164  a  60.58  16.500  u   g   q   v  11.000  t   f    0   t   g  00021   \n",
      "180  b  47.67   0.290  u   g   c  bb  15.000  t   t   20   f   g  00000   \n",
      "183  a  57.08  19.500  u   g   c   v   5.500  t   t    7   f   g  00000   \n",
      "185  b  48.75   8.500  u   g   c   h  12.500  t   t    9   f   g  00181   \n",
      "197  b  48.17   7.625  u   g   w   h  15.500  t   t   12   f   g  00000   \n",
      "205  a  35.42  12.000  u   g   q   h  14.000  t   t    8   f   g  00000   \n",
      "210  b  39.33   5.875  u   g  cc   h  10.000  t   t   14   t   g  00399   \n",
      "212  b  60.08  14.500  u   g  ff  ff  18.000  t   t   15   t   g  00000   \n",
      "221  b  65.42  11.000  u   g   e   z  20.000  t   t    7   t   g  00022   \n",
      "231  a  47.42   3.000  u   g   x   v  13.875  t   t    2   t   g  00519   \n",
      "234  a  58.42  21.000  u   g   i  bb  10.000  t   t   13   f   g  00000   \n",
      "250  b  40.25  21.500  u   g   e   z  20.000  t   t   11   f   g  00000   \n",
      "317  b  17.50  22.000  l  gg  ff   o   0.000  f   f    0   t   p  00450   \n",
      "327  ?  40.83   3.500  u   g   i  bb   0.500  f   f    0   f   s  01160   \n",
      "407  a  19.58   0.665  y   p   c   v   1.000  f   t    1   f   g  02000   \n",
      "485  b  74.83  19.000  y   p  ff  ff   0.040  f   t    2   f   g  00000   \n",
      "492  b  39.25   9.500  u   g   m   v   6.500  t   t   14   f   g  00240   \n",
      "505  b  31.33  19.500  u   g   c   v   7.000  t   t   16   f   g  00000   \n",
      "529  b  43.25  25.210  u   g   q   h   0.210  t   t    1   f   g  00760   \n",
      "550  b  76.75  22.290  u   g   e   z  12.750  t   t    1   t   g  00000   \n",
      "586  b  64.08  20.000  u   g   x   h  17.500  t   t    9   t   g  00000   \n",
      "606  b  16.17   0.040  u   g   c   v   0.040  f   f    0   f   g  00000   \n",
      "\n",
      "        A15 target  \n",
      "27        0      +  \n",
      "39      300      +  \n",
      "44       15      +  \n",
      "65    50000      +  \n",
      "69      500      +  \n",
      "72        0      -  \n",
      "105     130      -  \n",
      "117   11202      +  \n",
      "118    1332      +  \n",
      "121     258      +  \n",
      "132   51100      +  \n",
      "149    2200      +  \n",
      "157    3376      +  \n",
      "164   10561      +  \n",
      "180   15000      +  \n",
      "183    3000      +  \n",
      "185    1655      +  \n",
      "197     790      +  \n",
      "205    6590      +  \n",
      "210       0      +  \n",
      "212    1000      +  \n",
      "221       0      +  \n",
      "231    1704      +  \n",
      "234    6700      +  \n",
      "250    1200      +  \n",
      "317  100000      +  \n",
      "327       0      -  \n",
      "407       2      -  \n",
      "485     351      -  \n",
      "492    4607      +  \n",
      "505    5000      +  \n",
      "529      90      -  \n",
      "550     109      +  \n",
      "586    1000      +  \n",
      "606       0      +  \n"
     ]
    },
    {
     "name": "stderr",
     "output_type": "stream",
     "text": [
      "/usr/local/lib/python3.7/dist-packages/ipykernel_launcher.py:18: SettingWithCopyWarning: \n",
      "A value is trying to be set on a copy of a slice from a DataFrame\n",
      "\n",
      "See the caveats in the documentation: https://pandas.pydata.org/pandas-docs/stable/user_guide/indexing.html#returning-a-view-versus-a-copy\n"
     ]
    }
   ],
   "source": [
    "removeOutliers(df, 'score' ,original)\n",
    "data = filtered_data\n",
    "print(\"Shape of data after outlier removal is: \", data.shape)\n",
    "print(df.shape)\n",
    "# outlier_inst = outlier_inst.drop['target',1]\n",
    "print(outlier_inst)"
   ]
  },
  {
   "cell_type": "code",
   "execution_count": null,
   "metadata": {
    "id": "GddDkR_vKdjk"
   },
   "outputs": [],
   "source": [
    "data.to_csv('drive/MyDrive/Datasets/IQRAfterRemovingOutliers/credit.csv', index = False)"
   ]
  },
  {
   "cell_type": "code",
   "execution_count": null,
   "metadata": {
    "colab": {
     "base_uri": "https://localhost:8080/"
    },
    "id": "V_lh12eSKdjk",
    "outputId": "98691123-6039-40d3-e280-7be81ce40b6c"
   },
   "outputs": [
    {
     "name": "stderr",
     "output_type": "stream",
     "text": [
      "/usr/local/lib/python3.7/dist-packages/ipykernel_launcher.py:1: FutureWarning: In a future version of pandas all arguments of DataFrame.drop except for the argument 'labels' will be keyword-only\n",
      "  \"\"\"Entry point for launching an IPython kernel.\n"
     ]
    }
   ],
   "source": [
    "classify_df = classify_df.drop('target',1)\n",
    "classify_df.to_csv('drive/MyDrive/Datasets/IQROutlier_Classification/credit.csv',index=False)"
   ]
  },
  {
   "cell_type": "markdown",
   "metadata": {
    "id": "VHTgM4i3RfMz"
   },
   "source": [
    "German\n",
    "------------------"
   ]
  },
  {
   "cell_type": "code",
   "execution_count": null,
   "metadata": {
    "colab": {
     "base_uri": "https://localhost:8080/",
     "height": 206
    },
    "id": "wtGKkwVTRfMz",
    "outputId": "7f49ee12-273b-44a1-af4d-510001a4a674"
   },
   "outputs": [
    {
     "data": {
      "text/html": [
       "\n",
       "  <div id=\"df-647ed212-8606-4b07-a8be-7a7e6cabc111\">\n",
       "    <div class=\"colab-df-container\">\n",
       "      <div>\n",
       "<style scoped>\n",
       "    .dataframe tbody tr th:only-of-type {\n",
       "        vertical-align: middle;\n",
       "    }\n",
       "\n",
       "    .dataframe tbody tr th {\n",
       "        vertical-align: top;\n",
       "    }\n",
       "\n",
       "    .dataframe thead th {\n",
       "        text-align: right;\n",
       "    }\n",
       "</style>\n",
       "<table border=\"1\" class=\"dataframe\">\n",
       "  <thead>\n",
       "    <tr style=\"text-align: right;\">\n",
       "      <th></th>\n",
       "      <th>A1</th>\n",
       "      <th>A2</th>\n",
       "      <th>A3</th>\n",
       "      <th>A4</th>\n",
       "      <th>A5</th>\n",
       "      <th>A6</th>\n",
       "      <th>A7</th>\n",
       "      <th>A8</th>\n",
       "      <th>A9</th>\n",
       "      <th>A10</th>\n",
       "      <th>A11</th>\n",
       "      <th>A12</th>\n",
       "      <th>A13</th>\n",
       "      <th>A14</th>\n",
       "      <th>A15</th>\n",
       "      <th>A16</th>\n",
       "      <th>A17</th>\n",
       "      <th>A18</th>\n",
       "      <th>A19</th>\n",
       "      <th>A20</th>\n",
       "      <th>target</th>\n",
       "    </tr>\n",
       "  </thead>\n",
       "  <tbody>\n",
       "    <tr>\n",
       "      <th>0</th>\n",
       "      <td>A11</td>\n",
       "      <td>6</td>\n",
       "      <td>A34</td>\n",
       "      <td>A43</td>\n",
       "      <td>1169</td>\n",
       "      <td>A65</td>\n",
       "      <td>A75</td>\n",
       "      <td>4</td>\n",
       "      <td>A93</td>\n",
       "      <td>A101</td>\n",
       "      <td>4</td>\n",
       "      <td>A121</td>\n",
       "      <td>67</td>\n",
       "      <td>A143</td>\n",
       "      <td>A152</td>\n",
       "      <td>2</td>\n",
       "      <td>A173</td>\n",
       "      <td>1</td>\n",
       "      <td>A192</td>\n",
       "      <td>A201</td>\n",
       "      <td>1</td>\n",
       "    </tr>\n",
       "    <tr>\n",
       "      <th>1</th>\n",
       "      <td>A12</td>\n",
       "      <td>48</td>\n",
       "      <td>A32</td>\n",
       "      <td>A43</td>\n",
       "      <td>5951</td>\n",
       "      <td>A61</td>\n",
       "      <td>A73</td>\n",
       "      <td>2</td>\n",
       "      <td>A92</td>\n",
       "      <td>A101</td>\n",
       "      <td>2</td>\n",
       "      <td>A121</td>\n",
       "      <td>22</td>\n",
       "      <td>A143</td>\n",
       "      <td>A152</td>\n",
       "      <td>1</td>\n",
       "      <td>A173</td>\n",
       "      <td>1</td>\n",
       "      <td>A191</td>\n",
       "      <td>A201</td>\n",
       "      <td>2</td>\n",
       "    </tr>\n",
       "    <tr>\n",
       "      <th>2</th>\n",
       "      <td>A14</td>\n",
       "      <td>12</td>\n",
       "      <td>A34</td>\n",
       "      <td>A46</td>\n",
       "      <td>2096</td>\n",
       "      <td>A61</td>\n",
       "      <td>A74</td>\n",
       "      <td>2</td>\n",
       "      <td>A93</td>\n",
       "      <td>A101</td>\n",
       "      <td>3</td>\n",
       "      <td>A121</td>\n",
       "      <td>49</td>\n",
       "      <td>A143</td>\n",
       "      <td>A152</td>\n",
       "      <td>1</td>\n",
       "      <td>A172</td>\n",
       "      <td>2</td>\n",
       "      <td>A191</td>\n",
       "      <td>A201</td>\n",
       "      <td>1</td>\n",
       "    </tr>\n",
       "    <tr>\n",
       "      <th>3</th>\n",
       "      <td>A11</td>\n",
       "      <td>42</td>\n",
       "      <td>A32</td>\n",
       "      <td>A42</td>\n",
       "      <td>7882</td>\n",
       "      <td>A61</td>\n",
       "      <td>A74</td>\n",
       "      <td>2</td>\n",
       "      <td>A93</td>\n",
       "      <td>A103</td>\n",
       "      <td>4</td>\n",
       "      <td>A122</td>\n",
       "      <td>45</td>\n",
       "      <td>A143</td>\n",
       "      <td>A153</td>\n",
       "      <td>1</td>\n",
       "      <td>A173</td>\n",
       "      <td>2</td>\n",
       "      <td>A191</td>\n",
       "      <td>A201</td>\n",
       "      <td>1</td>\n",
       "    </tr>\n",
       "    <tr>\n",
       "      <th>4</th>\n",
       "      <td>A11</td>\n",
       "      <td>24</td>\n",
       "      <td>A33</td>\n",
       "      <td>A40</td>\n",
       "      <td>4870</td>\n",
       "      <td>A61</td>\n",
       "      <td>A73</td>\n",
       "      <td>3</td>\n",
       "      <td>A93</td>\n",
       "      <td>A101</td>\n",
       "      <td>4</td>\n",
       "      <td>A124</td>\n",
       "      <td>53</td>\n",
       "      <td>A143</td>\n",
       "      <td>A153</td>\n",
       "      <td>2</td>\n",
       "      <td>A173</td>\n",
       "      <td>2</td>\n",
       "      <td>A191</td>\n",
       "      <td>A201</td>\n",
       "      <td>2</td>\n",
       "    </tr>\n",
       "  </tbody>\n",
       "</table>\n",
       "</div>\n",
       "      <button class=\"colab-df-convert\" onclick=\"convertToInteractive('df-647ed212-8606-4b07-a8be-7a7e6cabc111')\"\n",
       "              title=\"Convert this dataframe to an interactive table.\"\n",
       "              style=\"display:none;\">\n",
       "        \n",
       "  <svg xmlns=\"http://www.w3.org/2000/svg\" height=\"24px\"viewBox=\"0 0 24 24\"\n",
       "       width=\"24px\">\n",
       "    <path d=\"M0 0h24v24H0V0z\" fill=\"none\"/>\n",
       "    <path d=\"M18.56 5.44l.94 2.06.94-2.06 2.06-.94-2.06-.94-.94-2.06-.94 2.06-2.06.94zm-11 1L8.5 8.5l.94-2.06 2.06-.94-2.06-.94L8.5 2.5l-.94 2.06-2.06.94zm10 10l.94 2.06.94-2.06 2.06-.94-2.06-.94-.94-2.06-.94 2.06-2.06.94z\"/><path d=\"M17.41 7.96l-1.37-1.37c-.4-.4-.92-.59-1.43-.59-.52 0-1.04.2-1.43.59L10.3 9.45l-7.72 7.72c-.78.78-.78 2.05 0 2.83L4 21.41c.39.39.9.59 1.41.59.51 0 1.02-.2 1.41-.59l7.78-7.78 2.81-2.81c.8-.78.8-2.07 0-2.86zM5.41 20L4 18.59l7.72-7.72 1.47 1.35L5.41 20z\"/>\n",
       "  </svg>\n",
       "      </button>\n",
       "      \n",
       "  <style>\n",
       "    .colab-df-container {\n",
       "      display:flex;\n",
       "      flex-wrap:wrap;\n",
       "      gap: 12px;\n",
       "    }\n",
       "\n",
       "    .colab-df-convert {\n",
       "      background-color: #E8F0FE;\n",
       "      border: none;\n",
       "      border-radius: 50%;\n",
       "      cursor: pointer;\n",
       "      display: none;\n",
       "      fill: #1967D2;\n",
       "      height: 32px;\n",
       "      padding: 0 0 0 0;\n",
       "      width: 32px;\n",
       "    }\n",
       "\n",
       "    .colab-df-convert:hover {\n",
       "      background-color: #E2EBFA;\n",
       "      box-shadow: 0px 1px 2px rgba(60, 64, 67, 0.3), 0px 1px 3px 1px rgba(60, 64, 67, 0.15);\n",
       "      fill: #174EA6;\n",
       "    }\n",
       "\n",
       "    [theme=dark] .colab-df-convert {\n",
       "      background-color: #3B4455;\n",
       "      fill: #D2E3FC;\n",
       "    }\n",
       "\n",
       "    [theme=dark] .colab-df-convert:hover {\n",
       "      background-color: #434B5C;\n",
       "      box-shadow: 0px 1px 3px 1px rgba(0, 0, 0, 0.15);\n",
       "      filter: drop-shadow(0px 1px 2px rgba(0, 0, 0, 0.3));\n",
       "      fill: #FFFFFF;\n",
       "    }\n",
       "  </style>\n",
       "\n",
       "      <script>\n",
       "        const buttonEl =\n",
       "          document.querySelector('#df-647ed212-8606-4b07-a8be-7a7e6cabc111 button.colab-df-convert');\n",
       "        buttonEl.style.display =\n",
       "          google.colab.kernel.accessAllowed ? 'block' : 'none';\n",
       "\n",
       "        async function convertToInteractive(key) {\n",
       "          const element = document.querySelector('#df-647ed212-8606-4b07-a8be-7a7e6cabc111');\n",
       "          const dataTable =\n",
       "            await google.colab.kernel.invokeFunction('convertToInteractive',\n",
       "                                                     [key], {});\n",
       "          if (!dataTable) return;\n",
       "\n",
       "          const docLinkHtml = 'Like what you see? Visit the ' +\n",
       "            '<a target=\"_blank\" href=https://colab.research.google.com/notebooks/data_table.ipynb>data table notebook</a>'\n",
       "            + ' to learn more about interactive tables.';\n",
       "          element.innerHTML = '';\n",
       "          dataTable['output_type'] = 'display_data';\n",
       "          await google.colab.output.renderOutput(dataTable, element);\n",
       "          const docLink = document.createElement('div');\n",
       "          docLink.innerHTML = docLinkHtml;\n",
       "          element.appendChild(docLink);\n",
       "        }\n",
       "      </script>\n",
       "    </div>\n",
       "  </div>\n",
       "  "
      ],
      "text/plain": [
       "    A1  A2   A3   A4    A5   A6   A7  ...   A15 A16   A17  A18   A19   A20 target\n",
       "0  A11   6  A34  A43  1169  A65  A75  ...  A152   2  A173    1  A192  A201      1\n",
       "1  A12  48  A32  A43  5951  A61  A73  ...  A152   1  A173    1  A191  A201      2\n",
       "2  A14  12  A34  A46  2096  A61  A74  ...  A152   1  A172    2  A191  A201      1\n",
       "3  A11  42  A32  A42  7882  A61  A74  ...  A153   1  A173    2  A191  A201      1\n",
       "4  A11  24  A33  A40  4870  A61  A73  ...  A153   2  A173    2  A191  A201      2\n",
       "\n",
       "[5 rows x 21 columns]"
      ]
     },
     "execution_count": 71,
     "metadata": {},
     "output_type": "execute_result"
    }
   ],
   "source": [
    "colnames = ['A1','A2','A3','A4','A5','A6','A7','A8','A9','A10','A11','A12','A13','A14','A15','A16','A17','A18','A19','A20','target']\n",
    "df = pd.read_csv(\"drive/MyDrive/Datasets/german.data\",delimiter=' ',names=colnames, header=None)\n",
    "df.head()"
   ]
  },
  {
   "cell_type": "markdown",
   "metadata": {
    "id": "uz4SF-XXRfMz"
   },
   "source": [
    "Categorical attributes:\n",
    "\n",
    "A1: 0, 1, 2, 3 ('A11', 'A12', 'A14', 'A13')\n",
    "\n",
    "A3:\t0, 1, 2, 3, 4  ('A34', 'A32', 'A33', 'A30', 'A31')\n",
    "\n",
    "A4: 0, 1, 2, 3, 4, 5, 6, 7, 8, 9 ('A43', 'A46', 'A42', 'A40', 'A41', 'A49', 'A44', 'A45', 'A410',\n",
    "       'A48')\n",
    "\n",
    "A6:\t 0, 1, 2, 3, 4  ('A65', 'A61', 'A63', 'A64', 'A62')\n",
    "\n",
    "A7:\t0, 1, 2, 3, 4  ('A75', 'A73', 'A74', 'A71', 'A72')\n",
    "\n",
    "A9: 0, 1, 2, 3,\t('A93', 'A92', 'A91', 'A94')\n",
    "\n",
    "A10: 0, 1, 2 ('A101', 'A103', 'A102')\n",
    "\n",
    "A12: 0, 1, 2, 3  ('A121', 'A122', 'A124', 'A123')\n",
    "\n",
    "A14: 0, 1, 2 ('A143', 'A141', 'A142')\n",
    "\n",
    "A15: 0, 1, 2 ('A152', 'A153', 'A151')\n",
    "\n",
    "A17: 0, 1, 2, 3 ('A173', 'A172', 'A174', 'A171')\n",
    "\n",
    "A19: 0, 1 ('A192', 'A191')\n",
    "\n",
    "A20: 0, 1 ('A201', 'A202)\n",
    "\n",
    "target: 1, 2"
   ]
  },
  {
   "cell_type": "code",
   "execution_count": null,
   "metadata": {
    "colab": {
     "base_uri": "https://localhost:8080/",
     "height": 206
    },
    "id": "-YhmDne7oc3l",
    "outputId": "a96a094e-9965-4818-a739-5c59c76430db"
   },
   "outputs": [
    {
     "data": {
      "text/html": [
       "\n",
       "  <div id=\"df-cd72a620-7b57-4976-b1d4-44b585b76c92\">\n",
       "    <div class=\"colab-df-container\">\n",
       "      <div>\n",
       "<style scoped>\n",
       "    .dataframe tbody tr th:only-of-type {\n",
       "        vertical-align: middle;\n",
       "    }\n",
       "\n",
       "    .dataframe tbody tr th {\n",
       "        vertical-align: top;\n",
       "    }\n",
       "\n",
       "    .dataframe thead th {\n",
       "        text-align: right;\n",
       "    }\n",
       "</style>\n",
       "<table border=\"1\" class=\"dataframe\">\n",
       "  <thead>\n",
       "    <tr style=\"text-align: right;\">\n",
       "      <th></th>\n",
       "      <th>A1</th>\n",
       "      <th>A2</th>\n",
       "      <th>A3</th>\n",
       "      <th>A4</th>\n",
       "      <th>A5</th>\n",
       "      <th>A6</th>\n",
       "      <th>A7</th>\n",
       "      <th>A8</th>\n",
       "      <th>A9</th>\n",
       "      <th>A10</th>\n",
       "      <th>A11</th>\n",
       "      <th>A12</th>\n",
       "      <th>A13</th>\n",
       "      <th>A14</th>\n",
       "      <th>A15</th>\n",
       "      <th>A16</th>\n",
       "      <th>A17</th>\n",
       "      <th>A18</th>\n",
       "      <th>A19</th>\n",
       "      <th>A20</th>\n",
       "      <th>target</th>\n",
       "    </tr>\n",
       "  </thead>\n",
       "  <tbody>\n",
       "    <tr>\n",
       "      <th>0</th>\n",
       "      <td>0</td>\n",
       "      <td>6</td>\n",
       "      <td>0</td>\n",
       "      <td>0</td>\n",
       "      <td>1169</td>\n",
       "      <td>0</td>\n",
       "      <td>0</td>\n",
       "      <td>4</td>\n",
       "      <td>0</td>\n",
       "      <td>0</td>\n",
       "      <td>4</td>\n",
       "      <td>0</td>\n",
       "      <td>67</td>\n",
       "      <td>0</td>\n",
       "      <td>0</td>\n",
       "      <td>2</td>\n",
       "      <td>0</td>\n",
       "      <td>1</td>\n",
       "      <td>0</td>\n",
       "      <td>0</td>\n",
       "      <td>1</td>\n",
       "    </tr>\n",
       "    <tr>\n",
       "      <th>1</th>\n",
       "      <td>1</td>\n",
       "      <td>48</td>\n",
       "      <td>1</td>\n",
       "      <td>0</td>\n",
       "      <td>5951</td>\n",
       "      <td>1</td>\n",
       "      <td>1</td>\n",
       "      <td>2</td>\n",
       "      <td>1</td>\n",
       "      <td>0</td>\n",
       "      <td>2</td>\n",
       "      <td>0</td>\n",
       "      <td>22</td>\n",
       "      <td>0</td>\n",
       "      <td>0</td>\n",
       "      <td>1</td>\n",
       "      <td>0</td>\n",
       "      <td>1</td>\n",
       "      <td>1</td>\n",
       "      <td>0</td>\n",
       "      <td>2</td>\n",
       "    </tr>\n",
       "    <tr>\n",
       "      <th>2</th>\n",
       "      <td>2</td>\n",
       "      <td>12</td>\n",
       "      <td>0</td>\n",
       "      <td>1</td>\n",
       "      <td>2096</td>\n",
       "      <td>1</td>\n",
       "      <td>2</td>\n",
       "      <td>2</td>\n",
       "      <td>0</td>\n",
       "      <td>0</td>\n",
       "      <td>3</td>\n",
       "      <td>0</td>\n",
       "      <td>49</td>\n",
       "      <td>0</td>\n",
       "      <td>0</td>\n",
       "      <td>1</td>\n",
       "      <td>1</td>\n",
       "      <td>2</td>\n",
       "      <td>1</td>\n",
       "      <td>0</td>\n",
       "      <td>1</td>\n",
       "    </tr>\n",
       "    <tr>\n",
       "      <th>3</th>\n",
       "      <td>0</td>\n",
       "      <td>42</td>\n",
       "      <td>1</td>\n",
       "      <td>2</td>\n",
       "      <td>7882</td>\n",
       "      <td>1</td>\n",
       "      <td>2</td>\n",
       "      <td>2</td>\n",
       "      <td>0</td>\n",
       "      <td>1</td>\n",
       "      <td>4</td>\n",
       "      <td>1</td>\n",
       "      <td>45</td>\n",
       "      <td>0</td>\n",
       "      <td>1</td>\n",
       "      <td>1</td>\n",
       "      <td>0</td>\n",
       "      <td>2</td>\n",
       "      <td>1</td>\n",
       "      <td>0</td>\n",
       "      <td>1</td>\n",
       "    </tr>\n",
       "    <tr>\n",
       "      <th>4</th>\n",
       "      <td>0</td>\n",
       "      <td>24</td>\n",
       "      <td>2</td>\n",
       "      <td>3</td>\n",
       "      <td>4870</td>\n",
       "      <td>1</td>\n",
       "      <td>1</td>\n",
       "      <td>3</td>\n",
       "      <td>0</td>\n",
       "      <td>0</td>\n",
       "      <td>4</td>\n",
       "      <td>2</td>\n",
       "      <td>53</td>\n",
       "      <td>0</td>\n",
       "      <td>1</td>\n",
       "      <td>2</td>\n",
       "      <td>0</td>\n",
       "      <td>2</td>\n",
       "      <td>1</td>\n",
       "      <td>0</td>\n",
       "      <td>2</td>\n",
       "    </tr>\n",
       "  </tbody>\n",
       "</table>\n",
       "</div>\n",
       "      <button class=\"colab-df-convert\" onclick=\"convertToInteractive('df-cd72a620-7b57-4976-b1d4-44b585b76c92')\"\n",
       "              title=\"Convert this dataframe to an interactive table.\"\n",
       "              style=\"display:none;\">\n",
       "        \n",
       "  <svg xmlns=\"http://www.w3.org/2000/svg\" height=\"24px\"viewBox=\"0 0 24 24\"\n",
       "       width=\"24px\">\n",
       "    <path d=\"M0 0h24v24H0V0z\" fill=\"none\"/>\n",
       "    <path d=\"M18.56 5.44l.94 2.06.94-2.06 2.06-.94-2.06-.94-.94-2.06-.94 2.06-2.06.94zm-11 1L8.5 8.5l.94-2.06 2.06-.94-2.06-.94L8.5 2.5l-.94 2.06-2.06.94zm10 10l.94 2.06.94-2.06 2.06-.94-2.06-.94-.94-2.06-.94 2.06-2.06.94z\"/><path d=\"M17.41 7.96l-1.37-1.37c-.4-.4-.92-.59-1.43-.59-.52 0-1.04.2-1.43.59L10.3 9.45l-7.72 7.72c-.78.78-.78 2.05 0 2.83L4 21.41c.39.39.9.59 1.41.59.51 0 1.02-.2 1.41-.59l7.78-7.78 2.81-2.81c.8-.78.8-2.07 0-2.86zM5.41 20L4 18.59l7.72-7.72 1.47 1.35L5.41 20z\"/>\n",
       "  </svg>\n",
       "      </button>\n",
       "      \n",
       "  <style>\n",
       "    .colab-df-container {\n",
       "      display:flex;\n",
       "      flex-wrap:wrap;\n",
       "      gap: 12px;\n",
       "    }\n",
       "\n",
       "    .colab-df-convert {\n",
       "      background-color: #E8F0FE;\n",
       "      border: none;\n",
       "      border-radius: 50%;\n",
       "      cursor: pointer;\n",
       "      display: none;\n",
       "      fill: #1967D2;\n",
       "      height: 32px;\n",
       "      padding: 0 0 0 0;\n",
       "      width: 32px;\n",
       "    }\n",
       "\n",
       "    .colab-df-convert:hover {\n",
       "      background-color: #E2EBFA;\n",
       "      box-shadow: 0px 1px 2px rgba(60, 64, 67, 0.3), 0px 1px 3px 1px rgba(60, 64, 67, 0.15);\n",
       "      fill: #174EA6;\n",
       "    }\n",
       "\n",
       "    [theme=dark] .colab-df-convert {\n",
       "      background-color: #3B4455;\n",
       "      fill: #D2E3FC;\n",
       "    }\n",
       "\n",
       "    [theme=dark] .colab-df-convert:hover {\n",
       "      background-color: #434B5C;\n",
       "      box-shadow: 0px 1px 3px 1px rgba(0, 0, 0, 0.15);\n",
       "      filter: drop-shadow(0px 1px 2px rgba(0, 0, 0, 0.3));\n",
       "      fill: #FFFFFF;\n",
       "    }\n",
       "  </style>\n",
       "\n",
       "      <script>\n",
       "        const buttonEl =\n",
       "          document.querySelector('#df-cd72a620-7b57-4976-b1d4-44b585b76c92 button.colab-df-convert');\n",
       "        buttonEl.style.display =\n",
       "          google.colab.kernel.accessAllowed ? 'block' : 'none';\n",
       "\n",
       "        async function convertToInteractive(key) {\n",
       "          const element = document.querySelector('#df-cd72a620-7b57-4976-b1d4-44b585b76c92');\n",
       "          const dataTable =\n",
       "            await google.colab.kernel.invokeFunction('convertToInteractive',\n",
       "                                                     [key], {});\n",
       "          if (!dataTable) return;\n",
       "\n",
       "          const docLinkHtml = 'Like what you see? Visit the ' +\n",
       "            '<a target=\"_blank\" href=https://colab.research.google.com/notebooks/data_table.ipynb>data table notebook</a>'\n",
       "            + ' to learn more about interactive tables.';\n",
       "          element.innerHTML = '';\n",
       "          dataTable['output_type'] = 'display_data';\n",
       "          await google.colab.output.renderOutput(dataTable, element);\n",
       "          const docLink = document.createElement('div');\n",
       "          docLink.innerHTML = docLinkHtml;\n",
       "          element.appendChild(docLink);\n",
       "        }\n",
       "      </script>\n",
       "    </div>\n",
       "  </div>\n",
       "  "
      ],
      "text/plain": [
       "   A1  A2  A3  A4    A5  A6  A7  A8  ...  A14  A15  A16  A17  A18  A19  A20  target\n",
       "0   0   6   0   0  1169   0   0   4  ...    0    0    2    0    1    0    0       1\n",
       "1   1  48   1   0  5951   1   1   2  ...    0    0    1    0    1    1    0       2\n",
       "2   2  12   0   1  2096   1   2   2  ...    0    0    1    1    2    1    0       1\n",
       "3   0  42   1   2  7882   1   2   2  ...    0    1    1    0    2    1    0       1\n",
       "4   0  24   2   3  4870   1   1   3  ...    0    1    2    0    2    1    0       2\n",
       "\n",
       "[5 rows x 21 columns]"
      ]
     },
     "execution_count": 72,
     "metadata": {},
     "output_type": "execute_result"
    }
   ],
   "source": [
    "categ = ['A1','A3','A4','A6','A7','A9','A10','A12','A14','A15','A17','A19','A20']\n",
    "df = MapFunc(df, categ)\n",
    "df.head()"
   ]
  },
  {
   "cell_type": "code",
   "execution_count": null,
   "metadata": {
    "id": "77SJ3lSjRfM0"
   },
   "outputs": [],
   "source": [
    "str_ar=categ.copy()\n",
    "str_ar.append('target')\n",
    "std_dev=df.std()\n",
    "avg=df.mean()\n",
    "for i in str_ar:\n",
    "    std_dev[i]=1\n",
    "    avg[i]=0\n",
    "df= (df- avg)/std_dev"
   ]
  },
  {
   "cell_type": "code",
   "execution_count": null,
   "metadata": {
    "colab": {
     "base_uri": "https://localhost:8080/"
    },
    "id": "JIHoAiJpRfM0",
    "outputId": "759c9b69-1a90-4da8-9778-9a71fdacfaa4"
   },
   "outputs": [
    {
     "name": "stdout",
     "output_type": "stream",
     "text": [
      "A1           0.0       1.0       2.0       3.0\n",
      "target                                        \n",
      "1.0     0.507299  0.609665  0.883249  0.777778\n",
      "2.0     0.492701  0.390335  0.116751  0.222222\n",
      "\n",
      "A3           0.0       1.0       2.0    3.0       4.0\n",
      "target                                               \n",
      "1.0     0.829352  0.681132  0.681818  0.375  0.428571\n",
      "2.0     0.170648  0.318868  0.318182  0.625  0.571429\n",
      "\n",
      "A4           0.0   1.0       2.0  ...       7.0       8.0       9.0\n",
      "target                            ...                              \n",
      "1.0     0.778571  0.56  0.679558  ...  0.636364  0.583333  0.888889\n",
      "2.0     0.221429  0.44  0.320442  ...  0.363636  0.416667  0.111111\n",
      "\n",
      "[2 rows x 10 columns]\n",
      "\n",
      "A6           0.0       1.0       2.0    3.0       4.0\n",
      "target                                               \n",
      "1.0     0.825137  0.640133  0.825397  0.875  0.669903\n",
      "2.0     0.174863  0.359867  0.174603  0.125  0.330097\n",
      "\n",
      "A7           0.0       1.0       2.0       3.0       4.0\n",
      "target                                                  \n",
      "1.0     0.747036  0.693215  0.775862  0.629032  0.593023\n",
      "2.0     0.252964  0.306785  0.224138  0.370968  0.406977\n",
      "\n",
      "A9           0.0       1.0  2.0       3.0\n",
      "target                                   \n",
      "1.0     0.733577  0.648387  0.6  0.728261\n",
      "2.0     0.266423  0.351613  0.4  0.271739\n",
      "\n",
      "A10         0.0       1.0       2.0\n",
      "target                             \n",
      "1.0     0.70011  0.807692  0.560976\n",
      "2.0     0.29989  0.192308  0.439024\n",
      "\n",
      "A12          0.0       1.0       2.0       3.0\n",
      "target                                        \n",
      "1.0     0.787234  0.693966  0.564935  0.692771\n",
      "2.0     0.212766  0.306034  0.435065  0.307229\n",
      "\n",
      "A14          0.0       1.0       2.0\n",
      "target                              \n",
      "1.0     0.724816  0.589928  0.595745\n",
      "2.0     0.275184  0.410072  0.404255\n",
      "\n",
      "A15         0.0       1.0       2.0\n",
      "target                             \n",
      "1.0     0.73913  0.592593  0.608939\n",
      "2.0     0.26087  0.407407  0.391061\n",
      "\n",
      "A17          0.0   1.0       2.0       3.0\n",
      "target                                    \n",
      "1.0     0.704762  0.72  0.655405  0.681818\n",
      "2.0     0.295238  0.28  0.344595  0.318182\n",
      "\n",
      "A19          0.0       1.0\n",
      "target                    \n",
      "1.0     0.720297  0.686242\n",
      "2.0     0.279703  0.313758\n",
      "\n",
      "A20          0.0       1.0\n",
      "target                    \n",
      "1.0     0.692627  0.891892\n",
      "2.0     0.307373  0.108108\n",
      "\n"
     ]
    }
   ],
   "source": [
    "for j in range(len(categ)):\n",
    "    data_crosstab = pd.crosstab(df.target,df[categ[j]], margins = False)\n",
    "    total=data_crosstab.sum(axis=0)\n",
    "    data_crosstab = data_crosstab/total\n",
    "    print(data_crosstab)\n",
    "    print()\n",
    "    df[categ[j]] = [data_crosstab[df[categ[j]][i]][df['target'][i]] for i in range(len(df))]\n",
    "df['score']=df.sum(axis=1)"
   ]
  },
  {
   "cell_type": "code",
   "execution_count": null,
   "metadata": {
    "colab": {
     "base_uri": "https://localhost:8080/",
     "height": 206
    },
    "id": "Y6-HyZNdRfM0",
    "outputId": "77443598-2a90-4afd-8f29-5a2b5e405ad1"
   },
   "outputs": [
    {
     "data": {
      "text/html": [
       "\n",
       "  <div id=\"df-45771d36-cca0-41d0-8ec0-815f061b2f95\">\n",
       "    <div class=\"colab-df-container\">\n",
       "      <div>\n",
       "<style scoped>\n",
       "    .dataframe tbody tr th:only-of-type {\n",
       "        vertical-align: middle;\n",
       "    }\n",
       "\n",
       "    .dataframe tbody tr th {\n",
       "        vertical-align: top;\n",
       "    }\n",
       "\n",
       "    .dataframe thead th {\n",
       "        text-align: right;\n",
       "    }\n",
       "</style>\n",
       "<table border=\"1\" class=\"dataframe\">\n",
       "  <thead>\n",
       "    <tr style=\"text-align: right;\">\n",
       "      <th></th>\n",
       "      <th>A1</th>\n",
       "      <th>A2</th>\n",
       "      <th>A3</th>\n",
       "      <th>A4</th>\n",
       "      <th>A5</th>\n",
       "      <th>A6</th>\n",
       "      <th>A7</th>\n",
       "      <th>A8</th>\n",
       "      <th>A9</th>\n",
       "      <th>A10</th>\n",
       "      <th>A11</th>\n",
       "      <th>A12</th>\n",
       "      <th>A13</th>\n",
       "      <th>A14</th>\n",
       "      <th>A15</th>\n",
       "      <th>A16</th>\n",
       "      <th>A17</th>\n",
       "      <th>A18</th>\n",
       "      <th>A19</th>\n",
       "      <th>A20</th>\n",
       "      <th>target</th>\n",
       "    </tr>\n",
       "  </thead>\n",
       "  <tbody>\n",
       "    <tr>\n",
       "      <th>0</th>\n",
       "      <td>A11</td>\n",
       "      <td>6</td>\n",
       "      <td>A34</td>\n",
       "      <td>A43</td>\n",
       "      <td>1169</td>\n",
       "      <td>A65</td>\n",
       "      <td>A75</td>\n",
       "      <td>4</td>\n",
       "      <td>A93</td>\n",
       "      <td>A101</td>\n",
       "      <td>4</td>\n",
       "      <td>A121</td>\n",
       "      <td>67</td>\n",
       "      <td>A143</td>\n",
       "      <td>A152</td>\n",
       "      <td>2</td>\n",
       "      <td>A173</td>\n",
       "      <td>1</td>\n",
       "      <td>A192</td>\n",
       "      <td>A201</td>\n",
       "      <td>1</td>\n",
       "    </tr>\n",
       "    <tr>\n",
       "      <th>1</th>\n",
       "      <td>A12</td>\n",
       "      <td>48</td>\n",
       "      <td>A32</td>\n",
       "      <td>A43</td>\n",
       "      <td>5951</td>\n",
       "      <td>A61</td>\n",
       "      <td>A73</td>\n",
       "      <td>2</td>\n",
       "      <td>A92</td>\n",
       "      <td>A101</td>\n",
       "      <td>2</td>\n",
       "      <td>A121</td>\n",
       "      <td>22</td>\n",
       "      <td>A143</td>\n",
       "      <td>A152</td>\n",
       "      <td>1</td>\n",
       "      <td>A173</td>\n",
       "      <td>1</td>\n",
       "      <td>A191</td>\n",
       "      <td>A201</td>\n",
       "      <td>2</td>\n",
       "    </tr>\n",
       "    <tr>\n",
       "      <th>2</th>\n",
       "      <td>A14</td>\n",
       "      <td>12</td>\n",
       "      <td>A34</td>\n",
       "      <td>A46</td>\n",
       "      <td>2096</td>\n",
       "      <td>A61</td>\n",
       "      <td>A74</td>\n",
       "      <td>2</td>\n",
       "      <td>A93</td>\n",
       "      <td>A101</td>\n",
       "      <td>3</td>\n",
       "      <td>A121</td>\n",
       "      <td>49</td>\n",
       "      <td>A143</td>\n",
       "      <td>A152</td>\n",
       "      <td>1</td>\n",
       "      <td>A172</td>\n",
       "      <td>2</td>\n",
       "      <td>A191</td>\n",
       "      <td>A201</td>\n",
       "      <td>1</td>\n",
       "    </tr>\n",
       "    <tr>\n",
       "      <th>3</th>\n",
       "      <td>A11</td>\n",
       "      <td>42</td>\n",
       "      <td>A32</td>\n",
       "      <td>A42</td>\n",
       "      <td>7882</td>\n",
       "      <td>A61</td>\n",
       "      <td>A74</td>\n",
       "      <td>2</td>\n",
       "      <td>A93</td>\n",
       "      <td>A103</td>\n",
       "      <td>4</td>\n",
       "      <td>A122</td>\n",
       "      <td>45</td>\n",
       "      <td>A143</td>\n",
       "      <td>A153</td>\n",
       "      <td>1</td>\n",
       "      <td>A173</td>\n",
       "      <td>2</td>\n",
       "      <td>A191</td>\n",
       "      <td>A201</td>\n",
       "      <td>1</td>\n",
       "    </tr>\n",
       "    <tr>\n",
       "      <th>4</th>\n",
       "      <td>A11</td>\n",
       "      <td>24</td>\n",
       "      <td>A33</td>\n",
       "      <td>A40</td>\n",
       "      <td>4870</td>\n",
       "      <td>A61</td>\n",
       "      <td>A73</td>\n",
       "      <td>3</td>\n",
       "      <td>A93</td>\n",
       "      <td>A101</td>\n",
       "      <td>4</td>\n",
       "      <td>A124</td>\n",
       "      <td>53</td>\n",
       "      <td>A143</td>\n",
       "      <td>A153</td>\n",
       "      <td>2</td>\n",
       "      <td>A173</td>\n",
       "      <td>2</td>\n",
       "      <td>A191</td>\n",
       "      <td>A201</td>\n",
       "      <td>2</td>\n",
       "    </tr>\n",
       "  </tbody>\n",
       "</table>\n",
       "</div>\n",
       "      <button class=\"colab-df-convert\" onclick=\"convertToInteractive('df-45771d36-cca0-41d0-8ec0-815f061b2f95')\"\n",
       "              title=\"Convert this dataframe to an interactive table.\"\n",
       "              style=\"display:none;\">\n",
       "        \n",
       "  <svg xmlns=\"http://www.w3.org/2000/svg\" height=\"24px\"viewBox=\"0 0 24 24\"\n",
       "       width=\"24px\">\n",
       "    <path d=\"M0 0h24v24H0V0z\" fill=\"none\"/>\n",
       "    <path d=\"M18.56 5.44l.94 2.06.94-2.06 2.06-.94-2.06-.94-.94-2.06-.94 2.06-2.06.94zm-11 1L8.5 8.5l.94-2.06 2.06-.94-2.06-.94L8.5 2.5l-.94 2.06-2.06.94zm10 10l.94 2.06.94-2.06 2.06-.94-2.06-.94-.94-2.06-.94 2.06-2.06.94z\"/><path d=\"M17.41 7.96l-1.37-1.37c-.4-.4-.92-.59-1.43-.59-.52 0-1.04.2-1.43.59L10.3 9.45l-7.72 7.72c-.78.78-.78 2.05 0 2.83L4 21.41c.39.39.9.59 1.41.59.51 0 1.02-.2 1.41-.59l7.78-7.78 2.81-2.81c.8-.78.8-2.07 0-2.86zM5.41 20L4 18.59l7.72-7.72 1.47 1.35L5.41 20z\"/>\n",
       "  </svg>\n",
       "      </button>\n",
       "      \n",
       "  <style>\n",
       "    .colab-df-container {\n",
       "      display:flex;\n",
       "      flex-wrap:wrap;\n",
       "      gap: 12px;\n",
       "    }\n",
       "\n",
       "    .colab-df-convert {\n",
       "      background-color: #E8F0FE;\n",
       "      border: none;\n",
       "      border-radius: 50%;\n",
       "      cursor: pointer;\n",
       "      display: none;\n",
       "      fill: #1967D2;\n",
       "      height: 32px;\n",
       "      padding: 0 0 0 0;\n",
       "      width: 32px;\n",
       "    }\n",
       "\n",
       "    .colab-df-convert:hover {\n",
       "      background-color: #E2EBFA;\n",
       "      box-shadow: 0px 1px 2px rgba(60, 64, 67, 0.3), 0px 1px 3px 1px rgba(60, 64, 67, 0.15);\n",
       "      fill: #174EA6;\n",
       "    }\n",
       "\n",
       "    [theme=dark] .colab-df-convert {\n",
       "      background-color: #3B4455;\n",
       "      fill: #D2E3FC;\n",
       "    }\n",
       "\n",
       "    [theme=dark] .colab-df-convert:hover {\n",
       "      background-color: #434B5C;\n",
       "      box-shadow: 0px 1px 3px 1px rgba(0, 0, 0, 0.15);\n",
       "      filter: drop-shadow(0px 1px 2px rgba(0, 0, 0, 0.3));\n",
       "      fill: #FFFFFF;\n",
       "    }\n",
       "  </style>\n",
       "\n",
       "      <script>\n",
       "        const buttonEl =\n",
       "          document.querySelector('#df-45771d36-cca0-41d0-8ec0-815f061b2f95 button.colab-df-convert');\n",
       "        buttonEl.style.display =\n",
       "          google.colab.kernel.accessAllowed ? 'block' : 'none';\n",
       "\n",
       "        async function convertToInteractive(key) {\n",
       "          const element = document.querySelector('#df-45771d36-cca0-41d0-8ec0-815f061b2f95');\n",
       "          const dataTable =\n",
       "            await google.colab.kernel.invokeFunction('convertToInteractive',\n",
       "                                                     [key], {});\n",
       "          if (!dataTable) return;\n",
       "\n",
       "          const docLinkHtml = 'Like what you see? Visit the ' +\n",
       "            '<a target=\"_blank\" href=https://colab.research.google.com/notebooks/data_table.ipynb>data table notebook</a>'\n",
       "            + ' to learn more about interactive tables.';\n",
       "          element.innerHTML = '';\n",
       "          dataTable['output_type'] = 'display_data';\n",
       "          await google.colab.output.renderOutput(dataTable, element);\n",
       "          const docLink = document.createElement('div');\n",
       "          docLink.innerHTML = docLinkHtml;\n",
       "          element.appendChild(docLink);\n",
       "        }\n",
       "      </script>\n",
       "    </div>\n",
       "  </div>\n",
       "  "
      ],
      "text/plain": [
       "    A1  A2   A3   A4    A5   A6   A7  ...   A15 A16   A17  A18   A19   A20 target\n",
       "0  A11   6  A34  A43  1169  A65  A75  ...  A152   2  A173    1  A192  A201      1\n",
       "1  A12  48  A32  A43  5951  A61  A73  ...  A152   1  A173    1  A191  A201      2\n",
       "2  A14  12  A34  A46  2096  A61  A74  ...  A152   1  A172    2  A191  A201      1\n",
       "3  A11  42  A32  A42  7882  A61  A74  ...  A153   1  A173    2  A191  A201      1\n",
       "4  A11  24  A33  A40  4870  A61  A73  ...  A153   2  A173    2  A191  A201      2\n",
       "\n",
       "[5 rows x 21 columns]"
      ]
     },
     "execution_count": 75,
     "metadata": {},
     "output_type": "execute_result"
    }
   ],
   "source": [
    "colnames = ['A1','A2','A3','A4','A5','A6','A7','A8','A9','A10','A11','A12','A13','A14','A15','A16','A17','A18','A19','A20','target']\n",
    "original = pd.read_csv(\"drive/MyDrive/Datasets/german.data\",delimiter=' ',names=colnames, header=None)\n",
    "original.head()"
   ]
  },
  {
   "cell_type": "code",
   "execution_count": null,
   "metadata": {
    "colab": {
     "base_uri": "https://localhost:8080/"
    },
    "id": "9RrGn4OzRfM0",
    "outputId": "fa7b418e-b382-4a96-82e9-d18611d3f9f4"
   },
   "outputs": [
    {
     "name": "stdout",
     "output_type": "stream",
     "text": [
      "Shape of data after outlier removal is:  (995, 21)\n",
      "(1000, 22)\n",
      "      A1  A2   A3   A4     A5   A6  ... A16   A17 A18   A19   A20 target\n",
      "65   A14  27  A32  A45   5190  A65  ...   4  A173   2  A192  A201      1\n",
      "205  A11  30  A34  A41  10623  A61  ...   3  A174   2  A192  A201      1\n",
      "373  A14  60  A34  A40  13756  A65  ...   1  A174   1  A192  A201      1\n",
      "540  A12  12  A32  A43   1534  A61  ...   1  A173   1  A191  A201      2\n",
      "890  A11  27  A34  A49   2442  A61  ...   4  A174   2  A192  A201      1\n",
      "\n",
      "[5 rows x 21 columns]\n"
     ]
    },
    {
     "name": "stderr",
     "output_type": "stream",
     "text": [
      "/usr/local/lib/python3.7/dist-packages/ipykernel_launcher.py:18: SettingWithCopyWarning: \n",
      "A value is trying to be set on a copy of a slice from a DataFrame\n",
      "\n",
      "See the caveats in the documentation: https://pandas.pydata.org/pandas-docs/stable/user_guide/indexing.html#returning-a-view-versus-a-copy\n"
     ]
    }
   ],
   "source": [
    "removeOutliers(df, 'score' ,original)\n",
    "data = filtered_data\n",
    "print(\"Shape of data after outlier removal is: \", data.shape)\n",
    "print(df.shape)\n",
    "# outlier_inst = outlier_inst.drop['target',1]\n",
    "print(outlier_inst)"
   ]
  },
  {
   "cell_type": "code",
   "execution_count": null,
   "metadata": {
    "id": "pd9_YVplRfM0"
   },
   "outputs": [],
   "source": [
    "data.to_csv('drive/MyDrive/Datasets/IQRAfterRemovingOutliers/german.csv', index = False)"
   ]
  },
  {
   "cell_type": "code",
   "execution_count": null,
   "metadata": {
    "colab": {
     "base_uri": "https://localhost:8080/"
    },
    "id": "GRDMDDFiRfM0",
    "outputId": "8174e98b-7072-4c63-bfbc-e1fc813dca95"
   },
   "outputs": [
    {
     "name": "stderr",
     "output_type": "stream",
     "text": [
      "/usr/local/lib/python3.7/dist-packages/ipykernel_launcher.py:1: FutureWarning: In a future version of pandas all arguments of DataFrame.drop except for the argument 'labels' will be keyword-only\n",
      "  \"\"\"Entry point for launching an IPython kernel.\n"
     ]
    }
   ],
   "source": [
    "classify_df = classify_df.drop('target',1)\n",
    "classify_df.to_csv('drive/MyDrive/Datasets/IQROutlier_Classification/german.csv',index=False)"
   ]
  },
  {
   "cell_type": "markdown",
   "metadata": {
    "id": "POFcw_sOAgyM"
   },
   "source": [
    "Australian\n",
    "------------------"
   ]
  },
  {
   "cell_type": "code",
   "execution_count": null,
   "metadata": {
    "colab": {
     "base_uri": "https://localhost:8080/",
     "height": 206
    },
    "id": "5qsvU24wBIPB",
    "outputId": "b5bc5e8a-32a9-4af6-f621-7ef0d77c1918"
   },
   "outputs": [
    {
     "data": {
      "text/html": [
       "\n",
       "  <div id=\"df-d9b81ec0-a1c2-4537-b7c9-cef4b76ca883\">\n",
       "    <div class=\"colab-df-container\">\n",
       "      <div>\n",
       "<style scoped>\n",
       "    .dataframe tbody tr th:only-of-type {\n",
       "        vertical-align: middle;\n",
       "    }\n",
       "\n",
       "    .dataframe tbody tr th {\n",
       "        vertical-align: top;\n",
       "    }\n",
       "\n",
       "    .dataframe thead th {\n",
       "        text-align: right;\n",
       "    }\n",
       "</style>\n",
       "<table border=\"1\" class=\"dataframe\">\n",
       "  <thead>\n",
       "    <tr style=\"text-align: right;\">\n",
       "      <th></th>\n",
       "      <th>A1</th>\n",
       "      <th>A2</th>\n",
       "      <th>A3</th>\n",
       "      <th>A4</th>\n",
       "      <th>A5</th>\n",
       "      <th>A6</th>\n",
       "      <th>A7</th>\n",
       "      <th>A8</th>\n",
       "      <th>A9</th>\n",
       "      <th>A10</th>\n",
       "      <th>A11</th>\n",
       "      <th>A12</th>\n",
       "      <th>A13</th>\n",
       "      <th>A14</th>\n",
       "      <th>target</th>\n",
       "    </tr>\n",
       "  </thead>\n",
       "  <tbody>\n",
       "    <tr>\n",
       "      <th>0</th>\n",
       "      <td>1</td>\n",
       "      <td>22.08</td>\n",
       "      <td>11.46</td>\n",
       "      <td>2</td>\n",
       "      <td>4</td>\n",
       "      <td>4</td>\n",
       "      <td>1.585</td>\n",
       "      <td>0</td>\n",
       "      <td>0</td>\n",
       "      <td>0</td>\n",
       "      <td>1</td>\n",
       "      <td>2</td>\n",
       "      <td>100</td>\n",
       "      <td>1213</td>\n",
       "      <td>0</td>\n",
       "    </tr>\n",
       "    <tr>\n",
       "      <th>1</th>\n",
       "      <td>0</td>\n",
       "      <td>22.67</td>\n",
       "      <td>7.00</td>\n",
       "      <td>2</td>\n",
       "      <td>8</td>\n",
       "      <td>4</td>\n",
       "      <td>0.165</td>\n",
       "      <td>0</td>\n",
       "      <td>0</td>\n",
       "      <td>0</td>\n",
       "      <td>0</td>\n",
       "      <td>2</td>\n",
       "      <td>160</td>\n",
       "      <td>1</td>\n",
       "      <td>0</td>\n",
       "    </tr>\n",
       "    <tr>\n",
       "      <th>2</th>\n",
       "      <td>0</td>\n",
       "      <td>29.58</td>\n",
       "      <td>1.75</td>\n",
       "      <td>1</td>\n",
       "      <td>4</td>\n",
       "      <td>4</td>\n",
       "      <td>1.250</td>\n",
       "      <td>0</td>\n",
       "      <td>0</td>\n",
       "      <td>0</td>\n",
       "      <td>1</td>\n",
       "      <td>2</td>\n",
       "      <td>280</td>\n",
       "      <td>1</td>\n",
       "      <td>0</td>\n",
       "    </tr>\n",
       "    <tr>\n",
       "      <th>3</th>\n",
       "      <td>0</td>\n",
       "      <td>21.67</td>\n",
       "      <td>11.50</td>\n",
       "      <td>1</td>\n",
       "      <td>5</td>\n",
       "      <td>3</td>\n",
       "      <td>0.000</td>\n",
       "      <td>1</td>\n",
       "      <td>1</td>\n",
       "      <td>11</td>\n",
       "      <td>1</td>\n",
       "      <td>2</td>\n",
       "      <td>0</td>\n",
       "      <td>1</td>\n",
       "      <td>1</td>\n",
       "    </tr>\n",
       "    <tr>\n",
       "      <th>4</th>\n",
       "      <td>1</td>\n",
       "      <td>20.17</td>\n",
       "      <td>8.17</td>\n",
       "      <td>2</td>\n",
       "      <td>6</td>\n",
       "      <td>4</td>\n",
       "      <td>1.960</td>\n",
       "      <td>1</td>\n",
       "      <td>1</td>\n",
       "      <td>14</td>\n",
       "      <td>0</td>\n",
       "      <td>2</td>\n",
       "      <td>60</td>\n",
       "      <td>159</td>\n",
       "      <td>1</td>\n",
       "    </tr>\n",
       "  </tbody>\n",
       "</table>\n",
       "</div>\n",
       "      <button class=\"colab-df-convert\" onclick=\"convertToInteractive('df-d9b81ec0-a1c2-4537-b7c9-cef4b76ca883')\"\n",
       "              title=\"Convert this dataframe to an interactive table.\"\n",
       "              style=\"display:none;\">\n",
       "        \n",
       "  <svg xmlns=\"http://www.w3.org/2000/svg\" height=\"24px\"viewBox=\"0 0 24 24\"\n",
       "       width=\"24px\">\n",
       "    <path d=\"M0 0h24v24H0V0z\" fill=\"none\"/>\n",
       "    <path d=\"M18.56 5.44l.94 2.06.94-2.06 2.06-.94-2.06-.94-.94-2.06-.94 2.06-2.06.94zm-11 1L8.5 8.5l.94-2.06 2.06-.94-2.06-.94L8.5 2.5l-.94 2.06-2.06.94zm10 10l.94 2.06.94-2.06 2.06-.94-2.06-.94-.94-2.06-.94 2.06-2.06.94z\"/><path d=\"M17.41 7.96l-1.37-1.37c-.4-.4-.92-.59-1.43-.59-.52 0-1.04.2-1.43.59L10.3 9.45l-7.72 7.72c-.78.78-.78 2.05 0 2.83L4 21.41c.39.39.9.59 1.41.59.51 0 1.02-.2 1.41-.59l7.78-7.78 2.81-2.81c.8-.78.8-2.07 0-2.86zM5.41 20L4 18.59l7.72-7.72 1.47 1.35L5.41 20z\"/>\n",
       "  </svg>\n",
       "      </button>\n",
       "      \n",
       "  <style>\n",
       "    .colab-df-container {\n",
       "      display:flex;\n",
       "      flex-wrap:wrap;\n",
       "      gap: 12px;\n",
       "    }\n",
       "\n",
       "    .colab-df-convert {\n",
       "      background-color: #E8F0FE;\n",
       "      border: none;\n",
       "      border-radius: 50%;\n",
       "      cursor: pointer;\n",
       "      display: none;\n",
       "      fill: #1967D2;\n",
       "      height: 32px;\n",
       "      padding: 0 0 0 0;\n",
       "      width: 32px;\n",
       "    }\n",
       "\n",
       "    .colab-df-convert:hover {\n",
       "      background-color: #E2EBFA;\n",
       "      box-shadow: 0px 1px 2px rgba(60, 64, 67, 0.3), 0px 1px 3px 1px rgba(60, 64, 67, 0.15);\n",
       "      fill: #174EA6;\n",
       "    }\n",
       "\n",
       "    [theme=dark] .colab-df-convert {\n",
       "      background-color: #3B4455;\n",
       "      fill: #D2E3FC;\n",
       "    }\n",
       "\n",
       "    [theme=dark] .colab-df-convert:hover {\n",
       "      background-color: #434B5C;\n",
       "      box-shadow: 0px 1px 3px 1px rgba(0, 0, 0, 0.15);\n",
       "      filter: drop-shadow(0px 1px 2px rgba(0, 0, 0, 0.3));\n",
       "      fill: #FFFFFF;\n",
       "    }\n",
       "  </style>\n",
       "\n",
       "      <script>\n",
       "        const buttonEl =\n",
       "          document.querySelector('#df-d9b81ec0-a1c2-4537-b7c9-cef4b76ca883 button.colab-df-convert');\n",
       "        buttonEl.style.display =\n",
       "          google.colab.kernel.accessAllowed ? 'block' : 'none';\n",
       "\n",
       "        async function convertToInteractive(key) {\n",
       "          const element = document.querySelector('#df-d9b81ec0-a1c2-4537-b7c9-cef4b76ca883');\n",
       "          const dataTable =\n",
       "            await google.colab.kernel.invokeFunction('convertToInteractive',\n",
       "                                                     [key], {});\n",
       "          if (!dataTable) return;\n",
       "\n",
       "          const docLinkHtml = 'Like what you see? Visit the ' +\n",
       "            '<a target=\"_blank\" href=https://colab.research.google.com/notebooks/data_table.ipynb>data table notebook</a>'\n",
       "            + ' to learn more about interactive tables.';\n",
       "          element.innerHTML = '';\n",
       "          dataTable['output_type'] = 'display_data';\n",
       "          await google.colab.output.renderOutput(dataTable, element);\n",
       "          const docLink = document.createElement('div');\n",
       "          docLink.innerHTML = docLinkHtml;\n",
       "          element.appendChild(docLink);\n",
       "        }\n",
       "      </script>\n",
       "    </div>\n",
       "  </div>\n",
       "  "
      ],
      "text/plain": [
       "   A1     A2     A3  A4  A5  A6     A7  ...  A9  A10  A11  A12  A13   A14  target\n",
       "0   1  22.08  11.46   2   4   4  1.585  ...   0    0    1    2  100  1213       0\n",
       "1   0  22.67   7.00   2   8   4  0.165  ...   0    0    0    2  160     1       0\n",
       "2   0  29.58   1.75   1   4   4  1.250  ...   0    0    1    2  280     1       0\n",
       "3   0  21.67  11.50   1   5   3  0.000  ...   1   11    1    2    0     1       1\n",
       "4   1  20.17   8.17   2   6   4  1.960  ...   1   14    0    2   60   159       1\n",
       "\n",
       "[5 rows x 15 columns]"
      ]
     },
     "execution_count": 115,
     "metadata": {},
     "output_type": "execute_result"
    }
   ],
   "source": [
    "colnames = ['A1','A2','A3','A4','A5','A6','A7','A8','A9','A10','A11','A12','A13','A14','target']\n",
    "df = pd.read_csv(\"drive/MyDrive/Datasets/australian.dat\",delimiter=' ',names=colnames, header=None)\n",
    "df.head()"
   ]
  },
  {
   "cell_type": "markdown",
   "metadata": {
    "id": "zK0WoSVZCRLS"
   },
   "source": [
    "Categorical attributes:\n",
    "\n",
    "A1:\t0, 1   (a, b)\n",
    "\n",
    "A4:\t1, 2, 3  (p, g, gg)\n",
    "\n",
    "A5:  1, 2, 3, 4, 5, 6, 7, 8, 9, 10, 11, 12, 13, 14 (ff, d, i, k, j, aa, m, c, w, e, q, r, cc, x )\n",
    "\n",
    "A6:\t 1, 2, 3, 4, 5, 6, 7, 8, 9  (ff, dd, j, bb, v, n, o, h, z)\n",
    "\n",
    "A8:\t1, 0  (t, f)\n",
    "\n",
    "A9: 1, 0\t(t, f)\n",
    "\n",
    "A11: 1, 0 (t, f)\n",
    "\n",
    "A12: 1, 2, 3  (s, g, p)\n",
    "\n",
    "target: 0, 1 (+, -)  (class attribute)"
   ]
  },
  {
   "cell_type": "code",
   "execution_count": null,
   "metadata": {
    "id": "T_OY_cJPCOLJ"
   },
   "outputs": [],
   "source": [
    "categ = ['A1','A4','A5','A6','A8','A9','A11','A12']\n",
    "str_ar= categ.copy()\n",
    "str_ar.append('target')\n",
    "std_dev=df.std()\n",
    "avg=df.mean()\n",
    "for i in str_ar:\n",
    "    std_dev[i]=1\n",
    "    avg[i]=0\n",
    "df= (df- avg)/std_dev"
   ]
  },
  {
   "cell_type": "code",
   "execution_count": null,
   "metadata": {
    "colab": {
     "base_uri": "https://localhost:8080/"
    },
    "id": "tWSJKfpFDsBF",
    "outputId": "9538bd8d-d21e-406e-dfe5-634875c6dc1d"
   },
   "outputs": [
    {
     "name": "stdout",
     "output_type": "stream",
     "text": [
      "A1           0.0       1.0\n",
      "target                    \n",
      "0.0     0.545045  0.559829\n",
      "1.0     0.454955  0.440171\n",
      "\n",
      "A4           1.0       2.0  3.0\n",
      "target                         \n",
      "0.0     0.723926  0.504762  0.0\n",
      "1.0     0.276074  0.495238  1.0\n",
      "\n",
      "A5          1.0       2.0       3.0   ...      12.0      13.0      14.0\n",
      "target                                ...                              \n",
      "0.0     0.867925  0.766667  0.762712  ...  0.333333  0.292683  0.157895\n",
      "1.0     0.132075  0.233333  0.237288  ...  0.666667  0.707317  0.842105\n",
      "\n",
      "[2 rows x 14 columns]\n",
      "\n",
      "A6           1.0       2.0    3.0      4.0       5.0  7.0       8.0   9.0\n",
      "target                                                                   \n",
      "0.0     0.859649  0.666667  0.625  0.57598  0.576271  0.5  0.369565  0.25\n",
      "1.0     0.140351  0.333333  0.375  0.42402  0.423729  0.5  0.630435  0.75\n",
      "\n",
      "A8           0.0       1.0\n",
      "target                    \n",
      "0.0     0.930091  0.213296\n",
      "1.0     0.069909  0.786704\n",
      "\n",
      "A9           0.0       1.0\n",
      "target                    \n",
      "0.0     0.751899  0.291525\n",
      "1.0     0.248101  0.708475\n",
      "\n",
      "A11          0.0       1.0\n",
      "target                    \n",
      "0.0     0.569519  0.537975\n",
      "1.0     0.430481  0.462025\n",
      "\n",
      "A12          1.0     2.0    3.0\n",
      "target                         \n",
      "0.0     0.736842  0.5408  0.375\n",
      "1.0     0.263158  0.4592  0.625\n",
      "\n"
     ]
    }
   ],
   "source": [
    "for j in range(len(categ)):\n",
    "    data_crosstab = pd.crosstab(df.target,df[categ[j]], margins = False)\n",
    "    total=data_crosstab.sum(axis=0)\n",
    "    data_crosstab = data_crosstab/total\n",
    "    print(data_crosstab)\n",
    "    print()\n",
    "    df[categ[j]] = [data_crosstab[df[categ[j]][i]][df['target'][i]] for i in range(len(df))]\n",
    "df['score']=df.sum(axis=1)"
   ]
  },
  {
   "cell_type": "code",
   "execution_count": null,
   "metadata": {
    "colab": {
     "base_uri": "https://localhost:8080/",
     "height": 206
    },
    "id": "Iw-aknP1HdQW",
    "outputId": "7e2c8f4b-c9bc-4866-c67f-570968c6332b"
   },
   "outputs": [
    {
     "data": {
      "text/html": [
       "\n",
       "  <div id=\"df-b8b993b5-a811-4594-8901-850db72f86ee\">\n",
       "    <div class=\"colab-df-container\">\n",
       "      <div>\n",
       "<style scoped>\n",
       "    .dataframe tbody tr th:only-of-type {\n",
       "        vertical-align: middle;\n",
       "    }\n",
       "\n",
       "    .dataframe tbody tr th {\n",
       "        vertical-align: top;\n",
       "    }\n",
       "\n",
       "    .dataframe thead th {\n",
       "        text-align: right;\n",
       "    }\n",
       "</style>\n",
       "<table border=\"1\" class=\"dataframe\">\n",
       "  <thead>\n",
       "    <tr style=\"text-align: right;\">\n",
       "      <th></th>\n",
       "      <th>A1</th>\n",
       "      <th>A2</th>\n",
       "      <th>A3</th>\n",
       "      <th>A4</th>\n",
       "      <th>A5</th>\n",
       "      <th>A6</th>\n",
       "      <th>A7</th>\n",
       "      <th>A8</th>\n",
       "      <th>A9</th>\n",
       "      <th>A10</th>\n",
       "      <th>A11</th>\n",
       "      <th>A12</th>\n",
       "      <th>A13</th>\n",
       "      <th>A14</th>\n",
       "      <th>target</th>\n",
       "    </tr>\n",
       "  </thead>\n",
       "  <tbody>\n",
       "    <tr>\n",
       "      <th>0</th>\n",
       "      <td>1</td>\n",
       "      <td>22.08</td>\n",
       "      <td>11.46</td>\n",
       "      <td>2</td>\n",
       "      <td>4</td>\n",
       "      <td>4</td>\n",
       "      <td>1.585</td>\n",
       "      <td>0</td>\n",
       "      <td>0</td>\n",
       "      <td>0</td>\n",
       "      <td>1</td>\n",
       "      <td>2</td>\n",
       "      <td>100</td>\n",
       "      <td>1213</td>\n",
       "      <td>0</td>\n",
       "    </tr>\n",
       "    <tr>\n",
       "      <th>1</th>\n",
       "      <td>0</td>\n",
       "      <td>22.67</td>\n",
       "      <td>7.00</td>\n",
       "      <td>2</td>\n",
       "      <td>8</td>\n",
       "      <td>4</td>\n",
       "      <td>0.165</td>\n",
       "      <td>0</td>\n",
       "      <td>0</td>\n",
       "      <td>0</td>\n",
       "      <td>0</td>\n",
       "      <td>2</td>\n",
       "      <td>160</td>\n",
       "      <td>1</td>\n",
       "      <td>0</td>\n",
       "    </tr>\n",
       "    <tr>\n",
       "      <th>2</th>\n",
       "      <td>0</td>\n",
       "      <td>29.58</td>\n",
       "      <td>1.75</td>\n",
       "      <td>1</td>\n",
       "      <td>4</td>\n",
       "      <td>4</td>\n",
       "      <td>1.250</td>\n",
       "      <td>0</td>\n",
       "      <td>0</td>\n",
       "      <td>0</td>\n",
       "      <td>1</td>\n",
       "      <td>2</td>\n",
       "      <td>280</td>\n",
       "      <td>1</td>\n",
       "      <td>0</td>\n",
       "    </tr>\n",
       "    <tr>\n",
       "      <th>3</th>\n",
       "      <td>0</td>\n",
       "      <td>21.67</td>\n",
       "      <td>11.50</td>\n",
       "      <td>1</td>\n",
       "      <td>5</td>\n",
       "      <td>3</td>\n",
       "      <td>0.000</td>\n",
       "      <td>1</td>\n",
       "      <td>1</td>\n",
       "      <td>11</td>\n",
       "      <td>1</td>\n",
       "      <td>2</td>\n",
       "      <td>0</td>\n",
       "      <td>1</td>\n",
       "      <td>1</td>\n",
       "    </tr>\n",
       "    <tr>\n",
       "      <th>4</th>\n",
       "      <td>1</td>\n",
       "      <td>20.17</td>\n",
       "      <td>8.17</td>\n",
       "      <td>2</td>\n",
       "      <td>6</td>\n",
       "      <td>4</td>\n",
       "      <td>1.960</td>\n",
       "      <td>1</td>\n",
       "      <td>1</td>\n",
       "      <td>14</td>\n",
       "      <td>0</td>\n",
       "      <td>2</td>\n",
       "      <td>60</td>\n",
       "      <td>159</td>\n",
       "      <td>1</td>\n",
       "    </tr>\n",
       "  </tbody>\n",
       "</table>\n",
       "</div>\n",
       "      <button class=\"colab-df-convert\" onclick=\"convertToInteractive('df-b8b993b5-a811-4594-8901-850db72f86ee')\"\n",
       "              title=\"Convert this dataframe to an interactive table.\"\n",
       "              style=\"display:none;\">\n",
       "        \n",
       "  <svg xmlns=\"http://www.w3.org/2000/svg\" height=\"24px\"viewBox=\"0 0 24 24\"\n",
       "       width=\"24px\">\n",
       "    <path d=\"M0 0h24v24H0V0z\" fill=\"none\"/>\n",
       "    <path d=\"M18.56 5.44l.94 2.06.94-2.06 2.06-.94-2.06-.94-.94-2.06-.94 2.06-2.06.94zm-11 1L8.5 8.5l.94-2.06 2.06-.94-2.06-.94L8.5 2.5l-.94 2.06-2.06.94zm10 10l.94 2.06.94-2.06 2.06-.94-2.06-.94-.94-2.06-.94 2.06-2.06.94z\"/><path d=\"M17.41 7.96l-1.37-1.37c-.4-.4-.92-.59-1.43-.59-.52 0-1.04.2-1.43.59L10.3 9.45l-7.72 7.72c-.78.78-.78 2.05 0 2.83L4 21.41c.39.39.9.59 1.41.59.51 0 1.02-.2 1.41-.59l7.78-7.78 2.81-2.81c.8-.78.8-2.07 0-2.86zM5.41 20L4 18.59l7.72-7.72 1.47 1.35L5.41 20z\"/>\n",
       "  </svg>\n",
       "      </button>\n",
       "      \n",
       "  <style>\n",
       "    .colab-df-container {\n",
       "      display:flex;\n",
       "      flex-wrap:wrap;\n",
       "      gap: 12px;\n",
       "    }\n",
       "\n",
       "    .colab-df-convert {\n",
       "      background-color: #E8F0FE;\n",
       "      border: none;\n",
       "      border-radius: 50%;\n",
       "      cursor: pointer;\n",
       "      display: none;\n",
       "      fill: #1967D2;\n",
       "      height: 32px;\n",
       "      padding: 0 0 0 0;\n",
       "      width: 32px;\n",
       "    }\n",
       "\n",
       "    .colab-df-convert:hover {\n",
       "      background-color: #E2EBFA;\n",
       "      box-shadow: 0px 1px 2px rgba(60, 64, 67, 0.3), 0px 1px 3px 1px rgba(60, 64, 67, 0.15);\n",
       "      fill: #174EA6;\n",
       "    }\n",
       "\n",
       "    [theme=dark] .colab-df-convert {\n",
       "      background-color: #3B4455;\n",
       "      fill: #D2E3FC;\n",
       "    }\n",
       "\n",
       "    [theme=dark] .colab-df-convert:hover {\n",
       "      background-color: #434B5C;\n",
       "      box-shadow: 0px 1px 3px 1px rgba(0, 0, 0, 0.15);\n",
       "      filter: drop-shadow(0px 1px 2px rgba(0, 0, 0, 0.3));\n",
       "      fill: #FFFFFF;\n",
       "    }\n",
       "  </style>\n",
       "\n",
       "      <script>\n",
       "        const buttonEl =\n",
       "          document.querySelector('#df-b8b993b5-a811-4594-8901-850db72f86ee button.colab-df-convert');\n",
       "        buttonEl.style.display =\n",
       "          google.colab.kernel.accessAllowed ? 'block' : 'none';\n",
       "\n",
       "        async function convertToInteractive(key) {\n",
       "          const element = document.querySelector('#df-b8b993b5-a811-4594-8901-850db72f86ee');\n",
       "          const dataTable =\n",
       "            await google.colab.kernel.invokeFunction('convertToInteractive',\n",
       "                                                     [key], {});\n",
       "          if (!dataTable) return;\n",
       "\n",
       "          const docLinkHtml = 'Like what you see? Visit the ' +\n",
       "            '<a target=\"_blank\" href=https://colab.research.google.com/notebooks/data_table.ipynb>data table notebook</a>'\n",
       "            + ' to learn more about interactive tables.';\n",
       "          element.innerHTML = '';\n",
       "          dataTable['output_type'] = 'display_data';\n",
       "          await google.colab.output.renderOutput(dataTable, element);\n",
       "          const docLink = document.createElement('div');\n",
       "          docLink.innerHTML = docLinkHtml;\n",
       "          element.appendChild(docLink);\n",
       "        }\n",
       "      </script>\n",
       "    </div>\n",
       "  </div>\n",
       "  "
      ],
      "text/plain": [
       "   A1     A2     A3  A4  A5  A6     A7  ...  A9  A10  A11  A12  A13   A14  target\n",
       "0   1  22.08  11.46   2   4   4  1.585  ...   0    0    1    2  100  1213       0\n",
       "1   0  22.67   7.00   2   8   4  0.165  ...   0    0    0    2  160     1       0\n",
       "2   0  29.58   1.75   1   4   4  1.250  ...   0    0    1    2  280     1       0\n",
       "3   0  21.67  11.50   1   5   3  0.000  ...   1   11    1    2    0     1       1\n",
       "4   1  20.17   8.17   2   6   4  1.960  ...   1   14    0    2   60   159       1\n",
       "\n",
       "[5 rows x 15 columns]"
      ]
     },
     "execution_count": 118,
     "metadata": {},
     "output_type": "execute_result"
    }
   ],
   "source": [
    "colnames = ['A1','A2','A3','A4','A5','A6','A7','A8','A9','A10','A11','A12','A13','A14','target']\n",
    "original = pd.read_csv(\"drive/MyDrive/Datasets/australian.dat\",delimiter=' ',names=colnames, header=None)\n",
    "original.head()"
   ]
  },
  {
   "cell_type": "code",
   "execution_count": null,
   "metadata": {
    "colab": {
     "base_uri": "https://localhost:8080/"
    },
    "id": "fMDGvhTVH2-Q",
    "outputId": "7f36d1d1-c7ca-48c7-e3b9-54cc924d2d85"
   },
   "outputs": [
    {
     "name": "stdout",
     "output_type": "stream",
     "text": [
      "Shape of data after outlier removal is:  (659, 15)\n",
      "(690, 16)\n",
      "     A1     A2      A3  A4  A5  A6  ...  A10  A11  A12   A13     A14  target\n",
      "39    0  47.42   3.000   2  14   4  ...    2    1    2   519    1705       1\n",
      "49    0  52.83  15.000   2   8   4  ...   14    0    2     0    2201       1\n",
      "74    1  40.25  21.500   2  10   9  ...   11    0    2     0    1201       1\n",
      "119   1  48.75   8.500   2   8   8  ...    9    0    2   181    1656       1\n",
      "123   0  57.08  19.500   2   8   4  ...    7    0    2     0    3001       1\n",
      "137   1  39.25   9.500   2   7   4  ...   14    0    2   240    4608       1\n",
      "143   1  64.08  20.000   2  14   8  ...    9    1    2     0    1001       1\n",
      "145   0  68.67  15.000   2  10   9  ...   14    0    2     0    3377       1\n",
      "146   1  76.75  22.290   2  10   9  ...    1    1    2     0     110       1\n",
      "149   0  47.42   8.000   2  10   5  ...    6    0    2   375   51101       1\n",
      "154   1  52.50   6.500   2   4   4  ...   15    0    2     0   11203       1\n",
      "182   1  25.67  12.500   2  13   4  ...   67    1    2   140     259       1\n",
      "202   1  33.17   1.040   2  12   8  ...    0    1    2   164   31286       1\n",
      "233   1  56.42  28.000   1   8   4  ...   40    0    2     0      16       1\n",
      "247   1  60.08  14.500   2   1   1  ...   15    1    2     0    1001       1\n",
      "267   1  34.17   1.540   2  13   4  ...    1    1    2   520   50001       1\n",
      "286   1  65.42  11.000   2  10   9  ...    7    1    2    22       1       1\n",
      "305   1  39.33   5.875   2  13   8  ...   14    1    2   399       1       1\n",
      "316   0  38.58   5.000   2  13   4  ...    0    1    2   980       1       0\n",
      "322   1  54.58   9.415   2   1   1  ...   11    1    2    30     301       1\n",
      "363   0  19.58   0.665   1   8   4  ...    1    0    2  2000       3       0\n",
      "375   0  58.42  21.000   2   3   5  ...   13    0    2     0    6701       1\n",
      "471   1  48.17   7.625   2   9   8  ...   12    0    2     0     791       1\n",
      "478   0  60.58  16.500   2  11   4  ...    0    1    2    21   10562       1\n",
      "486   1  57.83   7.040   2   7   4  ...    6    1    2   360    1333       1\n",
      "500   1  17.50  22.000   3   1   7  ...    0    1    3   450  100001       1\n",
      "538   0  35.42  12.000   2  11   8  ...    8    0    2     0    6591       1\n",
      "559   1  47.67   0.290   2   8   5  ...   20    0    2     0   15001       1\n",
      "564   1  56.58  18.500   2   2   5  ...   17    1    2     0       1       1\n",
      "591   1  31.33  19.500   2   8   4  ...   16    0    2     0    5001       1\n",
      "642   1  35.17  25.125   2  14   8  ...    1    1    2   515     501       1\n",
      "\n",
      "[31 rows x 15 columns]\n"
     ]
    },
    {
     "name": "stderr",
     "output_type": "stream",
     "text": [
      "/usr/local/lib/python3.7/dist-packages/ipykernel_launcher.py:18: SettingWithCopyWarning: \n",
      "A value is trying to be set on a copy of a slice from a DataFrame\n",
      "\n",
      "See the caveats in the documentation: https://pandas.pydata.org/pandas-docs/stable/user_guide/indexing.html#returning-a-view-versus-a-copy\n"
     ]
    }
   ],
   "source": [
    "removeOutliers(df, 'score' ,original)\n",
    "data = filtered_data\n",
    "print(\"Shape of data after outlier removal is: \", data.shape)\n",
    "print(df.shape)\n",
    "# outlier_inst = outlier_inst.drop['target',1]\n",
    "print(outlier_inst)"
   ]
  },
  {
   "cell_type": "code",
   "execution_count": null,
   "metadata": {
    "id": "XrrFOPtqEhrr"
   },
   "outputs": [],
   "source": [
    "data.to_csv('drive/MyDrive/Datasets/IQRAfterRemovingOutliers/australian.csv', index = False)"
   ]
  },
  {
   "cell_type": "code",
   "execution_count": null,
   "metadata": {
    "colab": {
     "base_uri": "https://localhost:8080/"
    },
    "id": "qjN-wUF9ErVD",
    "outputId": "32ed11e5-00e0-46e9-d822-04d0eaec479c"
   },
   "outputs": [
    {
     "name": "stderr",
     "output_type": "stream",
     "text": [
      "/usr/local/lib/python3.7/dist-packages/ipykernel_launcher.py:1: FutureWarning: In a future version of pandas all arguments of DataFrame.drop except for the argument 'labels' will be keyword-only\n",
      "  \"\"\"Entry point for launching an IPython kernel.\n"
     ]
    }
   ],
   "source": [
    "classify_df = classify_df.drop('target',1)\n",
    "classify_df.to_csv('drive/MyDrive/Datasets/IQROutlier_Classification/australian.csv',index=False)"
   ]
  },
  {
   "cell_type": "markdown",
   "metadata": {
    "id": "_Rx-IQO-031c"
   },
   "source": [
    "Heart\n",
    "-------"
   ]
  },
  {
   "cell_type": "code",
   "execution_count": null,
   "metadata": {
    "colab": {
     "base_uri": "https://localhost:8080/",
     "height": 206
    },
    "id": "a9krJOMd05w-",
    "outputId": "a608e292-c536-4e62-afb0-89dacd96da88"
   },
   "outputs": [
    {
     "data": {
      "text/html": [
       "\n",
       "  <div id=\"df-9c651211-c673-409f-abc7-1c6056e6d9ea\">\n",
       "    <div class=\"colab-df-container\">\n",
       "      <div>\n",
       "<style scoped>\n",
       "    .dataframe tbody tr th:only-of-type {\n",
       "        vertical-align: middle;\n",
       "    }\n",
       "\n",
       "    .dataframe tbody tr th {\n",
       "        vertical-align: top;\n",
       "    }\n",
       "\n",
       "    .dataframe thead th {\n",
       "        text-align: right;\n",
       "    }\n",
       "</style>\n",
       "<table border=\"1\" class=\"dataframe\">\n",
       "  <thead>\n",
       "    <tr style=\"text-align: right;\">\n",
       "      <th></th>\n",
       "      <th>age</th>\n",
       "      <th>sex</th>\n",
       "      <th>cp</th>\n",
       "      <th>trestbps</th>\n",
       "      <th>chol</th>\n",
       "      <th>fbs</th>\n",
       "      <th>restecg</th>\n",
       "      <th>thalach</th>\n",
       "      <th>exang</th>\n",
       "      <th>oldpeak</th>\n",
       "      <th>slope</th>\n",
       "      <th>ca</th>\n",
       "      <th>thal</th>\n",
       "      <th>target</th>\n",
       "    </tr>\n",
       "  </thead>\n",
       "  <tbody>\n",
       "    <tr>\n",
       "      <th>0</th>\n",
       "      <td>63</td>\n",
       "      <td>1</td>\n",
       "      <td>3</td>\n",
       "      <td>145</td>\n",
       "      <td>233</td>\n",
       "      <td>1</td>\n",
       "      <td>0</td>\n",
       "      <td>150</td>\n",
       "      <td>0</td>\n",
       "      <td>2.3</td>\n",
       "      <td>0</td>\n",
       "      <td>0</td>\n",
       "      <td>1</td>\n",
       "      <td>1</td>\n",
       "    </tr>\n",
       "    <tr>\n",
       "      <th>1</th>\n",
       "      <td>37</td>\n",
       "      <td>1</td>\n",
       "      <td>2</td>\n",
       "      <td>130</td>\n",
       "      <td>250</td>\n",
       "      <td>0</td>\n",
       "      <td>1</td>\n",
       "      <td>187</td>\n",
       "      <td>0</td>\n",
       "      <td>3.5</td>\n",
       "      <td>0</td>\n",
       "      <td>0</td>\n",
       "      <td>2</td>\n",
       "      <td>1</td>\n",
       "    </tr>\n",
       "    <tr>\n",
       "      <th>2</th>\n",
       "      <td>41</td>\n",
       "      <td>0</td>\n",
       "      <td>1</td>\n",
       "      <td>130</td>\n",
       "      <td>204</td>\n",
       "      <td>0</td>\n",
       "      <td>0</td>\n",
       "      <td>172</td>\n",
       "      <td>0</td>\n",
       "      <td>1.4</td>\n",
       "      <td>2</td>\n",
       "      <td>0</td>\n",
       "      <td>2</td>\n",
       "      <td>1</td>\n",
       "    </tr>\n",
       "    <tr>\n",
       "      <th>3</th>\n",
       "      <td>56</td>\n",
       "      <td>1</td>\n",
       "      <td>1</td>\n",
       "      <td>120</td>\n",
       "      <td>236</td>\n",
       "      <td>0</td>\n",
       "      <td>1</td>\n",
       "      <td>178</td>\n",
       "      <td>0</td>\n",
       "      <td>0.8</td>\n",
       "      <td>2</td>\n",
       "      <td>0</td>\n",
       "      <td>2</td>\n",
       "      <td>1</td>\n",
       "    </tr>\n",
       "    <tr>\n",
       "      <th>4</th>\n",
       "      <td>57</td>\n",
       "      <td>0</td>\n",
       "      <td>0</td>\n",
       "      <td>120</td>\n",
       "      <td>354</td>\n",
       "      <td>0</td>\n",
       "      <td>1</td>\n",
       "      <td>163</td>\n",
       "      <td>1</td>\n",
       "      <td>0.6</td>\n",
       "      <td>2</td>\n",
       "      <td>0</td>\n",
       "      <td>2</td>\n",
       "      <td>1</td>\n",
       "    </tr>\n",
       "  </tbody>\n",
       "</table>\n",
       "</div>\n",
       "      <button class=\"colab-df-convert\" onclick=\"convertToInteractive('df-9c651211-c673-409f-abc7-1c6056e6d9ea')\"\n",
       "              title=\"Convert this dataframe to an interactive table.\"\n",
       "              style=\"display:none;\">\n",
       "        \n",
       "  <svg xmlns=\"http://www.w3.org/2000/svg\" height=\"24px\"viewBox=\"0 0 24 24\"\n",
       "       width=\"24px\">\n",
       "    <path d=\"M0 0h24v24H0V0z\" fill=\"none\"/>\n",
       "    <path d=\"M18.56 5.44l.94 2.06.94-2.06 2.06-.94-2.06-.94-.94-2.06-.94 2.06-2.06.94zm-11 1L8.5 8.5l.94-2.06 2.06-.94-2.06-.94L8.5 2.5l-.94 2.06-2.06.94zm10 10l.94 2.06.94-2.06 2.06-.94-2.06-.94-.94-2.06-.94 2.06-2.06.94z\"/><path d=\"M17.41 7.96l-1.37-1.37c-.4-.4-.92-.59-1.43-.59-.52 0-1.04.2-1.43.59L10.3 9.45l-7.72 7.72c-.78.78-.78 2.05 0 2.83L4 21.41c.39.39.9.59 1.41.59.51 0 1.02-.2 1.41-.59l7.78-7.78 2.81-2.81c.8-.78.8-2.07 0-2.86zM5.41 20L4 18.59l7.72-7.72 1.47 1.35L5.41 20z\"/>\n",
       "  </svg>\n",
       "      </button>\n",
       "      \n",
       "  <style>\n",
       "    .colab-df-container {\n",
       "      display:flex;\n",
       "      flex-wrap:wrap;\n",
       "      gap: 12px;\n",
       "    }\n",
       "\n",
       "    .colab-df-convert {\n",
       "      background-color: #E8F0FE;\n",
       "      border: none;\n",
       "      border-radius: 50%;\n",
       "      cursor: pointer;\n",
       "      display: none;\n",
       "      fill: #1967D2;\n",
       "      height: 32px;\n",
       "      padding: 0 0 0 0;\n",
       "      width: 32px;\n",
       "    }\n",
       "\n",
       "    .colab-df-convert:hover {\n",
       "      background-color: #E2EBFA;\n",
       "      box-shadow: 0px 1px 2px rgba(60, 64, 67, 0.3), 0px 1px 3px 1px rgba(60, 64, 67, 0.15);\n",
       "      fill: #174EA6;\n",
       "    }\n",
       "\n",
       "    [theme=dark] .colab-df-convert {\n",
       "      background-color: #3B4455;\n",
       "      fill: #D2E3FC;\n",
       "    }\n",
       "\n",
       "    [theme=dark] .colab-df-convert:hover {\n",
       "      background-color: #434B5C;\n",
       "      box-shadow: 0px 1px 3px 1px rgba(0, 0, 0, 0.15);\n",
       "      filter: drop-shadow(0px 1px 2px rgba(0, 0, 0, 0.3));\n",
       "      fill: #FFFFFF;\n",
       "    }\n",
       "  </style>\n",
       "\n",
       "      <script>\n",
       "        const buttonEl =\n",
       "          document.querySelector('#df-9c651211-c673-409f-abc7-1c6056e6d9ea button.colab-df-convert');\n",
       "        buttonEl.style.display =\n",
       "          google.colab.kernel.accessAllowed ? 'block' : 'none';\n",
       "\n",
       "        async function convertToInteractive(key) {\n",
       "          const element = document.querySelector('#df-9c651211-c673-409f-abc7-1c6056e6d9ea');\n",
       "          const dataTable =\n",
       "            await google.colab.kernel.invokeFunction('convertToInteractive',\n",
       "                                                     [key], {});\n",
       "          if (!dataTable) return;\n",
       "\n",
       "          const docLinkHtml = 'Like what you see? Visit the ' +\n",
       "            '<a target=\"_blank\" href=https://colab.research.google.com/notebooks/data_table.ipynb>data table notebook</a>'\n",
       "            + ' to learn more about interactive tables.';\n",
       "          element.innerHTML = '';\n",
       "          dataTable['output_type'] = 'display_data';\n",
       "          await google.colab.output.renderOutput(dataTable, element);\n",
       "          const docLink = document.createElement('div');\n",
       "          docLink.innerHTML = docLinkHtml;\n",
       "          element.appendChild(docLink);\n",
       "        }\n",
       "      </script>\n",
       "    </div>\n",
       "  </div>\n",
       "  "
      ],
      "text/plain": [
       "   age  sex  cp  trestbps  chol  fbs  restecg  thalach  exang  oldpeak  slope  \\\n",
       "0   63    1   3       145   233    1        0      150      0      2.3      0   \n",
       "1   37    1   2       130   250    0        1      187      0      3.5      0   \n",
       "2   41    0   1       130   204    0        0      172      0      1.4      2   \n",
       "3   56    1   1       120   236    0        1      178      0      0.8      2   \n",
       "4   57    0   0       120   354    0        1      163      1      0.6      2   \n",
       "\n",
       "   ca  thal  target  \n",
       "0   0     1       1  \n",
       "1   0     2       1  \n",
       "2   0     2       1  \n",
       "3   0     2       1  \n",
       "4   0     2       1  "
      ]
     },
     "execution_count": 3,
     "metadata": {},
     "output_type": "execute_result"
    }
   ],
   "source": [
    "df=pd.read_csv(\"drive/MyDrive/Datasets/heart.csv\")\n",
    "df.head()"
   ]
  },
  {
   "cell_type": "markdown",
   "metadata": {
    "id": "ym1buVMx12cl"
   },
   "source": [
    "Unique values for categorical variables\n",
    "\n",
    "sex: [1, 0]\n",
    "\n",
    "cp: [3, 2, 1, 0]\n",
    "\n",
    "fbs: [1, 0]\n",
    "\n",
    "restecg: [0, 1, 2]\n",
    "\n",
    "exang: [0, 1]\n",
    "\n",
    "slope: [0, 2, 1]\n",
    "\n",
    "ca: [0, 2, 1, 3, 4]\n",
    "\n",
    "thal: [1, 2, 3, 0]"
   ]
  },
  {
   "cell_type": "code",
   "execution_count": null,
   "metadata": {
    "id": "kU70XOsg1302"
   },
   "outputs": [],
   "source": [
    "categ = ['sex','cp','fbs','restecg','exang','slope','ca','thal']\n",
    "str_ar = categ.copy()\n",
    "str_ar.append('target')\n",
    "std_dev=df.std()\n",
    "avg=df.mean()\n",
    "for i in str_ar:\n",
    "    std_dev[i]=1\n",
    "    avg[i]=0\n",
    "df= (df- avg)/std_dev"
   ]
  },
  {
   "cell_type": "code",
   "execution_count": null,
   "metadata": {
    "colab": {
     "base_uri": "https://localhost:8080/"
    },
    "id": "DCeUSqp-Y9QE",
    "outputId": "02d29131-7185-4e60-d83c-fbad71f85ff1"
   },
   "outputs": [
    {
     "name": "stdout",
     "output_type": "stream",
     "text": [
      "sex     0.0  1.0\n",
      "target          \n",
      "0.0      24  114\n",
      "1.0      72   93\n",
      "fjebfkebjkfbejfb\n",
      "sex\n",
      "0.0     96\n",
      "1.0    207\n",
      "dtype: int64\n",
      "cp      0.0  1.0  2.0  3.0\n",
      "target                    \n",
      "0.0     104    9   18    7\n",
      "1.0      39   41   69   16\n",
      "fjebfkebjkfbejfb\n",
      "cp\n",
      "0.0    143\n",
      "1.0     50\n",
      "2.0     87\n",
      "3.0     23\n",
      "dtype: int64\n",
      "fbs     0.0  1.0\n",
      "target          \n",
      "0.0     116   22\n",
      "1.0     142   23\n",
      "fjebfkebjkfbejfb\n",
      "fbs\n",
      "0.0    258\n",
      "1.0     45\n",
      "dtype: int64\n",
      "restecg  0.0  1.0  2.0\n",
      "target                \n",
      "0.0       79   56    3\n",
      "1.0       68   96    1\n",
      "fjebfkebjkfbejfb\n",
      "restecg\n",
      "0.0    147\n",
      "1.0    152\n",
      "2.0      4\n",
      "dtype: int64\n",
      "exang   0.0  1.0\n",
      "target          \n",
      "0.0      62   76\n",
      "1.0     142   23\n",
      "fjebfkebjkfbejfb\n",
      "exang\n",
      "0.0    204\n",
      "1.0     99\n",
      "dtype: int64\n",
      "slope   0.0  1.0  2.0\n",
      "target               \n",
      "0.0      12   91   35\n",
      "1.0       9   49  107\n",
      "fjebfkebjkfbejfb\n",
      "slope\n",
      "0.0     21\n",
      "1.0    140\n",
      "2.0    142\n",
      "dtype: int64\n",
      "ca      0.0  1.0  2.0  3.0  4.0\n",
      "target                         \n",
      "0.0      45   44   31   17    1\n",
      "1.0     130   21    7    3    4\n",
      "fjebfkebjkfbejfb\n",
      "ca\n",
      "0.0    175\n",
      "1.0     65\n",
      "2.0     38\n",
      "3.0     20\n",
      "4.0      5\n",
      "dtype: int64\n",
      "thal    0.0  1.0  2.0  3.0\n",
      "target                    \n",
      "0.0       1   12   36   89\n",
      "1.0       1    6  130   28\n",
      "fjebfkebjkfbejfb\n",
      "thal\n",
      "0.0      2\n",
      "1.0     18\n",
      "2.0    166\n",
      "3.0    117\n",
      "dtype: int64\n"
     ]
    }
   ],
   "source": [
    "for j in range(len(categ)):\n",
    "    data_crosstab = pd.crosstab(df.target,df[categ[j]], margins = False)\n",
    "    print(data_crosstab)\n",
    "    total=data_crosstab.sum(axis=0)\n",
    "    print('fjebfkebjkfbejfb')\n",
    "    print(total)"
   ]
  },
  {
   "cell_type": "code",
   "execution_count": null,
   "metadata": {
    "colab": {
     "base_uri": "https://localhost:8080/"
    },
    "id": "YDMJyFXo3OMm",
    "outputId": "ee8dc9cd-9108-4e2d-d678-05b95f875074"
   },
   "outputs": [
    {
     "name": "stdout",
     "output_type": "stream",
     "text": [
      "sex      0.0       1.0\n",
      "target                \n",
      "0.0     0.25  0.550725\n",
      "1.0     0.75  0.449275\n",
      "\n",
      "cp           0.0   1.0       2.0       3.0\n",
      "target                                    \n",
      "0.0     0.727273  0.18  0.206897  0.304348\n",
      "1.0     0.272727  0.82  0.793103  0.695652\n",
      "\n",
      "fbs          0.0       1.0\n",
      "target                    \n",
      "0.0     0.449612  0.488889\n",
      "1.0     0.550388  0.511111\n",
      "\n",
      "restecg       0.0       1.0   2.0\n",
      "target                           \n",
      "0.0      0.537415  0.368421  0.75\n",
      "1.0      0.462585  0.631579  0.25\n",
      "\n",
      "exang        0.0       1.0\n",
      "target                    \n",
      "0.0     0.303922  0.767677\n",
      "1.0     0.696078  0.232323\n",
      "\n",
      "slope        0.0   1.0       2.0\n",
      "target                          \n",
      "0.0     0.571429  0.65  0.246479\n",
      "1.0     0.428571  0.35  0.753521\n",
      "\n",
      "ca           0.0       1.0       2.0   3.0  4.0\n",
      "target                                         \n",
      "0.0     0.257143  0.676923  0.815789  0.85  0.2\n",
      "1.0     0.742857  0.323077  0.184211  0.15  0.8\n",
      "\n",
      "thal    0.0       1.0       2.0       3.0\n",
      "target                                   \n",
      "0.0     0.5  0.666667  0.216867  0.760684\n",
      "1.0     0.5  0.333333  0.783133  0.239316\n",
      "\n"
     ]
    }
   ],
   "source": [
    "for j in range(len(categ)):\n",
    "    data_crosstab = pd.crosstab(df.target,df[categ[j]], margins = False)\n",
    "    total=data_crosstab.sum(axis=0)\n",
    "    data_crosstab = data_crosstab/total\n",
    "    print(data_crosstab)\n",
    "    print()\n",
    "    df[categ[j]] = [data_crosstab[df[categ[j]][i]][df['target'][i]] for i in range(len(df))]\n",
    "df['score']=df.sum(axis=1)"
   ]
  },
  {
   "cell_type": "code",
   "execution_count": null,
   "metadata": {
    "colab": {
     "base_uri": "https://localhost:8080/"
    },
    "id": "fP4NvBUg3e_z",
    "outputId": "5ab8703b-988f-4823-f311-2d22d7126fd8"
   },
   "outputs": [
    {
     "name": "stdout",
     "output_type": "stream",
     "text": [
      "Shape of data after outlier removal is:  (296, 14)\n",
      "(303, 15)\n",
      "     age  sex  cp  trestbps  chol  fbs  ...  exang  oldpeak  slope  ca  thal  target\n",
      "39    65    0   2       160   360    0  ...      0      0.8      2   0     2       1\n",
      "85    67    0   2       115   564    0  ...      0      1.6      1   0     3       1\n",
      "101   59    1   3       178   270    0  ...      0      4.2      0   0     3       1\n",
      "189   41    1   0       110   172    0  ...      0      0.0      2   0     3       0\n",
      "220   63    0   0       150   407    0  ...      0      4.0      1   3     3       0\n",
      "223   56    0   0       200   288    1  ...      1      4.0      0   2     3       0\n",
      "267   49    1   2       118   149    0  ...      0      0.8      2   3     2       0\n",
      "\n",
      "[7 rows x 14 columns]\n"
     ]
    },
    {
     "name": "stderr",
     "output_type": "stream",
     "text": [
      "/usr/local/lib/python3.7/dist-packages/ipykernel_launcher.py:18: SettingWithCopyWarning: \n",
      "A value is trying to be set on a copy of a slice from a DataFrame\n",
      "\n",
      "See the caveats in the documentation: https://pandas.pydata.org/pandas-docs/stable/user_guide/indexing.html#returning-a-view-versus-a-copy\n"
     ]
    }
   ],
   "source": [
    "original = pd.read_csv(\"drive/MyDrive/Datasets/heart.csv\")\n",
    "removeOutliers(df, 'score' ,original)\n",
    "\n",
    "data = filtered_data\n",
    "print(\"Shape of data after outlier removal is: \", data.shape)\n",
    "print(df.shape)\n",
    "print(outlier_inst)"
   ]
  },
  {
   "cell_type": "code",
   "execution_count": null,
   "metadata": {
    "id": "n9kqoNxU3yl0"
   },
   "outputs": [],
   "source": [
    "data.to_csv('drive/MyDrive/Datasets/IQRAfterRemovingOutliers/heart.csv', index = False)"
   ]
  },
  {
   "cell_type": "code",
   "execution_count": null,
   "metadata": {
    "colab": {
     "base_uri": "https://localhost:8080/"
    },
    "id": "gkV9W0HzU3NQ",
    "outputId": "5d77c7b9-2f97-42e1-a445-17b96c9d0c10"
   },
   "outputs": [
    {
     "name": "stderr",
     "output_type": "stream",
     "text": [
      "/usr/local/lib/python3.7/dist-packages/ipykernel_launcher.py:1: FutureWarning: In a future version of pandas all arguments of DataFrame.drop except for the argument 'labels' will be keyword-only\n",
      "  \"\"\"Entry point for launching an IPython kernel.\n"
     ]
    }
   ],
   "source": [
    "classify_df = classify_df.drop('target',1)\n",
    "classify_df.to_csv('drive/MyDrive/Datasets/IQROutlier_Classification/heart.csv',index=False)"
   ]
  },
  {
   "cell_type": "markdown",
   "metadata": {
    "id": "9Rdv1e2QQGEY"
   },
   "source": [
    "Classification Problem\n",
    "--------------------------------\n",
    "Given sample Outlier or not"
   ]
  },
  {
   "cell_type": "markdown",
   "metadata": {
    "id": "VVBInD0VjKis"
   },
   "source": [
    "Cylinder Bands\n",
    "-----------------"
   ]
  },
  {
   "cell_type": "code",
   "execution_count": null,
   "metadata": {
    "colab": {
     "base_uri": "https://localhost:8080/",
     "height": 300
    },
    "id": "E0u33Ns5jKiu",
    "outputId": "2bd0d787-59f5-4a21-be1f-1a642b0ef1be"
   },
   "outputs": [
    {
     "data": {
      "text/html": [
       "\n",
       "  <div id=\"df-0261be36-7f56-4807-b08b-8038abe5a6df\">\n",
       "    <div class=\"colab-df-container\">\n",
       "      <div>\n",
       "<style scoped>\n",
       "    .dataframe tbody tr th:only-of-type {\n",
       "        vertical-align: middle;\n",
       "    }\n",
       "\n",
       "    .dataframe tbody tr th {\n",
       "        vertical-align: top;\n",
       "    }\n",
       "\n",
       "    .dataframe thead th {\n",
       "        text-align: right;\n",
       "    }\n",
       "</style>\n",
       "<table border=\"1\" class=\"dataframe\">\n",
       "  <thead>\n",
       "    <tr style=\"text-align: right;\">\n",
       "      <th></th>\n",
       "      <th>timestamp</th>\n",
       "      <th>cylinder_number</th>\n",
       "      <th>customer</th>\n",
       "      <th>job_number</th>\n",
       "      <th>grain_screened</th>\n",
       "      <th>ink_color</th>\n",
       "      <th>proof_on_ctd_ink</th>\n",
       "      <th>blade_mfg</th>\n",
       "      <th>cylinder_division</th>\n",
       "      <th>paper_type</th>\n",
       "      <th>...</th>\n",
       "      <th>solvent_pct</th>\n",
       "      <th>ESA_Voltage</th>\n",
       "      <th>ESA_Amperage</th>\n",
       "      <th>wax</th>\n",
       "      <th>hardener</th>\n",
       "      <th>roller_durometer</th>\n",
       "      <th>current_density</th>\n",
       "      <th>anode_space_ratio</th>\n",
       "      <th>chrome_content</th>\n",
       "      <th>outlier</th>\n",
       "    </tr>\n",
       "  </thead>\n",
       "  <tbody>\n",
       "    <tr>\n",
       "      <th>0</th>\n",
       "      <td>19910108</td>\n",
       "      <td>X126</td>\n",
       "      <td>TVGUIDE</td>\n",
       "      <td>25503</td>\n",
       "      <td>YES</td>\n",
       "      <td>KEY</td>\n",
       "      <td>YES</td>\n",
       "      <td>BENTON</td>\n",
       "      <td>GALLATIN</td>\n",
       "      <td>UNCOATED</td>\n",
       "      <td>...</td>\n",
       "      <td>36.4</td>\n",
       "      <td>0</td>\n",
       "      <td>0</td>\n",
       "      <td>2.5</td>\n",
       "      <td>1</td>\n",
       "      <td>34</td>\n",
       "      <td>40</td>\n",
       "      <td>105</td>\n",
       "      <td>100</td>\n",
       "      <td>0</td>\n",
       "    </tr>\n",
       "    <tr>\n",
       "      <th>1</th>\n",
       "      <td>19910109</td>\n",
       "      <td>X266</td>\n",
       "      <td>TVGUIDE</td>\n",
       "      <td>25503</td>\n",
       "      <td>YES</td>\n",
       "      <td>KEY</td>\n",
       "      <td>YES</td>\n",
       "      <td>BENTON</td>\n",
       "      <td>GALLATIN</td>\n",
       "      <td>UNCOATED</td>\n",
       "      <td>...</td>\n",
       "      <td>38.5</td>\n",
       "      <td>0</td>\n",
       "      <td>0</td>\n",
       "      <td>2.5</td>\n",
       "      <td>0.7</td>\n",
       "      <td>34</td>\n",
       "      <td>40</td>\n",
       "      <td>105</td>\n",
       "      <td>100</td>\n",
       "      <td>0</td>\n",
       "    </tr>\n",
       "    <tr>\n",
       "      <th>2</th>\n",
       "      <td>19910104</td>\n",
       "      <td>B7</td>\n",
       "      <td>MODMAT</td>\n",
       "      <td>47201</td>\n",
       "      <td>YES</td>\n",
       "      <td>KEY</td>\n",
       "      <td>YES</td>\n",
       "      <td>BENTON</td>\n",
       "      <td>GALLATIN</td>\n",
       "      <td>UNCOATED</td>\n",
       "      <td>...</td>\n",
       "      <td>39.8</td>\n",
       "      <td>0</td>\n",
       "      <td>0</td>\n",
       "      <td>2.8</td>\n",
       "      <td>0.9</td>\n",
       "      <td>40</td>\n",
       "      <td>40</td>\n",
       "      <td>103.87</td>\n",
       "      <td>100</td>\n",
       "      <td>0</td>\n",
       "    </tr>\n",
       "    <tr>\n",
       "      <th>3</th>\n",
       "      <td>19910104</td>\n",
       "      <td>T133</td>\n",
       "      <td>MASSEY</td>\n",
       "      <td>39039</td>\n",
       "      <td>YES</td>\n",
       "      <td>KEY</td>\n",
       "      <td>YES</td>\n",
       "      <td>BENTON</td>\n",
       "      <td>GALLATIN</td>\n",
       "      <td>UNCOATED</td>\n",
       "      <td>...</td>\n",
       "      <td>38.8</td>\n",
       "      <td>0</td>\n",
       "      <td>0</td>\n",
       "      <td>2.5</td>\n",
       "      <td>1.3</td>\n",
       "      <td>40</td>\n",
       "      <td>40</td>\n",
       "      <td>108.06</td>\n",
       "      <td>100</td>\n",
       "      <td>0</td>\n",
       "    </tr>\n",
       "    <tr>\n",
       "      <th>4</th>\n",
       "      <td>19910111</td>\n",
       "      <td>J34</td>\n",
       "      <td>KMART</td>\n",
       "      <td>37351</td>\n",
       "      <td>NO</td>\n",
       "      <td>KEY</td>\n",
       "      <td>YES</td>\n",
       "      <td>BENTON</td>\n",
       "      <td>GALLATIN</td>\n",
       "      <td>UNCOATED</td>\n",
       "      <td>...</td>\n",
       "      <td>42.5</td>\n",
       "      <td>5</td>\n",
       "      <td>0</td>\n",
       "      <td>2.3</td>\n",
       "      <td>0.6</td>\n",
       "      <td>35</td>\n",
       "      <td>40</td>\n",
       "      <td>106.67</td>\n",
       "      <td>100</td>\n",
       "      <td>0</td>\n",
       "    </tr>\n",
       "  </tbody>\n",
       "</table>\n",
       "<p>5 rows × 40 columns</p>\n",
       "</div>\n",
       "      <button class=\"colab-df-convert\" onclick=\"convertToInteractive('df-0261be36-7f56-4807-b08b-8038abe5a6df')\"\n",
       "              title=\"Convert this dataframe to an interactive table.\"\n",
       "              style=\"display:none;\">\n",
       "        \n",
       "  <svg xmlns=\"http://www.w3.org/2000/svg\" height=\"24px\"viewBox=\"0 0 24 24\"\n",
       "       width=\"24px\">\n",
       "    <path d=\"M0 0h24v24H0V0z\" fill=\"none\"/>\n",
       "    <path d=\"M18.56 5.44l.94 2.06.94-2.06 2.06-.94-2.06-.94-.94-2.06-.94 2.06-2.06.94zm-11 1L8.5 8.5l.94-2.06 2.06-.94-2.06-.94L8.5 2.5l-.94 2.06-2.06.94zm10 10l.94 2.06.94-2.06 2.06-.94-2.06-.94-.94-2.06-.94 2.06-2.06.94z\"/><path d=\"M17.41 7.96l-1.37-1.37c-.4-.4-.92-.59-1.43-.59-.52 0-1.04.2-1.43.59L10.3 9.45l-7.72 7.72c-.78.78-.78 2.05 0 2.83L4 21.41c.39.39.9.59 1.41.59.51 0 1.02-.2 1.41-.59l7.78-7.78 2.81-2.81c.8-.78.8-2.07 0-2.86zM5.41 20L4 18.59l7.72-7.72 1.47 1.35L5.41 20z\"/>\n",
       "  </svg>\n",
       "      </button>\n",
       "      \n",
       "  <style>\n",
       "    .colab-df-container {\n",
       "      display:flex;\n",
       "      flex-wrap:wrap;\n",
       "      gap: 12px;\n",
       "    }\n",
       "\n",
       "    .colab-df-convert {\n",
       "      background-color: #E8F0FE;\n",
       "      border: none;\n",
       "      border-radius: 50%;\n",
       "      cursor: pointer;\n",
       "      display: none;\n",
       "      fill: #1967D2;\n",
       "      height: 32px;\n",
       "      padding: 0 0 0 0;\n",
       "      width: 32px;\n",
       "    }\n",
       "\n",
       "    .colab-df-convert:hover {\n",
       "      background-color: #E2EBFA;\n",
       "      box-shadow: 0px 1px 2px rgba(60, 64, 67, 0.3), 0px 1px 3px 1px rgba(60, 64, 67, 0.15);\n",
       "      fill: #174EA6;\n",
       "    }\n",
       "\n",
       "    [theme=dark] .colab-df-convert {\n",
       "      background-color: #3B4455;\n",
       "      fill: #D2E3FC;\n",
       "    }\n",
       "\n",
       "    [theme=dark] .colab-df-convert:hover {\n",
       "      background-color: #434B5C;\n",
       "      box-shadow: 0px 1px 3px 1px rgba(0, 0, 0, 0.15);\n",
       "      filter: drop-shadow(0px 1px 2px rgba(0, 0, 0, 0.3));\n",
       "      fill: #FFFFFF;\n",
       "    }\n",
       "  </style>\n",
       "\n",
       "      <script>\n",
       "        const buttonEl =\n",
       "          document.querySelector('#df-0261be36-7f56-4807-b08b-8038abe5a6df button.colab-df-convert');\n",
       "        buttonEl.style.display =\n",
       "          google.colab.kernel.accessAllowed ? 'block' : 'none';\n",
       "\n",
       "        async function convertToInteractive(key) {\n",
       "          const element = document.querySelector('#df-0261be36-7f56-4807-b08b-8038abe5a6df');\n",
       "          const dataTable =\n",
       "            await google.colab.kernel.invokeFunction('convertToInteractive',\n",
       "                                                     [key], {});\n",
       "          if (!dataTable) return;\n",
       "\n",
       "          const docLinkHtml = 'Like what you see? Visit the ' +\n",
       "            '<a target=\"_blank\" href=https://colab.research.google.com/notebooks/data_table.ipynb>data table notebook</a>'\n",
       "            + ' to learn more about interactive tables.';\n",
       "          element.innerHTML = '';\n",
       "          dataTable['output_type'] = 'display_data';\n",
       "          await google.colab.output.renderOutput(dataTable, element);\n",
       "          const docLink = document.createElement('div');\n",
       "          docLink.innerHTML = docLinkHtml;\n",
       "          element.appendChild(docLink);\n",
       "        }\n",
       "      </script>\n",
       "    </div>\n",
       "  </div>\n",
       "  "
      ],
      "text/plain": [
       "   timestamp cylinder_number customer  job_number grain_screened ink_color  \\\n",
       "0   19910108            X126  TVGUIDE       25503            YES       KEY   \n",
       "1   19910109            X266  TVGUIDE       25503            YES       KEY   \n",
       "2   19910104              B7   MODMAT       47201            YES       KEY   \n",
       "3   19910104            T133   MASSEY       39039            YES       KEY   \n",
       "4   19910111             J34    KMART       37351             NO       KEY   \n",
       "\n",
       "  proof_on_ctd_ink blade_mfg cylinder_division paper_type  ... solvent_pct  \\\n",
       "0              YES    BENTON          GALLATIN   UNCOATED  ...        36.4   \n",
       "1              YES    BENTON          GALLATIN   UNCOATED  ...        38.5   \n",
       "2              YES    BENTON          GALLATIN   UNCOATED  ...        39.8   \n",
       "3              YES    BENTON          GALLATIN   UNCOATED  ...        38.8   \n",
       "4              YES    BENTON          GALLATIN   UNCOATED  ...        42.5   \n",
       "\n",
       "  ESA_Voltage ESA_Amperage  wax hardener  roller_durometer  current_density  \\\n",
       "0           0            0  2.5        1                34               40   \n",
       "1           0            0  2.5      0.7                34               40   \n",
       "2           0            0  2.8      0.9                40               40   \n",
       "3           0            0  2.5      1.3                40               40   \n",
       "4           5            0  2.3      0.6                35               40   \n",
       "\n",
       "  anode_space_ratio chrome_content outlier  \n",
       "0               105            100       0  \n",
       "1               105            100       0  \n",
       "2            103.87            100       0  \n",
       "3            108.06            100       0  \n",
       "4            106.67            100       0  \n",
       "\n",
       "[5 rows x 40 columns]"
      ]
     },
     "execution_count": 28,
     "metadata": {},
     "output_type": "execute_result"
    }
   ],
   "source": [
    "df=pd.read_csv(\"drive/MyDrive/Datasets/IQROutlier_Classification/band.csv\")\n",
    "df.head()"
   ]
  },
  {
   "cell_type": "code",
   "execution_count": null,
   "metadata": {
    "id": "yKFyYFZGjKiv"
   },
   "outputs": [],
   "source": [
    "categ = ['cylinder_number', 'customer', 'job_number', 'grain_screened', 'ink_color',\n",
    "'proof_on_ctd_ink', 'blade_mfg', 'cylinder_division', 'paper_type', 'ink_type', 'direct_steam', 'solvent_type',\n",
    "'type_on_cylinder', 'press_type', 'press', 'unit_number', 'cylinder_size', 'paper_mill_location', 'plating_tank']\n",
    "cont = ['proof_cut', 'viscosity', 'caliper', 'ink_temperature', 'humifity', 'roughness', 'blade_pressure', 'varnish_pct',\n",
    "'press_speed', 'ink_pct', 'solvent_pct', 'ESA_Voltage', 'ESA_Amperage', 'wax', 'hardener', 'roller_durometer',\n",
    "'current_density', 'anode_space_ratio', 'chrome_content']\n",
    "df = MissingValuesHandler(df, categ, cont)"
   ]
  },
  {
   "cell_type": "code",
   "execution_count": null,
   "metadata": {
    "colab": {
     "base_uri": "https://localhost:8080/"
    },
    "id": "EXOmg2QbjKiw",
    "outputId": "27572536-bd23-4aff-d6e8-368a5a518c00"
   },
   "outputs": [
    {
     "name": "stdout",
     "output_type": "stream",
     "text": [
      "   timestamp proof_cut viscosity caliper ink_temperature humifity roughness  \\\n",
      "0   19910108        55        46     0.2              17       78      0.75   \n",
      "1   19910109        55        46     0.3              15       80      0.75   \n",
      "2   19910104        62        40   0.433              16       80      0.75   \n",
      "3   19910104        52        40     0.3              16       75    0.3125   \n",
      "4   19910111        50        46     0.3              17       80      0.75   \n",
      "\n",
      "  blade_pressure varnish_pct press_speed  ... cylinder_size_tabloid  \\\n",
      "0             20        13.1        1700  ...                     0   \n",
      "1             20         6.6        1900  ...                     0   \n",
      "2             30         6.5        1850  ...                     0   \n",
      "3             30         5.6        1467  ...                     0   \n",
      "4             30           0        2100  ...                     0   \n",
      "\n",
      "  cylinder_size_spiegel paper_mill_location_NorthUS  \\\n",
      "0                     0                           0   \n",
      "1                     0                           0   \n",
      "2                     0                           0   \n",
      "3                     0                           0   \n",
      "4                     0                           0   \n",
      "\n",
      "  paper_mill_location_CANADIAN paper_mill_location_CANAdiAN  \\\n",
      "0                            0                            1   \n",
      "1                            0                            1   \n",
      "2                            0                            1   \n",
      "3                            0                            1   \n",
      "4                            0                            1   \n",
      "\n",
      "  paper_mill_location_SCANDANAVIAN paper_mill_location_SouthUS  \\\n",
      "0                                0                           0   \n",
      "1                                0                           0   \n",
      "2                                0                           0   \n",
      "3                                0                           0   \n",
      "4                                0                           0   \n",
      "\n",
      "  paper_mill_location_mideuropean plating_tank_1911 plating_tank_1910  \n",
      "0                               0                 0                 1  \n",
      "1                               0                 1                 0  \n",
      "2                               0                 1                 0  \n",
      "3                               0                 1                 0  \n",
      "4                               0                 1                 0  \n",
      "\n",
      "[5 rows x 865 columns]\n"
     ]
    }
   ],
   "source": [
    "df = oneHotFunc(df, categ)\n",
    "df = df.astype(float)"
   ]
  },
  {
   "cell_type": "code",
   "execution_count": null,
   "metadata": {
    "colab": {
     "base_uri": "https://localhost:8080/"
    },
    "id": "Lq0u5PaBjKiw",
    "outputId": "aed74b6c-4367-43e9-cec9-9fef33caf7e5"
   },
   "outputs": [
    {
     "data": {
      "text/plain": [
       "0.0    529\n",
       "1.0    529\n",
       "Name: outlier, dtype: int64"
      ]
     },
     "execution_count": 31,
     "metadata": {},
     "output_type": "execute_result"
    }
   ],
   "source": [
    "msk = df['outlier'] == 1\n",
    "num_to_oversample = len(df) - 2*msk.sum()\n",
    "df_positive_oversample = df[msk].sample(n=num_to_oversample, replace=True, random_state=888)\n",
    "df_train_oversample = pd.concat([df, df_positive_oversample])\n",
    "df_train_oversample['outlier'].value_counts()"
   ]
  },
  {
   "cell_type": "code",
   "execution_count": null,
   "metadata": {
    "colab": {
     "base_uri": "https://localhost:8080/"
    },
    "id": "5QzVfn-KjKix",
    "outputId": "10f29189-f816-4a05-d54b-5ba4d4234504"
   },
   "outputs": [
    {
     "name": "stderr",
     "output_type": "stream",
     "text": [
      "/usr/local/lib/python3.7/dist-packages/ipykernel_launcher.py:3: FutureWarning: In a future version of pandas all arguments of DataFrame.drop except for the argument 'labels' will be keyword-only\n",
      "  This is separate from the ipykernel package so we can avoid doing imports until\n",
      "/usr/local/lib/python3.7/dist-packages/ipykernel_launcher.py:5: FutureWarning: In a future version of pandas all arguments of DataFrame.drop except for the argument 'labels' will be keyword-only\n",
      "  \"\"\"\n"
     ]
    }
   ],
   "source": [
    "X_train, X_test = train_test_split(df_train_oversample, test_size = 0.3, random_state = 0)\n",
    "y_train = X_train['outlier']\n",
    "X_train = X_train.drop('outlier',1)\n",
    "y_test = X_test['outlier']\n",
    "X_test = X_test.drop('outlier',1)"
   ]
  },
  {
   "cell_type": "code",
   "execution_count": null,
   "metadata": {
    "colab": {
     "base_uri": "https://localhost:8080/",
     "height": 423
    },
    "id": "lBWSI6vBjKiy",
    "outputId": "8da2cbad-f298-40b7-b479-440b184908c2"
   },
   "outputs": [
    {
     "name": "stdout",
     "output_type": "stream",
     "text": [
      "Confusion Matrix:\n",
      "[[151   5]\n",
      " [  0 162]]\n",
      "Accuracy: 0.9842767295597484\n",
      "Precision: 0.9700598802395209\n",
      "Recall: 1.0\n",
      "TPR:  1.0\n",
      "FPR:  0.03205128205128205\n",
      "F1 Score: 0.9848024316109423\n"
     ]
    },
    {
     "data": {
      "image/png": "[encoded data removed]",
      "text/plain": [
       "<Figure size 432x288 with 2 Axes>"
      ]
     },
     "metadata": {
      "needs_background": "light"
     },
     "output_type": "display_data"
    }
   ],
   "source": [
    "clf = DecisionTreeClassifier()\n",
    "clf = clf.fit(X_train,y_train)\n",
    "y_pred = clf.predict(X_test)\n",
    "\n",
    "tn, fp, fn, tp = confusion_matrix(y_test, y_pred).ravel()\n",
    "print(\"Confusion Matrix:\")\n",
    "print(confusion_matrix(y_test,y_pred))\n",
    "sns.heatmap(confusion_matrix(y_test,y_pred), annot=True,fmt=\"d\",annot_kws={'size': 30})\n",
    "print(\"Accuracy:\",metrics.accuracy_score(y_test, y_pred))\n",
    "print(\"Precision:\",metrics.precision_score(y_test, y_pred))\n",
    "print(\"Recall:\",metrics.recall_score(y_test, y_pred))\n",
    "print(\"TPR: \",tp/(tp+fn))\n",
    "print(\"FPR: \",fp/(tn+fp))\n",
    "print(\"F1 Score:\",metrics.f1_score(y_test, y_pred))"
   ]
  },
  {
   "cell_type": "code",
   "execution_count": null,
   "metadata": {
    "colab": {
     "base_uri": "https://localhost:8080/"
    },
    "id": "hJ92k3KIjKiy",
    "outputId": "c138e3b6-86bc-44eb-dc31-0f7c0c7308d6"
   },
   "outputs": [
    {
     "name": "stdout",
     "output_type": "stream",
     "text": [
      "Confusion Matrix:\n",
      "[[142  14]\n",
      " [  0 162]]\n",
      "Accuracy: 0.9559748427672956\n",
      "Precision: 0.9204545454545454\n",
      "Recall: 1.0\n",
      "TPR:  1.0\n",
      "FPR:  0.08974358974358974\n",
      "F1 Score: 0.9585798816568047\n"
     ]
    }
   ],
   "source": [
    "sc = StandardScaler()\n",
    "X_train = sc.fit_transform(X_train)\n",
    "X_test = sc.transform(X_test)\n",
    "\n",
    "svc_model = SVC(C= .1, kernel='linear', gamma= 1)\n",
    "svc_model.fit(X_train, y_train)\n",
    "y_pred = svc_model .predict(X_test)\n",
    "\n",
    "tn, fp, fn, tp = confusion_matrix(y_test, y_pred).ravel()\n",
    "print(\"Confusion Matrix:\")\n",
    "print(confusion_matrix(y_test,y_pred))\n",
    "print(\"Accuracy:\",metrics.accuracy_score(y_test, y_pred))\n",
    "print(\"Precision:\",metrics.precision_score(y_test, y_pred))\n",
    "print(\"Recall:\",metrics.recall_score(y_test, y_pred))\n",
    "print(\"TPR: \",tp/(tp+fn))\n",
    "print(\"FPR: \",fp/(tn+fp))\n",
    "print(\"F1 Score:\",metrics.f1_score(y_test, y_pred))"
   ]
  },
  {
   "cell_type": "code",
   "execution_count": null,
   "metadata": {
    "colab": {
     "base_uri": "https://localhost:8080/"
    },
    "id": "kZZnQ8P3jKiz",
    "outputId": "0e367438-7d4d-416e-cbfe-3f16d6a907e6"
   },
   "outputs": [
    {
     "name": "stdout",
     "output_type": "stream",
     "text": [
      "Confusion Matrix:\n",
      "[[149   7]\n",
      " [  0 162]]\n",
      "Accuracy: 0.9779874213836478\n",
      "Precision: 0.9585798816568047\n",
      "Recall: 1.0\n",
      "TPR:  1.0\n",
      "FPR:  0.04487179487179487\n",
      "F1 Score: 0.9788519637462235\n"
     ]
    }
   ],
   "source": [
    "lr = LogisticRegression()\n",
    "lr.fit(X_train, y_train)\n",
    "y_pred = lr.predict(X_test)\n",
    "\n",
    "tn, fp, fn, tp = confusion_matrix(y_test, y_pred).ravel()\n",
    "print(\"Confusion Matrix:\")\n",
    "print(confusion_matrix(y_test,y_pred))\n",
    "print(\"Accuracy:\",metrics.accuracy_score(y_test, y_pred))\n",
    "print(\"Precision:\",metrics.precision_score(y_test, y_pred))\n",
    "print(\"Recall:\",metrics.recall_score(y_test, y_pred))\n",
    "print(\"TPR: \",tp/(tp+fn))\n",
    "print(\"FPR: \",fp/(tn+fp))\n",
    "print(\"F1 Score:\",metrics.f1_score(y_test, y_pred))"
   ]
  },
  {
   "cell_type": "markdown",
   "metadata": {
    "id": "40GCBtXLXGjN"
   },
   "source": [
    "Credit\n",
    "-----------------"
   ]
  },
  {
   "cell_type": "code",
   "execution_count": null,
   "metadata": {
    "colab": {
     "base_uri": "https://localhost:8080/",
     "height": 206
    },
    "id": "nnfoc2EVXGjO",
    "outputId": "02ace064-2d06-40bc-98ef-7c996c248d0e"
   },
   "outputs": [
    {
     "data": {
      "text/html": [
       "\n",
       "  <div id=\"df-116a5237-e8f1-4302-8536-6abdc8ce678b\">\n",
       "    <div class=\"colab-df-container\">\n",
       "      <div>\n",
       "<style scoped>\n",
       "    .dataframe tbody tr th:only-of-type {\n",
       "        vertical-align: middle;\n",
       "    }\n",
       "\n",
       "    .dataframe tbody tr th {\n",
       "        vertical-align: top;\n",
       "    }\n",
       "\n",
       "    .dataframe thead th {\n",
       "        text-align: right;\n",
       "    }\n",
       "</style>\n",
       "<table border=\"1\" class=\"dataframe\">\n",
       "  <thead>\n",
       "    <tr style=\"text-align: right;\">\n",
       "      <th></th>\n",
       "      <th>A1</th>\n",
       "      <th>A2</th>\n",
       "      <th>A3</th>\n",
       "      <th>A4</th>\n",
       "      <th>A5</th>\n",
       "      <th>A6</th>\n",
       "      <th>A7</th>\n",
       "      <th>A8</th>\n",
       "      <th>A9</th>\n",
       "      <th>A10</th>\n",
       "      <th>A11</th>\n",
       "      <th>A12</th>\n",
       "      <th>A13</th>\n",
       "      <th>A14</th>\n",
       "      <th>A15</th>\n",
       "      <th>outlier</th>\n",
       "    </tr>\n",
       "  </thead>\n",
       "  <tbody>\n",
       "    <tr>\n",
       "      <th>0</th>\n",
       "      <td>b</td>\n",
       "      <td>30.83</td>\n",
       "      <td>0.000</td>\n",
       "      <td>u</td>\n",
       "      <td>g</td>\n",
       "      <td>w</td>\n",
       "      <td>v</td>\n",
       "      <td>1.25</td>\n",
       "      <td>t</td>\n",
       "      <td>t</td>\n",
       "      <td>1</td>\n",
       "      <td>f</td>\n",
       "      <td>g</td>\n",
       "      <td>00202</td>\n",
       "      <td>0</td>\n",
       "      <td>0</td>\n",
       "    </tr>\n",
       "    <tr>\n",
       "      <th>1</th>\n",
       "      <td>a</td>\n",
       "      <td>58.67</td>\n",
       "      <td>4.460</td>\n",
       "      <td>u</td>\n",
       "      <td>g</td>\n",
       "      <td>q</td>\n",
       "      <td>h</td>\n",
       "      <td>3.04</td>\n",
       "      <td>t</td>\n",
       "      <td>t</td>\n",
       "      <td>6</td>\n",
       "      <td>f</td>\n",
       "      <td>g</td>\n",
       "      <td>00043</td>\n",
       "      <td>560</td>\n",
       "      <td>0</td>\n",
       "    </tr>\n",
       "    <tr>\n",
       "      <th>2</th>\n",
       "      <td>a</td>\n",
       "      <td>24.50</td>\n",
       "      <td>0.500</td>\n",
       "      <td>u</td>\n",
       "      <td>g</td>\n",
       "      <td>q</td>\n",
       "      <td>h</td>\n",
       "      <td>1.50</td>\n",
       "      <td>t</td>\n",
       "      <td>f</td>\n",
       "      <td>0</td>\n",
       "      <td>f</td>\n",
       "      <td>g</td>\n",
       "      <td>00280</td>\n",
       "      <td>824</td>\n",
       "      <td>0</td>\n",
       "    </tr>\n",
       "    <tr>\n",
       "      <th>3</th>\n",
       "      <td>b</td>\n",
       "      <td>27.83</td>\n",
       "      <td>1.540</td>\n",
       "      <td>u</td>\n",
       "      <td>g</td>\n",
       "      <td>w</td>\n",
       "      <td>v</td>\n",
       "      <td>3.75</td>\n",
       "      <td>t</td>\n",
       "      <td>t</td>\n",
       "      <td>5</td>\n",
       "      <td>t</td>\n",
       "      <td>g</td>\n",
       "      <td>00100</td>\n",
       "      <td>3</td>\n",
       "      <td>0</td>\n",
       "    </tr>\n",
       "    <tr>\n",
       "      <th>4</th>\n",
       "      <td>b</td>\n",
       "      <td>20.17</td>\n",
       "      <td>5.625</td>\n",
       "      <td>u</td>\n",
       "      <td>g</td>\n",
       "      <td>w</td>\n",
       "      <td>v</td>\n",
       "      <td>1.71</td>\n",
       "      <td>t</td>\n",
       "      <td>f</td>\n",
       "      <td>0</td>\n",
       "      <td>f</td>\n",
       "      <td>s</td>\n",
       "      <td>00120</td>\n",
       "      <td>0</td>\n",
       "      <td>0</td>\n",
       "    </tr>\n",
       "  </tbody>\n",
       "</table>\n",
       "</div>\n",
       "      <button class=\"colab-df-convert\" onclick=\"convertToInteractive('df-116a5237-e8f1-4302-8536-6abdc8ce678b')\"\n",
       "              title=\"Convert this dataframe to an interactive table.\"\n",
       "              style=\"display:none;\">\n",
       "        \n",
       "  <svg xmlns=\"http://www.w3.org/2000/svg\" height=\"24px\"viewBox=\"0 0 24 24\"\n",
       "       width=\"24px\">\n",
       "    <path d=\"M0 0h24v24H0V0z\" fill=\"none\"/>\n",
       "    <path d=\"M18.56 5.44l.94 2.06.94-2.06 2.06-.94-2.06-.94-.94-2.06-.94 2.06-2.06.94zm-11 1L8.5 8.5l.94-2.06 2.06-.94-2.06-.94L8.5 2.5l-.94 2.06-2.06.94zm10 10l.94 2.06.94-2.06 2.06-.94-2.06-.94-.94-2.06-.94 2.06-2.06.94z\"/><path d=\"M17.41 7.96l-1.37-1.37c-.4-.4-.92-.59-1.43-.59-.52 0-1.04.2-1.43.59L10.3 9.45l-7.72 7.72c-.78.78-.78 2.05 0 2.83L4 21.41c.39.39.9.59 1.41.59.51 0 1.02-.2 1.41-.59l7.78-7.78 2.81-2.81c.8-.78.8-2.07 0-2.86zM5.41 20L4 18.59l7.72-7.72 1.47 1.35L5.41 20z\"/>\n",
       "  </svg>\n",
       "      </button>\n",
       "      \n",
       "  <style>\n",
       "    .colab-df-container {\n",
       "      display:flex;\n",
       "      flex-wrap:wrap;\n",
       "      gap: 12px;\n",
       "    }\n",
       "\n",
       "    .colab-df-convert {\n",
       "      background-color: #E8F0FE;\n",
       "      border: none;\n",
       "      border-radius: 50%;\n",
       "      cursor: pointer;\n",
       "      display: none;\n",
       "      fill: #1967D2;\n",
       "      height: 32px;\n",
       "      padding: 0 0 0 0;\n",
       "      width: 32px;\n",
       "    }\n",
       "\n",
       "    .colab-df-convert:hover {\n",
       "      background-color: #E2EBFA;\n",
       "      box-shadow: 0px 1px 2px rgba(60, 64, 67, 0.3), 0px 1px 3px 1px rgba(60, 64, 67, 0.15);\n",
       "      fill: #174EA6;\n",
       "    }\n",
       "\n",
       "    [theme=dark] .colab-df-convert {\n",
       "      background-color: #3B4455;\n",
       "      fill: #D2E3FC;\n",
       "    }\n",
       "\n",
       "    [theme=dark] .colab-df-convert:hover {\n",
       "      background-color: #434B5C;\n",
       "      box-shadow: 0px 1px 3px 1px rgba(0, 0, 0, 0.15);\n",
       "      filter: drop-shadow(0px 1px 2px rgba(0, 0, 0, 0.3));\n",
       "      fill: #FFFFFF;\n",
       "    }\n",
       "  </style>\n",
       "\n",
       "      <script>\n",
       "        const buttonEl =\n",
       "          document.querySelector('#df-116a5237-e8f1-4302-8536-6abdc8ce678b button.colab-df-convert');\n",
       "        buttonEl.style.display =\n",
       "          google.colab.kernel.accessAllowed ? 'block' : 'none';\n",
       "\n",
       "        async function convertToInteractive(key) {\n",
       "          const element = document.querySelector('#df-116a5237-e8f1-4302-8536-6abdc8ce678b');\n",
       "          const dataTable =\n",
       "            await google.colab.kernel.invokeFunction('convertToInteractive',\n",
       "                                                     [key], {});\n",
       "          if (!dataTable) return;\n",
       "\n",
       "          const docLinkHtml = 'Like what you see? Visit the ' +\n",
       "            '<a target=\"_blank\" href=https://colab.research.google.com/notebooks/data_table.ipynb>data table notebook</a>'\n",
       "            + ' to learn more about interactive tables.';\n",
       "          element.innerHTML = '';\n",
       "          dataTable['output_type'] = 'display_data';\n",
       "          await google.colab.output.renderOutput(dataTable, element);\n",
       "          const docLink = document.createElement('div');\n",
       "          docLink.innerHTML = docLinkHtml;\n",
       "          element.appendChild(docLink);\n",
       "        }\n",
       "      </script>\n",
       "    </div>\n",
       "  </div>\n",
       "  "
      ],
      "text/plain": [
       "  A1     A2     A3 A4 A5 A6 A7    A8 A9 A10  A11 A12 A13    A14  A15  outlier\n",
       "0  b  30.83  0.000  u  g  w  v  1.25  t   t    1   f   g  00202    0        0\n",
       "1  a  58.67  4.460  u  g  q  h  3.04  t   t    6   f   g  00043  560        0\n",
       "2  a  24.50  0.500  u  g  q  h  1.50  t   f    0   f   g  00280  824        0\n",
       "3  b  27.83  1.540  u  g  w  v  3.75  t   t    5   t   g  00100    3        0\n",
       "4  b  20.17  5.625  u  g  w  v  1.71  t   f    0   f   s  00120    0        0"
      ]
     },
     "execution_count": 39,
     "metadata": {},
     "output_type": "execute_result"
    }
   ],
   "source": [
    "df=pd.read_csv(\"drive/MyDrive/Datasets/IQROutlier_Classification/credit.csv\")\n",
    "df.head()"
   ]
  },
  {
   "cell_type": "code",
   "execution_count": null,
   "metadata": {
    "id": "KZr1tPIpXwoV"
   },
   "outputs": [],
   "source": [
    "categ=['A1','A4','A5','A6','A7','A9','A10','A12','A13']\n",
    "cont=['A2','A3','A8','A11','A14','A15']\n",
    "df = MissingValuesHandler(df, categ, cont)"
   ]
  },
  {
   "cell_type": "code",
   "execution_count": null,
   "metadata": {
    "colab": {
     "base_uri": "https://localhost:8080/"
    },
    "id": "yrVufv1BXGjP",
    "outputId": "f05ca5d4-bf91-4084-e622-f6225e4c6fb9"
   },
   "outputs": [
    {
     "name": "stdout",
     "output_type": "stream",
     "text": [
      "      A2     A3    A8  A11    A14  A15  outlier  A1_b  A1_a  A4_u  ...  A7_n  \\\n",
      "0  30.83  0.000  1.25    1  00202    0        0     0     1     0  ...     0   \n",
      "1  58.67  4.460  3.04    6  00043  560        0     1     0     0  ...     0   \n",
      "2  24.50  0.500  1.50    0  00280  824        0     1     0     0  ...     0   \n",
      "3  27.83  1.540  3.75    5  00100    3        0     0     1     0  ...     0   \n",
      "4  20.17  5.625  1.71    0  00120    0        0     0     1     0  ...     0   \n",
      "\n",
      "   A9_t  A9_f  A10_t  A10_f  A12_f  A12_t  A13_g  A13_s  A13_p  \n",
      "0     0     1      0      1      1      0      1      0      0  \n",
      "1     0     1      0      1      1      0      1      0      0  \n",
      "2     0     1      1      0      1      0      1      0      0  \n",
      "3     0     1      0      1      0      1      1      0      0  \n",
      "4     0     1      1      0      1      0      0      0      1  \n",
      "\n",
      "[5 rows x 47 columns]\n"
     ]
    }
   ],
   "source": [
    "df = oneHotFunc(df, categ)\n",
    "df = df.astype(float)"
   ]
  },
  {
   "cell_type": "code",
   "execution_count": null,
   "metadata": {
    "colab": {
     "base_uri": "https://localhost:8080/"
    },
    "id": "invG0mJ_XGjP",
    "outputId": "e2c5eb51-f33f-4711-85d9-db41a7cd3d2c"
   },
   "outputs": [
    {
     "data": {
      "text/plain": [
       "0.0    655\n",
       "1.0    655\n",
       "Name: outlier, dtype: int64"
      ]
     },
     "execution_count": 42,
     "metadata": {},
     "output_type": "execute_result"
    }
   ],
   "source": [
    "msk = df['outlier'] == 1\n",
    "num_to_oversample = len(df) - 2*msk.sum()\n",
    "df_positive_oversample = df[msk].sample(n=num_to_oversample, replace=True, random_state=888)\n",
    "df_train_oversample = pd.concat([df, df_positive_oversample])\n",
    "df_train_oversample['outlier'].value_counts()"
   ]
  },
  {
   "cell_type": "code",
   "execution_count": null,
   "metadata": {
    "colab": {
     "base_uri": "https://localhost:8080/"
    },
    "id": "C5EliGkUXGjQ",
    "outputId": "b5094e7b-a06e-4e5c-a4b9-0cdbce94de20"
   },
   "outputs": [
    {
     "name": "stderr",
     "output_type": "stream",
     "text": [
      "/usr/local/lib/python3.7/dist-packages/ipykernel_launcher.py:3: FutureWarning: In a future version of pandas all arguments of DataFrame.drop except for the argument 'labels' will be keyword-only\n",
      "  This is separate from the ipykernel package so we can avoid doing imports until\n",
      "/usr/local/lib/python3.7/dist-packages/ipykernel_launcher.py:5: FutureWarning: In a future version of pandas all arguments of DataFrame.drop except for the argument 'labels' will be keyword-only\n",
      "  \"\"\"\n"
     ]
    }
   ],
   "source": [
    "X_train, X_test = train_test_split(df_train_oversample, test_size = 0.3, random_state = 0)\n",
    "y_train = X_train['outlier']\n",
    "X_train = X_train.drop('outlier',1)\n",
    "y_test = X_test['outlier']\n",
    "X_test = X_test.drop('outlier',1)"
   ]
  },
  {
   "cell_type": "code",
   "execution_count": null,
   "metadata": {
    "colab": {
     "base_uri": "https://localhost:8080/",
     "height": 421
    },
    "id": "o9AF8sSXXGjQ",
    "outputId": "999eb2e3-aa49-4084-d6cb-f311131991c4"
   },
   "outputs": [
    {
     "name": "stdout",
     "output_type": "stream",
     "text": [
      "Confusion Matrix:\n",
      "[[192   4]\n",
      " [  0 197]]\n",
      "Accuracy: 0.989821882951654\n",
      "Precision: 0.9800995024875622\n",
      "Recall: 1.0\n",
      "TPR:  1.0\n",
      "FPR:  0.02040816326530612\n",
      "F1 Score: 0.9899497487437185\n"
     ]
    },
    {
     "data": {
      "image/png": "[encoded data removed]",
      "text/plain": [
       "<Figure size 432x288 with 2 Axes>"
      ]
     },
     "metadata": {
      "needs_background": "light"
     },
     "output_type": "display_data"
    }
   ],
   "source": [
    "clf = DecisionTreeClassifier()\n",
    "clf = clf.fit(X_train,y_train)\n",
    "y_pred = clf.predict(X_test)\n",
    "\n",
    "tn, fp, fn, tp = confusion_matrix(y_test, y_pred).ravel()\n",
    "print(\"Confusion Matrix:\")\n",
    "print(confusion_matrix(y_test,y_pred))\n",
    "sns.heatmap(confusion_matrix(y_test,y_pred), annot=True,fmt=\"d\",annot_kws={'size': 30})\n",
    "print(\"Accuracy:\",metrics.accuracy_score(y_test, y_pred))\n",
    "print(\"Precision:\",metrics.precision_score(y_test, y_pred))\n",
    "print(\"Recall:\",metrics.recall_score(y_test, y_pred))\n",
    "print(\"TPR: \",tp/(tp+fn))\n",
    "print(\"FPR: \",fp/(tn+fp))\n",
    "print(\"F1 Score:\",metrics.f1_score(y_test, y_pred))"
   ]
  },
  {
   "cell_type": "code",
   "execution_count": null,
   "metadata": {
    "colab": {
     "base_uri": "https://localhost:8080/"
    },
    "id": "2h_cO9XDXGjR",
    "outputId": "58a8490f-97fd-4acc-8432-af14312bd50a"
   },
   "outputs": [
    {
     "name": "stdout",
     "output_type": "stream",
     "text": [
      "Confusion Matrix:\n",
      "[[191   5]\n",
      " [  6 191]]\n",
      "Accuracy: 0.9720101781170484\n",
      "Precision: 0.9744897959183674\n",
      "Recall: 0.9695431472081218\n",
      "TPR:  0.9695431472081218\n",
      "FPR:  0.025510204081632654\n",
      "F1 Score: 0.9720101781170484\n"
     ]
    }
   ],
   "source": [
    "sc = StandardScaler()\n",
    "X_train = sc.fit_transform(X_train)\n",
    "X_test = sc.transform(X_test)\n",
    "\n",
    "svc_model = SVC(C= .1, kernel='linear', gamma= 1)\n",
    "svc_model.fit(X_train, y_train)\n",
    "y_pred = svc_model .predict(X_test)\n",
    "\n",
    "tn, fp, fn, tp = confusion_matrix(y_test, y_pred).ravel()\n",
    "print(\"Confusion Matrix:\")\n",
    "print(confusion_matrix(y_test,y_pred))\n",
    "print(\"Accuracy:\",metrics.accuracy_score(y_test, y_pred))\n",
    "print(\"Precision:\",metrics.precision_score(y_test, y_pred))\n",
    "print(\"Recall:\",metrics.recall_score(y_test, y_pred))\n",
    "print(\"TPR: \",tp/(tp+fn))\n",
    "print(\"FPR: \",fp/(tn+fp))\n",
    "print(\"F1 Score:\",metrics.f1_score(y_test, y_pred))"
   ]
  },
  {
   "cell_type": "code",
   "execution_count": null,
   "metadata": {
    "colab": {
     "base_uri": "https://localhost:8080/"
    },
    "id": "bTjSyjNtXGjS",
    "outputId": "0c562f0c-7c9c-4967-adc3-5e1a9cf60920"
   },
   "outputs": [
    {
     "name": "stdout",
     "output_type": "stream",
     "text": [
      "Confusion Matrix:\n",
      "[[191   5]\n",
      " [  6 191]]\n",
      "Accuracy: 0.9720101781170484\n",
      "Precision: 0.9744897959183674\n",
      "Recall: 0.9695431472081218\n",
      "TPR:  0.9695431472081218\n",
      "FPR:  0.025510204081632654\n",
      "F1 Score: 0.9720101781170484\n"
     ]
    }
   ],
   "source": [
    "lr = LogisticRegression()\n",
    "lr.fit(X_train, y_train)\n",
    "y_pred = lr.predict(X_test)\n",
    "\n",
    "tn, fp, fn, tp = confusion_matrix(y_test, y_pred).ravel()\n",
    "print(\"Confusion Matrix:\")\n",
    "print(confusion_matrix(y_test,y_pred))\n",
    "print(\"Accuracy:\",metrics.accuracy_score(y_test, y_pred))\n",
    "print(\"Precision:\",metrics.precision_score(y_test, y_pred))\n",
    "print(\"Recall:\",metrics.recall_score(y_test, y_pred))\n",
    "print(\"TPR: \",tp/(tp+fn))\n",
    "print(\"FPR: \",fp/(tn+fp))\n",
    "print(\"F1 Score:\",metrics.f1_score(y_test, y_pred))"
   ]
  },
  {
   "cell_type": "markdown",
   "metadata": {
    "id": "pcr6CSFnc9uK"
   },
   "source": [
    "German\n",
    "-----------------"
   ]
  },
  {
   "cell_type": "code",
   "execution_count": null,
   "metadata": {
    "colab": {
     "base_uri": "https://localhost:8080/",
     "height": 236
    },
    "id": "2gWpE8Lsc9uM",
    "outputId": "607c5c5d-b0cc-424f-b8a6-f23e0b3eafac"
   },
   "outputs": [
    {
     "data": {
      "text/html": [
       "\n",
       "  <div id=\"df-6e39071e-6981-4c1b-b6b5-8bfd517015b0\">\n",
       "    <div class=\"colab-df-container\">\n",
       "      <div>\n",
       "<style scoped>\n",
       "    .dataframe tbody tr th:only-of-type {\n",
       "        vertical-align: middle;\n",
       "    }\n",
       "\n",
       "    .dataframe tbody tr th {\n",
       "        vertical-align: top;\n",
       "    }\n",
       "\n",
       "    .dataframe thead th {\n",
       "        text-align: right;\n",
       "    }\n",
       "</style>\n",
       "<table border=\"1\" class=\"dataframe\">\n",
       "  <thead>\n",
       "    <tr style=\"text-align: right;\">\n",
       "      <th></th>\n",
       "      <th>A1</th>\n",
       "      <th>A2</th>\n",
       "      <th>A3</th>\n",
       "      <th>A4</th>\n",
       "      <th>A5</th>\n",
       "      <th>A6</th>\n",
       "      <th>A7</th>\n",
       "      <th>A8</th>\n",
       "      <th>A9</th>\n",
       "      <th>A10</th>\n",
       "      <th>...</th>\n",
       "      <th>A12</th>\n",
       "      <th>A13</th>\n",
       "      <th>A14</th>\n",
       "      <th>A15</th>\n",
       "      <th>A16</th>\n",
       "      <th>A17</th>\n",
       "      <th>A18</th>\n",
       "      <th>A19</th>\n",
       "      <th>A20</th>\n",
       "      <th>outlier</th>\n",
       "    </tr>\n",
       "  </thead>\n",
       "  <tbody>\n",
       "    <tr>\n",
       "      <th>0</th>\n",
       "      <td>A11</td>\n",
       "      <td>6</td>\n",
       "      <td>A34</td>\n",
       "      <td>A43</td>\n",
       "      <td>1169</td>\n",
       "      <td>A65</td>\n",
       "      <td>A75</td>\n",
       "      <td>4</td>\n",
       "      <td>A93</td>\n",
       "      <td>A101</td>\n",
       "      <td>...</td>\n",
       "      <td>A121</td>\n",
       "      <td>67</td>\n",
       "      <td>A143</td>\n",
       "      <td>A152</td>\n",
       "      <td>2</td>\n",
       "      <td>A173</td>\n",
       "      <td>1</td>\n",
       "      <td>A192</td>\n",
       "      <td>A201</td>\n",
       "      <td>0</td>\n",
       "    </tr>\n",
       "    <tr>\n",
       "      <th>1</th>\n",
       "      <td>A12</td>\n",
       "      <td>48</td>\n",
       "      <td>A32</td>\n",
       "      <td>A43</td>\n",
       "      <td>5951</td>\n",
       "      <td>A61</td>\n",
       "      <td>A73</td>\n",
       "      <td>2</td>\n",
       "      <td>A92</td>\n",
       "      <td>A101</td>\n",
       "      <td>...</td>\n",
       "      <td>A121</td>\n",
       "      <td>22</td>\n",
       "      <td>A143</td>\n",
       "      <td>A152</td>\n",
       "      <td>1</td>\n",
       "      <td>A173</td>\n",
       "      <td>1</td>\n",
       "      <td>A191</td>\n",
       "      <td>A201</td>\n",
       "      <td>0</td>\n",
       "    </tr>\n",
       "    <tr>\n",
       "      <th>2</th>\n",
       "      <td>A14</td>\n",
       "      <td>12</td>\n",
       "      <td>A34</td>\n",
       "      <td>A46</td>\n",
       "      <td>2096</td>\n",
       "      <td>A61</td>\n",
       "      <td>A74</td>\n",
       "      <td>2</td>\n",
       "      <td>A93</td>\n",
       "      <td>A101</td>\n",
       "      <td>...</td>\n",
       "      <td>A121</td>\n",
       "      <td>49</td>\n",
       "      <td>A143</td>\n",
       "      <td>A152</td>\n",
       "      <td>1</td>\n",
       "      <td>A172</td>\n",
       "      <td>2</td>\n",
       "      <td>A191</td>\n",
       "      <td>A201</td>\n",
       "      <td>0</td>\n",
       "    </tr>\n",
       "    <tr>\n",
       "      <th>3</th>\n",
       "      <td>A11</td>\n",
       "      <td>42</td>\n",
       "      <td>A32</td>\n",
       "      <td>A42</td>\n",
       "      <td>7882</td>\n",
       "      <td>A61</td>\n",
       "      <td>A74</td>\n",
       "      <td>2</td>\n",
       "      <td>A93</td>\n",
       "      <td>A103</td>\n",
       "      <td>...</td>\n",
       "      <td>A122</td>\n",
       "      <td>45</td>\n",
       "      <td>A143</td>\n",
       "      <td>A153</td>\n",
       "      <td>1</td>\n",
       "      <td>A173</td>\n",
       "      <td>2</td>\n",
       "      <td>A191</td>\n",
       "      <td>A201</td>\n",
       "      <td>0</td>\n",
       "    </tr>\n",
       "    <tr>\n",
       "      <th>4</th>\n",
       "      <td>A11</td>\n",
       "      <td>24</td>\n",
       "      <td>A33</td>\n",
       "      <td>A40</td>\n",
       "      <td>4870</td>\n",
       "      <td>A61</td>\n",
       "      <td>A73</td>\n",
       "      <td>3</td>\n",
       "      <td>A93</td>\n",
       "      <td>A101</td>\n",
       "      <td>...</td>\n",
       "      <td>A124</td>\n",
       "      <td>53</td>\n",
       "      <td>A143</td>\n",
       "      <td>A153</td>\n",
       "      <td>2</td>\n",
       "      <td>A173</td>\n",
       "      <td>2</td>\n",
       "      <td>A191</td>\n",
       "      <td>A201</td>\n",
       "      <td>0</td>\n",
       "    </tr>\n",
       "  </tbody>\n",
       "</table>\n",
       "<p>5 rows × 21 columns</p>\n",
       "</div>\n",
       "      <button class=\"colab-df-convert\" onclick=\"convertToInteractive('df-6e39071e-6981-4c1b-b6b5-8bfd517015b0')\"\n",
       "              title=\"Convert this dataframe to an interactive table.\"\n",
       "              style=\"display:none;\">\n",
       "        \n",
       "  <svg xmlns=\"http://www.w3.org/2000/svg\" height=\"24px\"viewBox=\"0 0 24 24\"\n",
       "       width=\"24px\">\n",
       "    <path d=\"M0 0h24v24H0V0z\" fill=\"none\"/>\n",
       "    <path d=\"M18.56 5.44l.94 2.06.94-2.06 2.06-.94-2.06-.94-.94-2.06-.94 2.06-2.06.94zm-11 1L8.5 8.5l.94-2.06 2.06-.94-2.06-.94L8.5 2.5l-.94 2.06-2.06.94zm10 10l.94 2.06.94-2.06 2.06-.94-2.06-.94-.94-2.06-.94 2.06-2.06.94z\"/><path d=\"M17.41 7.96l-1.37-1.37c-.4-.4-.92-.59-1.43-.59-.52 0-1.04.2-1.43.59L10.3 9.45l-7.72 7.72c-.78.78-.78 2.05 0 2.83L4 21.41c.39.39.9.59 1.41.59.51 0 1.02-.2 1.41-.59l7.78-7.78 2.81-2.81c.8-.78.8-2.07 0-2.86zM5.41 20L4 18.59l7.72-7.72 1.47 1.35L5.41 20z\"/>\n",
       "  </svg>\n",
       "      </button>\n",
       "      \n",
       "  <style>\n",
       "    .colab-df-container {\n",
       "      display:flex;\n",
       "      flex-wrap:wrap;\n",
       "      gap: 12px;\n",
       "    }\n",
       "\n",
       "    .colab-df-convert {\n",
       "      background-color: #E8F0FE;\n",
       "      border: none;\n",
       "      border-radius: 50%;\n",
       "      cursor: pointer;\n",
       "      display: none;\n",
       "      fill: #1967D2;\n",
       "      height: 32px;\n",
       "      padding: 0 0 0 0;\n",
       "      width: 32px;\n",
       "    }\n",
       "\n",
       "    .colab-df-convert:hover {\n",
       "      background-color: #E2EBFA;\n",
       "      box-shadow: 0px 1px 2px rgba(60, 64, 67, 0.3), 0px 1px 3px 1px rgba(60, 64, 67, 0.15);\n",
       "      fill: #174EA6;\n",
       "    }\n",
       "\n",
       "    [theme=dark] .colab-df-convert {\n",
       "      background-color: #3B4455;\n",
       "      fill: #D2E3FC;\n",
       "    }\n",
       "\n",
       "    [theme=dark] .colab-df-convert:hover {\n",
       "      background-color: #434B5C;\n",
       "      box-shadow: 0px 1px 3px 1px rgba(0, 0, 0, 0.15);\n",
       "      filter: drop-shadow(0px 1px 2px rgba(0, 0, 0, 0.3));\n",
       "      fill: #FFFFFF;\n",
       "    }\n",
       "  </style>\n",
       "\n",
       "      <script>\n",
       "        const buttonEl =\n",
       "          document.querySelector('#df-6e39071e-6981-4c1b-b6b5-8bfd517015b0 button.colab-df-convert');\n",
       "        buttonEl.style.display =\n",
       "          google.colab.kernel.accessAllowed ? 'block' : 'none';\n",
       "\n",
       "        async function convertToInteractive(key) {\n",
       "          const element = document.querySelector('#df-6e39071e-6981-4c1b-b6b5-8bfd517015b0');\n",
       "          const dataTable =\n",
       "            await google.colab.kernel.invokeFunction('convertToInteractive',\n",
       "                                                     [key], {});\n",
       "          if (!dataTable) return;\n",
       "\n",
       "          const docLinkHtml = 'Like what you see? Visit the ' +\n",
       "            '<a target=\"_blank\" href=https://colab.research.google.com/notebooks/data_table.ipynb>data table notebook</a>'\n",
       "            + ' to learn more about interactive tables.';\n",
       "          element.innerHTML = '';\n",
       "          dataTable['output_type'] = 'display_data';\n",
       "          await google.colab.output.renderOutput(dataTable, element);\n",
       "          const docLink = document.createElement('div');\n",
       "          docLink.innerHTML = docLinkHtml;\n",
       "          element.appendChild(docLink);\n",
       "        }\n",
       "      </script>\n",
       "    </div>\n",
       "  </div>\n",
       "  "
      ],
      "text/plain": [
       "    A1  A2   A3   A4    A5   A6   A7  A8   A9   A10  ...   A12 A13   A14  \\\n",
       "0  A11   6  A34  A43  1169  A65  A75   4  A93  A101  ...  A121  67  A143   \n",
       "1  A12  48  A32  A43  5951  A61  A73   2  A92  A101  ...  A121  22  A143   \n",
       "2  A14  12  A34  A46  2096  A61  A74   2  A93  A101  ...  A121  49  A143   \n",
       "3  A11  42  A32  A42  7882  A61  A74   2  A93  A103  ...  A122  45  A143   \n",
       "4  A11  24  A33  A40  4870  A61  A73   3  A93  A101  ...  A124  53  A143   \n",
       "\n",
       "    A15 A16   A17 A18   A19   A20 outlier  \n",
       "0  A152   2  A173   1  A192  A201       0  \n",
       "1  A152   1  A173   1  A191  A201       0  \n",
       "2  A152   1  A172   2  A191  A201       0  \n",
       "3  A153   1  A173   2  A191  A201       0  \n",
       "4  A153   2  A173   2  A191  A201       0  \n",
       "\n",
       "[5 rows x 21 columns]"
      ]
     },
     "execution_count": 18,
     "metadata": {},
     "output_type": "execute_result"
    }
   ],
   "source": [
    "df=pd.read_csv(\"drive/MyDrive/Datasets/IQROutlier_Classification/german.csv\")\n",
    "df.head()"
   ]
  },
  {
   "cell_type": "code",
   "execution_count": null,
   "metadata": {
    "colab": {
     "base_uri": "https://localhost:8080/"
    },
    "id": "FFH0eC3NtcUi",
    "outputId": "e8d63951-fbbe-4493-8343-928c86980aba"
   },
   "outputs": [
    {
     "name": "stdout",
     "output_type": "stream",
     "text": [
      "   A2    A5  A8  A11  A13  A16  A18  outlier  A1_A11  A1_A12  ...  A15_A153  \\\n",
      "0   6  1169   4    4   67    2    1        0       1       0  ...         1   \n",
      "1  48  5951   2    2   22    1    1        0       0       1  ...         1   \n",
      "2  12  2096   2    3   49    1    2        0       0       0  ...         1   \n",
      "3  42  7882   2    4   45    1    2        0       1       0  ...         0   \n",
      "4  24  4870   3    4   53    2    2        0       1       0  ...         0   \n",
      "\n",
      "   A15_A151  A17_A173  A17_A172  A17_A174  A17_A171  A19_A192  A19_A191  \\\n",
      "0         0         0         0         1         0         0         1   \n",
      "1         0         0         0         1         0         1         0   \n",
      "2         0         0         1         0         0         1         0   \n",
      "3         1         0         0         1         0         1         0   \n",
      "4         1         0         0         1         0         1         0   \n",
      "\n",
      "   A20_A201  A20_A202  \n",
      "0         1         0  \n",
      "1         1         0  \n",
      "2         1         0  \n",
      "3         1         0  \n",
      "4         1         0  \n",
      "\n",
      "[5 rows x 62 columns]\n"
     ]
    }
   ],
   "source": [
    "categ=['A1','A3','A4','A6','A7','A9','A10','A12','A14','A15','A17','A19','A20']\n",
    "df = oneHotFunc(df, categ)"
   ]
  },
  {
   "cell_type": "code",
   "execution_count": null,
   "metadata": {
    "colab": {
     "base_uri": "https://localhost:8080/"
    },
    "id": "4A2cyy1Hc9uN",
    "outputId": "4588d317-3fe3-4e36-9d4e-c915af41a1be"
   },
   "outputs": [
    {
     "data": {
      "text/plain": [
       "0    995\n",
       "1    995\n",
       "Name: outlier, dtype: int64"
      ]
     },
     "execution_count": 20,
     "metadata": {},
     "output_type": "execute_result"
    }
   ],
   "source": [
    "msk = df['outlier'] == 1\n",
    "num_to_oversample = len(df) - 2*msk.sum()\n",
    "df_positive_oversample = df[msk].sample(n=num_to_oversample, replace=True, random_state=888)\n",
    "df_train_oversample = pd.concat([df, df_positive_oversample])\n",
    "df_train_oversample['outlier'].value_counts()"
   ]
  },
  {
   "cell_type": "code",
   "execution_count": null,
   "metadata": {
    "colab": {
     "base_uri": "https://localhost:8080/"
    },
    "id": "RmdMWMw9c9uO",
    "outputId": "138cffce-185c-4230-f825-aa155645e815"
   },
   "outputs": [
    {
     "name": "stderr",
     "output_type": "stream",
     "text": [
      "/usr/local/lib/python3.7/dist-packages/ipykernel_launcher.py:3: FutureWarning: In a future version of pandas all arguments of DataFrame.drop except for the argument 'labels' will be keyword-only\n",
      "  This is separate from the ipykernel package so we can avoid doing imports until\n",
      "/usr/local/lib/python3.7/dist-packages/ipykernel_launcher.py:5: FutureWarning: In a future version of pandas all arguments of DataFrame.drop except for the argument 'labels' will be keyword-only\n",
      "  \"\"\"\n"
     ]
    }
   ],
   "source": [
    "X_train, X_test = train_test_split(df_train_oversample, test_size = 0.3, random_state = 0)\n",
    "y_train = X_train['outlier']\n",
    "X_train = X_train.drop('outlier',1)\n",
    "y_test = X_test['outlier']\n",
    "X_test = X_test.drop('outlier',1)"
   ]
  },
  {
   "cell_type": "code",
   "execution_count": null,
   "metadata": {
    "colab": {
     "base_uri": "https://localhost:8080/",
     "height": 421
    },
    "id": "utEnhCo6c9uO",
    "outputId": "804d886a-c879-4db7-cb03-056787e0d2d0"
   },
   "outputs": [
    {
     "name": "stdout",
     "output_type": "stream",
     "text": [
      "Confusion Matrix:\n",
      "[[308   5]\n",
      " [  0 284]]\n",
      "Accuracy: 0.9916247906197655\n",
      "Precision: 0.9826989619377162\n",
      "Recall: 1.0\n",
      "TPR:  1.0\n",
      "FPR:  0.01597444089456869\n",
      "F1 Score: 0.9912739965095986\n"
     ]
    },
    {
     "data": {
      "image/png": "[encoded data removed]",
      "text/plain": [
       "<Figure size 432x288 with 2 Axes>"
      ]
     },
     "metadata": {
      "needs_background": "light"
     },
     "output_type": "display_data"
    }
   ],
   "source": [
    "clf = DecisionTreeClassifier()\n",
    "clf = clf.fit(X_train,y_train)\n",
    "y_pred = clf.predict(X_test)\n",
    "\n",
    "tn, fp, fn, tp = confusion_matrix(y_test, y_pred).ravel()\n",
    "print(\"Confusion Matrix:\")\n",
    "print(confusion_matrix(y_test,y_pred))\n",
    "sns.heatmap(confusion_matrix(y_test,y_pred), annot=True,fmt=\"d\",annot_kws={'size': 30})\n",
    "print(\"Accuracy:\",metrics.accuracy_score(y_test, y_pred))\n",
    "print(\"Precision:\",metrics.precision_score(y_test, y_pred))\n",
    "print(\"Recall:\",metrics.recall_score(y_test, y_pred))\n",
    "print(\"TPR: \",tp/(tp+fn))\n",
    "print(\"FPR: \",fp/(tn+fp))\n",
    "print(\"F1 Score:\",metrics.f1_score(y_test, y_pred))"
   ]
  },
  {
   "cell_type": "code",
   "execution_count": null,
   "metadata": {
    "colab": {
     "base_uri": "https://localhost:8080/"
    },
    "id": "ZJIg3nbKc9uP",
    "outputId": "3c21e0ff-0193-40e3-f9dc-0c0d39664c9c"
   },
   "outputs": [
    {
     "name": "stdout",
     "output_type": "stream",
     "text": [
      "Confusion Matrix:\n",
      "[[308   5]\n",
      " [  0 284]]\n",
      "Accuracy: 0.9916247906197655\n",
      "Precision: 0.9826989619377162\n",
      "Recall: 1.0\n",
      "TPR:  1.0\n",
      "FPR:  0.01597444089456869\n",
      "F1 Score: 0.9912739965095986\n"
     ]
    }
   ],
   "source": [
    "sc = StandardScaler()\n",
    "X_train = sc.fit_transform(X_train)\n",
    "X_test = sc.transform(X_test)\n",
    "\n",
    "svc_model = SVC(C= .1, kernel='linear', gamma= 1)\n",
    "svc_model.fit(X_train, y_train)\n",
    "y_pred = svc_model .predict(X_test)\n",
    "\n",
    "tn, fp, fn, tp = confusion_matrix(y_test, y_pred).ravel()\n",
    "print(\"Confusion Matrix:\")\n",
    "print(confusion_matrix(y_test,y_pred))\n",
    "print(\"Accuracy:\",metrics.accuracy_score(y_test, y_pred))\n",
    "print(\"Precision:\",metrics.precision_score(y_test, y_pred))\n",
    "print(\"Recall:\",metrics.recall_score(y_test, y_pred))\n",
    "print(\"TPR: \",tp/(tp+fn))\n",
    "print(\"FPR: \",fp/(tn+fp))\n",
    "print(\"F1 Score:\",metrics.f1_score(y_test, y_pred))"
   ]
  },
  {
   "cell_type": "code",
   "execution_count": null,
   "metadata": {
    "colab": {
     "base_uri": "https://localhost:8080/"
    },
    "id": "HHUY_5Csc9uQ",
    "outputId": "8122314f-ac78-43d7-dcf9-24353bcc0578"
   },
   "outputs": [
    {
     "name": "stdout",
     "output_type": "stream",
     "text": [
      "Confusion Matrix:\n",
      "[[306   7]\n",
      " [  0 284]]\n",
      "Accuracy: 0.9882747068676717\n",
      "Precision: 0.9759450171821306\n",
      "Recall: 1.0\n",
      "TPR:  1.0\n",
      "FPR:  0.022364217252396165\n",
      "F1 Score: 0.9878260869565216\n"
     ]
    }
   ],
   "source": [
    "lr = LogisticRegression()\n",
    "lr.fit(X_train, y_train)\n",
    "y_pred = lr.predict(X_test)\n",
    "\n",
    "tn, fp, fn, tp = confusion_matrix(y_test, y_pred).ravel()\n",
    "print(\"Confusion Matrix:\")\n",
    "print(confusion_matrix(y_test,y_pred))\n",
    "print(\"Accuracy:\",metrics.accuracy_score(y_test, y_pred))\n",
    "print(\"Precision:\",metrics.precision_score(y_test, y_pred))\n",
    "print(\"Recall:\",metrics.recall_score(y_test, y_pred))\n",
    "print(\"TPR: \",tp/(tp+fn))\n",
    "print(\"FPR: \",fp/(tn+fp))\n",
    "print(\"F1 Score:\",metrics.f1_score(y_test, y_pred))"
   ]
  },
  {
   "cell_type": "markdown",
   "metadata": {
    "id": "9fHi2Va_CN4Q"
   },
   "source": [
    "Heart\n",
    "--------------"
   ]
  },
  {
   "cell_type": "code",
   "execution_count": null,
   "metadata": {
    "colab": {
     "base_uri": "https://localhost:8080/",
     "height": 206
    },
    "id": "eVFow3IHCQyD",
    "outputId": "1ad3d09f-5360-4fdc-d7f1-49c52371a18c"
   },
   "outputs": [
    {
     "data": {
      "text/html": [
       "\n",
       "  <div id=\"df-58a1e6e9-f053-4a81-8201-2dc4a33707f9\">\n",
       "    <div class=\"colab-df-container\">\n",
       "      <div>\n",
       "<style scoped>\n",
       "    .dataframe tbody tr th:only-of-type {\n",
       "        vertical-align: middle;\n",
       "    }\n",
       "\n",
       "    .dataframe tbody tr th {\n",
       "        vertical-align: top;\n",
       "    }\n",
       "\n",
       "    .dataframe thead th {\n",
       "        text-align: right;\n",
       "    }\n",
       "</style>\n",
       "<table border=\"1\" class=\"dataframe\">\n",
       "  <thead>\n",
       "    <tr style=\"text-align: right;\">\n",
       "      <th></th>\n",
       "      <th>age</th>\n",
       "      <th>sex</th>\n",
       "      <th>cp</th>\n",
       "      <th>trestbps</th>\n",
       "      <th>chol</th>\n",
       "      <th>fbs</th>\n",
       "      <th>restecg</th>\n",
       "      <th>thalach</th>\n",
       "      <th>exang</th>\n",
       "      <th>oldpeak</th>\n",
       "      <th>slope</th>\n",
       "      <th>ca</th>\n",
       "      <th>thal</th>\n",
       "      <th>outlier</th>\n",
       "    </tr>\n",
       "  </thead>\n",
       "  <tbody>\n",
       "    <tr>\n",
       "      <th>0</th>\n",
       "      <td>63</td>\n",
       "      <td>1</td>\n",
       "      <td>3</td>\n",
       "      <td>145</td>\n",
       "      <td>233</td>\n",
       "      <td>1</td>\n",
       "      <td>0</td>\n",
       "      <td>150</td>\n",
       "      <td>0</td>\n",
       "      <td>2.3</td>\n",
       "      <td>0</td>\n",
       "      <td>0</td>\n",
       "      <td>1</td>\n",
       "      <td>0</td>\n",
       "    </tr>\n",
       "    <tr>\n",
       "      <th>1</th>\n",
       "      <td>37</td>\n",
       "      <td>1</td>\n",
       "      <td>2</td>\n",
       "      <td>130</td>\n",
       "      <td>250</td>\n",
       "      <td>0</td>\n",
       "      <td>1</td>\n",
       "      <td>187</td>\n",
       "      <td>0</td>\n",
       "      <td>3.5</td>\n",
       "      <td>0</td>\n",
       "      <td>0</td>\n",
       "      <td>2</td>\n",
       "      <td>0</td>\n",
       "    </tr>\n",
       "    <tr>\n",
       "      <th>2</th>\n",
       "      <td>41</td>\n",
       "      <td>0</td>\n",
       "      <td>1</td>\n",
       "      <td>130</td>\n",
       "      <td>204</td>\n",
       "      <td>0</td>\n",
       "      <td>0</td>\n",
       "      <td>172</td>\n",
       "      <td>0</td>\n",
       "      <td>1.4</td>\n",
       "      <td>2</td>\n",
       "      <td>0</td>\n",
       "      <td>2</td>\n",
       "      <td>0</td>\n",
       "    </tr>\n",
       "    <tr>\n",
       "      <th>3</th>\n",
       "      <td>56</td>\n",
       "      <td>1</td>\n",
       "      <td>1</td>\n",
       "      <td>120</td>\n",
       "      <td>236</td>\n",
       "      <td>0</td>\n",
       "      <td>1</td>\n",
       "      <td>178</td>\n",
       "      <td>0</td>\n",
       "      <td>0.8</td>\n",
       "      <td>2</td>\n",
       "      <td>0</td>\n",
       "      <td>2</td>\n",
       "      <td>0</td>\n",
       "    </tr>\n",
       "    <tr>\n",
       "      <th>4</th>\n",
       "      <td>57</td>\n",
       "      <td>0</td>\n",
       "      <td>0</td>\n",
       "      <td>120</td>\n",
       "      <td>354</td>\n",
       "      <td>0</td>\n",
       "      <td>1</td>\n",
       "      <td>163</td>\n",
       "      <td>1</td>\n",
       "      <td>0.6</td>\n",
       "      <td>2</td>\n",
       "      <td>0</td>\n",
       "      <td>2</td>\n",
       "      <td>0</td>\n",
       "    </tr>\n",
       "  </tbody>\n",
       "</table>\n",
       "</div>\n",
       "      <button class=\"colab-df-convert\" onclick=\"convertToInteractive('df-58a1e6e9-f053-4a81-8201-2dc4a33707f9')\"\n",
       "              title=\"Convert this dataframe to an interactive table.\"\n",
       "              style=\"display:none;\">\n",
       "        \n",
       "  <svg xmlns=\"http://www.w3.org/2000/svg\" height=\"24px\"viewBox=\"0 0 24 24\"\n",
       "       width=\"24px\">\n",
       "    <path d=\"M0 0h24v24H0V0z\" fill=\"none\"/>\n",
       "    <path d=\"M18.56 5.44l.94 2.06.94-2.06 2.06-.94-2.06-.94-.94-2.06-.94 2.06-2.06.94zm-11 1L8.5 8.5l.94-2.06 2.06-.94-2.06-.94L8.5 2.5l-.94 2.06-2.06.94zm10 10l.94 2.06.94-2.06 2.06-.94-2.06-.94-.94-2.06-.94 2.06-2.06.94z\"/><path d=\"M17.41 7.96l-1.37-1.37c-.4-.4-.92-.59-1.43-.59-.52 0-1.04.2-1.43.59L10.3 9.45l-7.72 7.72c-.78.78-.78 2.05 0 2.83L4 21.41c.39.39.9.59 1.41.59.51 0 1.02-.2 1.41-.59l7.78-7.78 2.81-2.81c.8-.78.8-2.07 0-2.86zM5.41 20L4 18.59l7.72-7.72 1.47 1.35L5.41 20z\"/>\n",
       "  </svg>\n",
       "      </button>\n",
       "      \n",
       "  <style>\n",
       "    .colab-df-container {\n",
       "      display:flex;\n",
       "      flex-wrap:wrap;\n",
       "      gap: 12px;\n",
       "    }\n",
       "\n",
       "    .colab-df-convert {\n",
       "      background-color: #E8F0FE;\n",
       "      border: none;\n",
       "      border-radius: 50%;\n",
       "      cursor: pointer;\n",
       "      display: none;\n",
       "      fill: #1967D2;\n",
       "      height: 32px;\n",
       "      padding: 0 0 0 0;\n",
       "      width: 32px;\n",
       "    }\n",
       "\n",
       "    .colab-df-convert:hover {\n",
       "      background-color: #E2EBFA;\n",
       "      box-shadow: 0px 1px 2px rgba(60, 64, 67, 0.3), 0px 1px 3px 1px rgba(60, 64, 67, 0.15);\n",
       "      fill: #174EA6;\n",
       "    }\n",
       "\n",
       "    [theme=dark] .colab-df-convert {\n",
       "      background-color: #3B4455;\n",
       "      fill: #D2E3FC;\n",
       "    }\n",
       "\n",
       "    [theme=dark] .colab-df-convert:hover {\n",
       "      background-color: #434B5C;\n",
       "      box-shadow: 0px 1px 3px 1px rgba(0, 0, 0, 0.15);\n",
       "      filter: drop-shadow(0px 1px 2px rgba(0, 0, 0, 0.3));\n",
       "      fill: #FFFFFF;\n",
       "    }\n",
       "  </style>\n",
       "\n",
       "      <script>\n",
       "        const buttonEl =\n",
       "          document.querySelector('#df-58a1e6e9-f053-4a81-8201-2dc4a33707f9 button.colab-df-convert');\n",
       "        buttonEl.style.display =\n",
       "          google.colab.kernel.accessAllowed ? 'block' : 'none';\n",
       "\n",
       "        async function convertToInteractive(key) {\n",
       "          const element = document.querySelector('#df-58a1e6e9-f053-4a81-8201-2dc4a33707f9');\n",
       "          const dataTable =\n",
       "            await google.colab.kernel.invokeFunction('convertToInteractive',\n",
       "                                                     [key], {});\n",
       "          if (!dataTable) return;\n",
       "\n",
       "          const docLinkHtml = 'Like what you see? Visit the ' +\n",
       "            '<a target=\"_blank\" href=https://colab.research.google.com/notebooks/data_table.ipynb>data table notebook</a>'\n",
       "            + ' to learn more about interactive tables.';\n",
       "          element.innerHTML = '';\n",
       "          dataTable['output_type'] = 'display_data';\n",
       "          await google.colab.output.renderOutput(dataTable, element);\n",
       "          const docLink = document.createElement('div');\n",
       "          docLink.innerHTML = docLinkHtml;\n",
       "          element.appendChild(docLink);\n",
       "        }\n",
       "      </script>\n",
       "    </div>\n",
       "  </div>\n",
       "  "
      ],
      "text/plain": [
       "   age  sex  cp  trestbps  chol  fbs  restecg  thalach  exang  oldpeak  slope  \\\n",
       "0   63    1   3       145   233    1        0      150      0      2.3      0   \n",
       "1   37    1   2       130   250    0        1      187      0      3.5      0   \n",
       "2   41    0   1       130   204    0        0      172      0      1.4      2   \n",
       "3   56    1   1       120   236    0        1      178      0      0.8      2   \n",
       "4   57    0   0       120   354    0        1      163      1      0.6      2   \n",
       "\n",
       "   ca  thal  outlier  \n",
       "0   0     1        0  \n",
       "1   0     2        0  \n",
       "2   0     2        0  \n",
       "3   0     2        0  \n",
       "4   0     2        0  "
      ]
     },
     "execution_count": 23,
     "metadata": {},
     "output_type": "execute_result"
    }
   ],
   "source": [
    "df=pd.read_csv(\"drive/MyDrive/Datasets/IQROutlier_Classification/heart.csv\")\n",
    "df.head()"
   ]
  },
  {
   "cell_type": "code",
   "execution_count": null,
   "metadata": {
    "colab": {
     "base_uri": "https://localhost:8080/"
    },
    "id": "WAIvaf1z0sQH",
    "outputId": "c5087370-c4d7-41dc-c04d-560f805c2871"
   },
   "outputs": [
    {
     "name": "stdout",
     "output_type": "stream",
     "text": [
      "   age  trestbps  chol  thalach  oldpeak  outlier  sex_1  sex_0  cp_3  cp_2  \\\n",
      "0   63       145   233      150      2.3        0      0      1     0     0   \n",
      "1   37       130   250      187      3.5        0      0      1     0     0   \n",
      "2   41       130   204      172      1.4        0      1      0     0     1   \n",
      "3   56       120   236      178      0.8        0      0      1     0     1   \n",
      "4   57       120   354      163      0.6        0      1      0     1     0   \n",
      "\n",
      "   ...  slope_1  ca_0  ca_2  ca_1  ca_3  ca_4  thal_1  thal_2  thal_3  thal_0  \n",
      "0  ...        0     1     0     0     0     0       0       1       0       0  \n",
      "1  ...        0     1     0     0     0     0       0       0       1       0  \n",
      "2  ...        1     1     0     0     0     0       0       0       1       0  \n",
      "3  ...        1     1     0     0     0     0       0       0       1       0  \n",
      "4  ...        1     1     0     0     0     0       0       0       1       0  \n",
      "\n",
      "[5 rows x 31 columns]\n"
     ]
    }
   ],
   "source": [
    "categ = ['sex','cp','fbs','restecg','exang','slope','ca','thal']\n",
    "df = oneHotFunc(df, categ)"
   ]
  },
  {
   "cell_type": "code",
   "execution_count": null,
   "metadata": {
    "colab": {
     "base_uri": "https://localhost:8080/"
    },
    "id": "TzDZxwAFPtDT",
    "outputId": "d0fec48e-c77d-4136-dd63-119bef8be1f0"
   },
   "outputs": [
    {
     "data": {
      "text/plain": [
       "0    296\n",
       "1    296\n",
       "Name: outlier, dtype: int64"
      ]
     },
     "execution_count": 25,
     "metadata": {},
     "output_type": "execute_result"
    }
   ],
   "source": [
    "msk = df['outlier'] == 1\n",
    "num_to_oversample = len(df) - 2*msk.sum()\n",
    "df_positive_oversample = df[msk].sample(n=num_to_oversample, replace=True, random_state=888)\n",
    "df_train_oversample = pd.concat([df, df_positive_oversample])\n",
    "df_train_oversample['outlier'].value_counts()"
   ]
  },
  {
   "cell_type": "code",
   "execution_count": null,
   "metadata": {
    "colab": {
     "base_uri": "https://localhost:8080/"
    },
    "id": "-FTQHQEiPv9U",
    "outputId": "a14d4940-e3b7-42a0-875f-c85c3986c611"
   },
   "outputs": [
    {
     "name": "stderr",
     "output_type": "stream",
     "text": [
      "/usr/local/lib/python3.7/dist-packages/ipykernel_launcher.py:3: FutureWarning: In a future version of pandas all arguments of DataFrame.drop except for the argument 'labels' will be keyword-only\n",
      "  This is separate from the ipykernel package so we can avoid doing imports until\n",
      "/usr/local/lib/python3.7/dist-packages/ipykernel_launcher.py:5: FutureWarning: In a future version of pandas all arguments of DataFrame.drop except for the argument 'labels' will be keyword-only\n",
      "  \"\"\"\n"
     ]
    }
   ],
   "source": [
    "X_train, X_test = train_test_split(df_train_oversample, test_size = 0.3, random_state = 0)\n",
    "y_train = X_train['outlier']\n",
    "X_train = X_train.drop('outlier',1)\n",
    "y_test = X_test['outlier']\n",
    "X_test = X_test.drop('outlier',1)"
   ]
  },
  {
   "cell_type": "code",
   "execution_count": null,
   "metadata": {
    "colab": {
     "base_uri": "https://localhost:8080/",
     "height": 421
    },
    "id": "FCmCm5CxPz_K",
    "outputId": "99b2e194-fad7-4fe7-e570-737ef24cd7be"
   },
   "outputs": [
    {
     "name": "stdout",
     "output_type": "stream",
     "text": [
      "Confusion Matrix:\n",
      "[[84  2]\n",
      " [ 0 92]]\n",
      "Accuracy: 0.9887640449438202\n",
      "Precision: 0.9787234042553191\n",
      "Recall: 1.0\n",
      "TPR:  1.0\n",
      "FPR:  0.023255813953488372\n",
      "F1 Score: 0.989247311827957\n"
     ]
    },
    {
     "data": {
      "image/png": "[encoded data removed]",
      "text/plain": [
       "<Figure size 432x288 with 2 Axes>"
      ]
     },
     "metadata": {
      "needs_background": "light"
     },
     "output_type": "display_data"
    }
   ],
   "source": [
    "clf = DecisionTreeClassifier()\n",
    "clf = clf.fit(X_train,y_train)\n",
    "y_pred = clf.predict(X_test)\n",
    "\n",
    "tn, fp, fn, tp = confusion_matrix(y_test, y_pred).ravel()\n",
    "print(\"Confusion Matrix:\")\n",
    "print(confusion_matrix(y_test,y_pred))\n",
    "sns.heatmap(confusion_matrix(y_test,y_pred), annot=True,fmt=\"d\",annot_kws={'size': 30})\n",
    "print(\"Accuracy:\",metrics.accuracy_score(y_test, y_pred))\n",
    "print(\"Precision:\",metrics.precision_score(y_test, y_pred))\n",
    "print(\"Recall:\",metrics.recall_score(y_test, y_pred))\n",
    "print(\"TPR: \",tp/(tp+fn))\n",
    "print(\"FPR: \",fp/(tn+fp))\n",
    "print(\"F1 Score:\",metrics.f1_score(y_test, y_pred))"
   ]
  },
  {
   "cell_type": "code",
   "execution_count": null,
   "metadata": {
    "colab": {
     "base_uri": "https://localhost:8080/"
    },
    "id": "I7jTeYreP2tU",
    "outputId": "82e358e6-9802-488d-eba8-1598c294741e"
   },
   "outputs": [
    {
     "name": "stdout",
     "output_type": "stream",
     "text": [
      "Confusion Matrix:\n",
      "[[78  8]\n",
      " [ 0 92]]\n",
      "Accuracy: 0.9550561797752809\n",
      "Precision: 0.92\n",
      "Recall: 1.0\n",
      "TPR:  1.0\n",
      "FPR:  0.09302325581395349\n",
      "F1 Score: 0.9583333333333334\n"
     ]
    }
   ],
   "source": [
    "sc = StandardScaler()\n",
    "X_train = sc.fit_transform(X_train)\n",
    "X_test = sc.transform(X_test)\n",
    "\n",
    "svc_model = SVC(C= .1, kernel='linear', gamma= 1)\n",
    "svc_model.fit(X_train, y_train)\n",
    "y_pred = svc_model .predict(X_test)\n",
    "\n",
    "tn, fp, fn, tp = confusion_matrix(y_test, y_pred).ravel()\n",
    "print(\"Confusion Matrix:\")\n",
    "print(confusion_matrix(y_test,y_pred))\n",
    "print(\"Accuracy:\",metrics.accuracy_score(y_test, y_pred))\n",
    "print(\"Precision:\",metrics.precision_score(y_test, y_pred))\n",
    "print(\"Recall:\",metrics.recall_score(y_test, y_pred))\n",
    "print(\"TPR: \",tp/(tp+fn))\n",
    "print(\"FPR: \",fp/(tn+fp))\n",
    "print(\"F1 Score:\",metrics.f1_score(y_test, y_pred))"
   ]
  },
  {
   "cell_type": "code",
   "execution_count": null,
   "metadata": {
    "colab": {
     "base_uri": "https://localhost:8080/"
    },
    "id": "IP1eRG1AP6Gg",
    "outputId": "a66156e5-852e-4d5a-a77d-0f0d67815c3d"
   },
   "outputs": [
    {
     "name": "stdout",
     "output_type": "stream",
     "text": [
      "Confusion Matrix:\n",
      "[[77  9]\n",
      " [ 0 92]]\n",
      "Accuracy: 0.949438202247191\n",
      "Precision: 0.9108910891089109\n",
      "Recall: 1.0\n",
      "TPR:  1.0\n",
      "FPR:  0.10465116279069768\n",
      "F1 Score: 0.9533678756476685\n"
     ]
    }
   ],
   "source": [
    "lr = LogisticRegression()\n",
    "lr.fit(X_train, y_train)\n",
    "y_pred = lr.predict(X_test)\n",
    "\n",
    "tn, fp, fn, tp = confusion_matrix(y_test, y_pred).ravel()\n",
    "print(\"Confusion Matrix:\")\n",
    "print(confusion_matrix(y_test,y_pred))\n",
    "print(\"Accuracy:\",metrics.accuracy_score(y_test, y_pred))\n",
    "print(\"Precision:\",metrics.precision_score(y_test, y_pred))\n",
    "print(\"Recall:\",metrics.recall_score(y_test, y_pred))\n",
    "print(\"TPR: \",tp/(tp+fn))\n",
    "print(\"FPR: \",fp/(tn+fp))\n",
    "print(\"F1 Score:\",metrics.f1_score(y_test, y_pred))"
   ]
  },
  {
   "cell_type": "markdown",
   "metadata": {
    "id": "nyv5IrYCE6tg"
   },
   "source": [
    "Australian\n",
    "-----------------"
   ]
  },
  {
   "cell_type": "code",
   "execution_count": null,
   "metadata": {
    "colab": {
     "base_uri": "https://localhost:8080/",
     "height": 206
    },
    "id": "tJ3OQzKjE8_R",
    "outputId": "6d45ac75-1839-47cb-8e6f-7195ec19d1f3"
   },
   "outputs": [
    {
     "data": {
      "text/html": [
       "\n",
       "  <div id=\"df-4da8c1a8-2948-4489-9009-066ba4fe4fc5\">\n",
       "    <div class=\"colab-df-container\">\n",
       "      <div>\n",
       "<style scoped>\n",
       "    .dataframe tbody tr th:only-of-type {\n",
       "        vertical-align: middle;\n",
       "    }\n",
       "\n",
       "    .dataframe tbody tr th {\n",
       "        vertical-align: top;\n",
       "    }\n",
       "\n",
       "    .dataframe thead th {\n",
       "        text-align: right;\n",
       "    }\n",
       "</style>\n",
       "<table border=\"1\" class=\"dataframe\">\n",
       "  <thead>\n",
       "    <tr style=\"text-align: right;\">\n",
       "      <th></th>\n",
       "      <th>A1</th>\n",
       "      <th>A2</th>\n",
       "      <th>A3</th>\n",
       "      <th>A4</th>\n",
       "      <th>A5</th>\n",
       "      <th>A6</th>\n",
       "      <th>A7</th>\n",
       "      <th>A8</th>\n",
       "      <th>A9</th>\n",
       "      <th>A10</th>\n",
       "      <th>A11</th>\n",
       "      <th>A12</th>\n",
       "      <th>A13</th>\n",
       "      <th>A14</th>\n",
       "      <th>outlier</th>\n",
       "    </tr>\n",
       "  </thead>\n",
       "  <tbody>\n",
       "    <tr>\n",
       "      <th>0</th>\n",
       "      <td>1</td>\n",
       "      <td>22.08</td>\n",
       "      <td>11.46</td>\n",
       "      <td>2</td>\n",
       "      <td>4</td>\n",
       "      <td>4</td>\n",
       "      <td>1.585</td>\n",
       "      <td>0</td>\n",
       "      <td>0</td>\n",
       "      <td>0</td>\n",
       "      <td>1</td>\n",
       "      <td>2</td>\n",
       "      <td>100</td>\n",
       "      <td>1213</td>\n",
       "      <td>0</td>\n",
       "    </tr>\n",
       "    <tr>\n",
       "      <th>1</th>\n",
       "      <td>0</td>\n",
       "      <td>22.67</td>\n",
       "      <td>7.00</td>\n",
       "      <td>2</td>\n",
       "      <td>8</td>\n",
       "      <td>4</td>\n",
       "      <td>0.165</td>\n",
       "      <td>0</td>\n",
       "      <td>0</td>\n",
       "      <td>0</td>\n",
       "      <td>0</td>\n",
       "      <td>2</td>\n",
       "      <td>160</td>\n",
       "      <td>1</td>\n",
       "      <td>0</td>\n",
       "    </tr>\n",
       "    <tr>\n",
       "      <th>2</th>\n",
       "      <td>0</td>\n",
       "      <td>29.58</td>\n",
       "      <td>1.75</td>\n",
       "      <td>1</td>\n",
       "      <td>4</td>\n",
       "      <td>4</td>\n",
       "      <td>1.250</td>\n",
       "      <td>0</td>\n",
       "      <td>0</td>\n",
       "      <td>0</td>\n",
       "      <td>1</td>\n",
       "      <td>2</td>\n",
       "      <td>280</td>\n",
       "      <td>1</td>\n",
       "      <td>0</td>\n",
       "    </tr>\n",
       "    <tr>\n",
       "      <th>3</th>\n",
       "      <td>0</td>\n",
       "      <td>21.67</td>\n",
       "      <td>11.50</td>\n",
       "      <td>1</td>\n",
       "      <td>5</td>\n",
       "      <td>3</td>\n",
       "      <td>0.000</td>\n",
       "      <td>1</td>\n",
       "      <td>1</td>\n",
       "      <td>11</td>\n",
       "      <td>1</td>\n",
       "      <td>2</td>\n",
       "      <td>0</td>\n",
       "      <td>1</td>\n",
       "      <td>0</td>\n",
       "    </tr>\n",
       "    <tr>\n",
       "      <th>4</th>\n",
       "      <td>1</td>\n",
       "      <td>20.17</td>\n",
       "      <td>8.17</td>\n",
       "      <td>2</td>\n",
       "      <td>6</td>\n",
       "      <td>4</td>\n",
       "      <td>1.960</td>\n",
       "      <td>1</td>\n",
       "      <td>1</td>\n",
       "      <td>14</td>\n",
       "      <td>0</td>\n",
       "      <td>2</td>\n",
       "      <td>60</td>\n",
       "      <td>159</td>\n",
       "      <td>0</td>\n",
       "    </tr>\n",
       "  </tbody>\n",
       "</table>\n",
       "</div>\n",
       "      <button class=\"colab-df-convert\" onclick=\"convertToInteractive('df-4da8c1a8-2948-4489-9009-066ba4fe4fc5')\"\n",
       "              title=\"Convert this dataframe to an interactive table.\"\n",
       "              style=\"display:none;\">\n",
       "        \n",
       "  <svg xmlns=\"http://www.w3.org/2000/svg\" height=\"24px\"viewBox=\"0 0 24 24\"\n",
       "       width=\"24px\">\n",
       "    <path d=\"M0 0h24v24H0V0z\" fill=\"none\"/>\n",
       "    <path d=\"M18.56 5.44l.94 2.06.94-2.06 2.06-.94-2.06-.94-.94-2.06-.94 2.06-2.06.94zm-11 1L8.5 8.5l.94-2.06 2.06-.94-2.06-.94L8.5 2.5l-.94 2.06-2.06.94zm10 10l.94 2.06.94-2.06 2.06-.94-2.06-.94-.94-2.06-.94 2.06-2.06.94z\"/><path d=\"M17.41 7.96l-1.37-1.37c-.4-.4-.92-.59-1.43-.59-.52 0-1.04.2-1.43.59L10.3 9.45l-7.72 7.72c-.78.78-.78 2.05 0 2.83L4 21.41c.39.39.9.59 1.41.59.51 0 1.02-.2 1.41-.59l7.78-7.78 2.81-2.81c.8-.78.8-2.07 0-2.86zM5.41 20L4 18.59l7.72-7.72 1.47 1.35L5.41 20z\"/>\n",
       "  </svg>\n",
       "      </button>\n",
       "      \n",
       "  <style>\n",
       "    .colab-df-container {\n",
       "      display:flex;\n",
       "      flex-wrap:wrap;\n",
       "      gap: 12px;\n",
       "    }\n",
       "\n",
       "    .colab-df-convert {\n",
       "      background-color: #E8F0FE;\n",
       "      border: none;\n",
       "      border-radius: 50%;\n",
       "      cursor: pointer;\n",
       "      display: none;\n",
       "      fill: #1967D2;\n",
       "      height: 32px;\n",
       "      padding: 0 0 0 0;\n",
       "      width: 32px;\n",
       "    }\n",
       "\n",
       "    .colab-df-convert:hover {\n",
       "      background-color: #E2EBFA;\n",
       "      box-shadow: 0px 1px 2px rgba(60, 64, 67, 0.3), 0px 1px 3px 1px rgba(60, 64, 67, 0.15);\n",
       "      fill: #174EA6;\n",
       "    }\n",
       "\n",
       "    [theme=dark] .colab-df-convert {\n",
       "      background-color: #3B4455;\n",
       "      fill: #D2E3FC;\n",
       "    }\n",
       "\n",
       "    [theme=dark] .colab-df-convert:hover {\n",
       "      background-color: #434B5C;\n",
       "      box-shadow: 0px 1px 3px 1px rgba(0, 0, 0, 0.15);\n",
       "      filter: drop-shadow(0px 1px 2px rgba(0, 0, 0, 0.3));\n",
       "      fill: #FFFFFF;\n",
       "    }\n",
       "  </style>\n",
       "\n",
       "      <script>\n",
       "        const buttonEl =\n",
       "          document.querySelector('#df-4da8c1a8-2948-4489-9009-066ba4fe4fc5 button.colab-df-convert');\n",
       "        buttonEl.style.display =\n",
       "          google.colab.kernel.accessAllowed ? 'block' : 'none';\n",
       "\n",
       "        async function convertToInteractive(key) {\n",
       "          const element = document.querySelector('#df-4da8c1a8-2948-4489-9009-066ba4fe4fc5');\n",
       "          const dataTable =\n",
       "            await google.colab.kernel.invokeFunction('convertToInteractive',\n",
       "                                                     [key], {});\n",
       "          if (!dataTable) return;\n",
       "\n",
       "          const docLinkHtml = 'Like what you see? Visit the ' +\n",
       "            '<a target=\"_blank\" href=https://colab.research.google.com/notebooks/data_table.ipynb>data table notebook</a>'\n",
       "            + ' to learn more about interactive tables.';\n",
       "          element.innerHTML = '';\n",
       "          dataTable['output_type'] = 'display_data';\n",
       "          await google.colab.output.renderOutput(dataTable, element);\n",
       "          const docLink = document.createElement('div');\n",
       "          docLink.innerHTML = docLinkHtml;\n",
       "          element.appendChild(docLink);\n",
       "        }\n",
       "      </script>\n",
       "    </div>\n",
       "  </div>\n",
       "  "
      ],
      "text/plain": [
       "   A1     A2     A3  A4  A5  A6     A7  A8  A9  A10  A11  A12  A13   A14  \\\n",
       "0   1  22.08  11.46   2   4   4  1.585   0   0    0    1    2  100  1213   \n",
       "1   0  22.67   7.00   2   8   4  0.165   0   0    0    0    2  160     1   \n",
       "2   0  29.58   1.75   1   4   4  1.250   0   0    0    1    2  280     1   \n",
       "3   0  21.67  11.50   1   5   3  0.000   1   1   11    1    2    0     1   \n",
       "4   1  20.17   8.17   2   6   4  1.960   1   1   14    0    2   60   159   \n",
       "\n",
       "   outlier  \n",
       "0        0  \n",
       "1        0  \n",
       "2        0  \n",
       "3        0  \n",
       "4        0  "
      ]
     },
     "execution_count": 7,
     "metadata": {},
     "output_type": "execute_result"
    }
   ],
   "source": [
    "df=pd.read_csv(\"drive/MyDrive/Datasets/IQROutlier_Classification/australian.csv\")\n",
    "df.head()"
   ]
  },
  {
   "cell_type": "code",
   "execution_count": null,
   "metadata": {
    "colab": {
     "base_uri": "https://localhost:8080/"
    },
    "id": "sb1C6o-culj8",
    "outputId": "181c5584-2ac4-44e1-a159-517262669217"
   },
   "outputs": [
    {
     "name": "stdout",
     "output_type": "stream",
     "text": [
      "      A2     A3     A7  A10  A13   A14  outlier  A1_1  A1_0  A4_2  ...  A6_7  \\\n",
      "0  22.08  11.46  1.585    0  100  1213        0     0     1     0  ...     0   \n",
      "1  22.67   7.00  0.165    0  160     1        0     1     0     0  ...     0   \n",
      "2  29.58   1.75  1.250    0  280     1        0     1     0     1  ...     0   \n",
      "3  21.67  11.50  0.000   11    0     1        0     1     0     1  ...     0   \n",
      "4  20.17   8.17  1.960   14   60   159        0     0     1     0  ...     0   \n",
      "\n",
      "   A8_0  A8_1  A9_0  A9_1  A11_1  A11_0  A12_2  A12_1  A12_3  \n",
      "0     1     0     1     0      0      1      0      1      0  \n",
      "1     1     0     1     0      1      0      0      1      0  \n",
      "2     1     0     1     0      0      1      0      1      0  \n",
      "3     0     1     0     1      0      1      0      1      0  \n",
      "4     0     1     0     1      1      0      0      1      0  \n",
      "\n",
      "[5 rows x 43 columns]\n"
     ]
    }
   ],
   "source": [
    "categ = ['A1','A4','A5','A6','A8','A9','A11','A12']\n",
    "df = oneHotFunc(df, categ)"
   ]
  },
  {
   "cell_type": "code",
   "execution_count": null,
   "metadata": {
    "colab": {
     "base_uri": "https://localhost:8080/"
    },
    "id": "gkBeSAceFMTi",
    "outputId": "efc97b2e-946f-40cc-c9e0-75182d8a091e"
   },
   "outputs": [
    {
     "data": {
      "text/plain": [
       "0    659\n",
       "1    659\n",
       "Name: outlier, dtype: int64"
      ]
     },
     "execution_count": 9,
     "metadata": {},
     "output_type": "execute_result"
    }
   ],
   "source": [
    "msk = df['outlier'] == 1\n",
    "num_to_oversample = len(df) - 2*msk.sum()\n",
    "df_positive_oversample = df[msk].sample(n=num_to_oversample, replace=True, random_state=888)\n",
    "df_train_oversample = pd.concat([df, df_positive_oversample])\n",
    "df_train_oversample['outlier'].value_counts()"
   ]
  },
  {
   "cell_type": "code",
   "execution_count": null,
   "metadata": {
    "colab": {
     "base_uri": "https://localhost:8080/"
    },
    "id": "lhlmNlfwFO6h",
    "outputId": "5a277dc4-6841-48fd-e382-464387422861"
   },
   "outputs": [
    {
     "name": "stderr",
     "output_type": "stream",
     "text": [
      "/usr/local/lib/python3.7/dist-packages/ipykernel_launcher.py:3: FutureWarning: In a future version of pandas all arguments of DataFrame.drop except for the argument 'labels' will be keyword-only\n",
      "  This is separate from the ipykernel package so we can avoid doing imports until\n",
      "/usr/local/lib/python3.7/dist-packages/ipykernel_launcher.py:5: FutureWarning: In a future version of pandas all arguments of DataFrame.drop except for the argument 'labels' will be keyword-only\n",
      "  \"\"\"\n"
     ]
    }
   ],
   "source": [
    "X_train, X_test = train_test_split(df_train_oversample, test_size = 0.3, random_state = 0)\n",
    "y_train = X_train['outlier']\n",
    "X_train = X_train.drop('outlier',1)\n",
    "y_test = X_test['outlier']\n",
    "X_test = X_test.drop('outlier',1)"
   ]
  },
  {
   "cell_type": "code",
   "execution_count": null,
   "metadata": {
    "colab": {
     "base_uri": "https://localhost:8080/",
     "height": 421
    },
    "id": "qQU_tr4rFRGq",
    "outputId": "94a0851c-523a-4b02-8218-27801ef45a04"
   },
   "outputs": [
    {
     "name": "stdout",
     "output_type": "stream",
     "text": [
      "Confusion Matrix:\n",
      "[[184   7]\n",
      " [  0 205]]\n",
      "Accuracy: 0.9823232323232324\n",
      "Precision: 0.9669811320754716\n",
      "Recall: 1.0\n",
      "TPR:  1.0\n",
      "FPR:  0.03664921465968586\n",
      "F1 Score: 0.9832134292565947\n"
     ]
    },
    {
     "data": {
      "image/png": "[encoded data removed]",
      "text/plain": [
       "<Figure size 432x288 with 2 Axes>"
      ]
     },
     "metadata": {
      "needs_background": "light"
     },
     "output_type": "display_data"
    }
   ],
   "source": [
    "clf = DecisionTreeClassifier()\n",
    "clf = clf.fit(X_train,y_train)\n",
    "y_pred = clf.predict(X_test)\n",
    "tn, fp, fn, tp = confusion_matrix(y_test, y_pred).ravel()\n",
    "print(\"Confusion Matrix:\")\n",
    "print(confusion_matrix(y_test,y_pred))\n",
    "sns.heatmap(confusion_matrix(y_test,y_pred), annot=True,fmt=\"d\",annot_kws={'size': 30})\n",
    "print(\"Accuracy:\",metrics.accuracy_score(y_test, y_pred))\n",
    "print(\"Precision:\",metrics.precision_score(y_test, y_pred))\n",
    "print(\"Recall:\",metrics.recall_score(y_test, y_pred))\n",
    "print(\"TPR: \",tp/(tp+fn))\n",
    "print(\"FPR: \",fp/(tn+fp))\n",
    "print(\"F1 Score:\",metrics.f1_score(y_test, y_pred))"
   ]
  },
  {
   "cell_type": "code",
   "execution_count": null,
   "metadata": {
    "colab": {
     "base_uri": "https://localhost:8080/"
    },
    "id": "VC4G0JrDFT3K",
    "outputId": "24d74060-bfc2-4bcb-8737-67b3ec123a35"
   },
   "outputs": [
    {
     "name": "stdout",
     "output_type": "stream",
     "text": [
      "Confusion Matrix:\n",
      "[[183   8]\n",
      " [  0 205]]\n",
      "Accuracy: 0.9797979797979798\n",
      "Precision: 0.9624413145539906\n",
      "Recall: 1.0\n",
      "TPR:  1.0\n",
      "FPR:  0.041884816753926704\n",
      "F1 Score: 0.9808612440191388\n"
     ]
    }
   ],
   "source": [
    "sc = StandardScaler()\n",
    "X_train = sc.fit_transform(X_train)\n",
    "X_test = sc.transform(X_test)\n",
    "\n",
    "svc_model = SVC(C= .1, kernel='linear', gamma= 1)\n",
    "svc_model.fit(X_train, y_train)\n",
    "y_pred = svc_model .predict(X_test)\n",
    "tn, fp, fn, tp = confusion_matrix(y_test, y_pred).ravel()\n",
    "print(\"Confusion Matrix:\")\n",
    "print(confusion_matrix(y_test,y_pred))\n",
    "print(\"Accuracy:\",metrics.accuracy_score(y_test, y_pred))\n",
    "print(\"Precision:\",metrics.precision_score(y_test, y_pred))\n",
    "print(\"Recall:\",metrics.recall_score(y_test, y_pred))\n",
    "print(\"TPR: \",tp/(tp+fn))\n",
    "print(\"FPR: \",fp/(tn+fp))\n",
    "print(\"F1 Score:\",metrics.f1_score(y_test, y_pred))"
   ]
  },
  {
   "cell_type": "code",
   "execution_count": null,
   "metadata": {
    "colab": {
     "base_uri": "https://localhost:8080/"
    },
    "id": "qmR4LBZdFYju",
    "outputId": "b23664ab-c038-476d-80c6-8f254296677d"
   },
   "outputs": [
    {
     "name": "stdout",
     "output_type": "stream",
     "text": [
      "Confusion Matrix:\n",
      "[[183   8]\n",
      " [  0 205]]\n",
      "Accuracy: 0.9797979797979798\n",
      "Precision: 0.9624413145539906\n",
      "Recall: 1.0\n",
      "TPR:  1.0\n",
      "FPR:  0.041884816753926704\n",
      "F1 Score: 0.9808612440191388\n"
     ]
    }
   ],
   "source": [
    "lr = LogisticRegression()\n",
    "lr.fit(X_train, y_train)\n",
    "y_pred = lr.predict(X_test)\n",
    "\n",
    "tn, fp, fn, tp = confusion_matrix(y_test, y_pred).ravel()\n",
    "print(\"Confusion Matrix:\")\n",
    "print(confusion_matrix(y_test,y_pred))\n",
    "print(\"Accuracy:\",metrics.accuracy_score(y_test, y_pred))\n",
    "print(\"Precision:\",metrics.precision_score(y_test, y_pred))\n",
    "print(\"Recall:\",metrics.recall_score(y_test, y_pred))\n",
    "print(\"TPR: \",tp/(tp+fn))\n",
    "print(\"FPR: \",fp/(tn+fp))\n",
    "print(\"F1 Score:\",metrics.f1_score(y_test, y_pred))"
   ]
  },
  {
   "cell_type": "markdown",
   "metadata": {
    "id": "pI9fk8fQPoXP"
   },
   "source": [
    "Classification before and after removal of outliers\n",
    "---------------------------------------------------------\n",
    "using random forest\n"
   ]
  },
  {
   "cell_type": "markdown",
   "metadata": {
    "id": "553TZ88BnYXX"
   },
   "source": [
    "Cylinder Bands\n",
    "--------------"
   ]
  },
  {
   "cell_type": "code",
   "execution_count": null,
   "metadata": {
    "id": "m7QjhimGnYXZ"
   },
   "outputs": [],
   "source": [
    "df_after=pd.read_csv(\"drive/MyDrive/Datasets/IQRAfterRemovingOutliers/band.csv\")\n",
    "colnames = ['timestamp', 'cylinder_number', 'customer', 'job_number', 'grain_screened', 'ink_color',\n",
    "'proof_on_ctd_ink', 'blade_mfg', 'cylinder_division', 'paper_type', 'ink_type', 'direct_steam', 'solvent_type',\n",
    "'type_on_cylinder', 'press_type', 'press', 'unit_number', 'cylinder_size', 'paper_mill_location', 'plating_tank',\n",
    "'proof_cut', 'viscosity', 'caliper', 'ink_temperature', 'humifity', 'roughness', 'blade_pressure', 'varnish_pct',\n",
    "'press_speed', 'ink_pct', 'solvent_pct', 'ESA_Voltage', 'ESA_Amperage', 'wax', 'hardener', 'roller_durometer',\n",
    "'current_density', 'anode_space_ratio', 'chrome_content', 'target']\n",
    "df_before = pd.read_csv(\"drive/MyDrive/Datasets/bands.data\",names=colnames, header=None)"
   ]
  },
  {
   "cell_type": "code",
   "execution_count": null,
   "metadata": {
    "id": "jCehKlcxnYXa"
   },
   "outputs": [],
   "source": [
    "categ = ['cylinder_number', 'customer', 'job_number', 'grain_screened', 'ink_color',\n",
    "'proof_on_ctd_ink', 'blade_mfg', 'cylinder_division', 'paper_type', 'ink_type', 'direct_steam', 'solvent_type',\n",
    "'type_on_cylinder', 'press_type', 'press', 'unit_number', 'cylinder_size', 'paper_mill_location', 'plating_tank']\n",
    "cont = ['proof_cut', 'viscosity', 'caliper', 'ink_temperature', 'humifity', 'roughness', 'blade_pressure', 'varnish_pct',\n",
    "'press_speed', 'ink_pct', 'solvent_pct', 'ESA_Voltage', 'ESA_Amperage', 'wax', 'hardener', 'roller_durometer',\n",
    "'current_density', 'anode_space_ratio', 'chrome_content']\n",
    "df_before = MissingValuesHandler(df_before, categ, cont)\n",
    "df_after = MissingValuesHandler(df_after, categ, cont)"
   ]
  },
  {
   "cell_type": "code",
   "execution_count": null,
   "metadata": {
    "colab": {
     "base_uri": "https://localhost:8080/"
    },
    "id": "NAYAkwWJnYXa",
    "outputId": "66bd2a30-eabf-4acd-cb0c-bccee50d3b8b"
   },
   "outputs": [
    {
     "name": "stdout",
     "output_type": "stream",
     "text": [
      "   timestamp proof_cut viscosity caliper ink_temperature humifity roughness  \\\n",
      "0   19910108        55        46     0.2              17       78      0.75   \n",
      "1   19910109        55        46     0.3              15       80      0.75   \n",
      "2   19910104        62        40   0.433              16       80      0.75   \n",
      "3   19910104        52        40     0.3              16       75    0.3125   \n",
      "4   19910111        50        46     0.3              17       80      0.75   \n",
      "\n",
      "  blade_pressure varnish_pct press_speed  ... cylinder_size_tabloid  \\\n",
      "0             20        13.1        1700  ...                     0   \n",
      "1             20         6.6        1900  ...                     0   \n",
      "2             30         6.5        1850  ...                     0   \n",
      "3             30         5.6        1467  ...                     0   \n",
      "4             30           0        2100  ...                     0   \n",
      "\n",
      "  cylinder_size_spiegel paper_mill_location_NorthUS  \\\n",
      "0                     0                           0   \n",
      "1                     0                           0   \n",
      "2                     0                           0   \n",
      "3                     0                           0   \n",
      "4                     0                           0   \n",
      "\n",
      "  paper_mill_location_CANADIAN paper_mill_location_CANAdiAN  \\\n",
      "0                            0                            1   \n",
      "1                            0                            1   \n",
      "2                            0                            1   \n",
      "3                            0                            1   \n",
      "4                            0                            1   \n",
      "\n",
      "  paper_mill_location_SCANDANAVIAN paper_mill_location_SouthUS  \\\n",
      "0                                0                           0   \n",
      "1                                0                           0   \n",
      "2                                0                           0   \n",
      "3                                0                           0   \n",
      "4                                0                           0   \n",
      "\n",
      "  paper_mill_location_mideuropean plating_tank_1911 plating_tank_1910  \n",
      "0                               0                 0                 1  \n",
      "1                               0                 1                 0  \n",
      "2                               0                 1                 0  \n",
      "3                               0                 1                 0  \n",
      "4                               0                 1                 0  \n",
      "\n",
      "[5 rows x 865 columns]\n",
      "   timestamp proof_cut viscosity caliper ink_temperature humifity roughness  \\\n",
      "0   19910108        55        46     0.2              17       78      0.75   \n",
      "1   19910109        55        46     0.3              15       80      0.75   \n",
      "2   19910104        62        40   0.433              16       80      0.75   \n",
      "3   19910104        52        40     0.3              16       75    0.3125   \n",
      "4   19910111        50        46     0.3              17       80      0.75   \n",
      "\n",
      "  blade_pressure varnish_pct press_speed  ... cylinder_size_tabloid  \\\n",
      "0             20        13.1        1700  ...                     0   \n",
      "1             20         6.6        1900  ...                     0   \n",
      "2             30         6.5        1850  ...                     0   \n",
      "3             30         5.6        1467  ...                     0   \n",
      "4             30           0        2100  ...                     0   \n",
      "\n",
      "  cylinder_size_spiegel paper_mill_location_NorthUS  \\\n",
      "0                     0                           0   \n",
      "1                     0                           0   \n",
      "2                     0                           0   \n",
      "3                     0                           0   \n",
      "4                     0                           0   \n",
      "\n",
      "  paper_mill_location_CANADIAN paper_mill_location_CANAdiAN  \\\n",
      "0                            0                            1   \n",
      "1                            0                            1   \n",
      "2                            0                            1   \n",
      "3                            0                            1   \n",
      "4                            0                            1   \n",
      "\n",
      "  paper_mill_location_SCANDANAVIAN paper_mill_location_SouthUS  \\\n",
      "0                                0                           0   \n",
      "1                                0                           0   \n",
      "2                                0                           0   \n",
      "3                                0                           0   \n",
      "4                                0                           0   \n",
      "\n",
      "  paper_mill_location_mideuropean plating_tank_1911 plating_tank_1910  \n",
      "0                               0                 0                 1  \n",
      "1                               0                 1                 0  \n",
      "2                               0                 1                 0  \n",
      "3                               0                 1                 0  \n",
      "4                               0                 1                 0  \n",
      "\n",
      "[5 rows x 855 columns]\n"
     ]
    }
   ],
   "source": [
    "df_before = oneHotFunc(df_before, categ)\n",
    "df_after = oneHotFunc(df_after, categ)"
   ]
  },
  {
   "cell_type": "code",
   "execution_count": null,
   "metadata": {
    "id": "xxZkyY6WnYXb"
   },
   "outputs": [],
   "source": [
    "map = { 'band':0, 'noband':1}\n",
    "df_before.target = [map[item] for item in df_before.target]\n",
    "df_after.target = [map[item] for item in df_after.target]\n",
    "df_before = df_before.astype(float)\n",
    "df_after = df_after.astype(float)"
   ]
  },
  {
   "cell_type": "code",
   "execution_count": null,
   "metadata": {
    "colab": {
     "base_uri": "https://localhost:8080/"
    },
    "id": "_tu1Xa90oOAo",
    "outputId": "e99f6283-58d9-4f15-b942-dbfab8044d65"
   },
   "outputs": [
    {
     "name": "stderr",
     "output_type": "stream",
     "text": [
      "/usr/local/lib/python3.7/dist-packages/ipykernel_launcher.py:1: FutureWarning: In a future version of pandas all arguments of DataFrame.drop except for the argument 'labels' will be keyword-only\n",
      "  \"\"\"Entry point for launching an IPython kernel.\n",
      "/usr/local/lib/python3.7/dist-packages/ipykernel_launcher.py:2: FutureWarning: In a future version of pandas all arguments of DataFrame.drop except for the argument 'labels' will be keyword-only\n",
      "  \n"
     ]
    }
   ],
   "source": [
    "df_before = df_before.drop('timestamp',1)\n",
    "df_after = df_after.drop('timestamp',1)"
   ]
  },
  {
   "cell_type": "code",
   "execution_count": null,
   "metadata": {
    "colab": {
     "base_uri": "https://localhost:8080/"
    },
    "id": "FM5fjK-inYXc",
    "outputId": "28f9f342-0486-456b-b2b4-2409bb88c03c"
   },
   "outputs": [
    {
     "name": "stderr",
     "output_type": "stream",
     "text": [
      "/usr/local/lib/python3.7/dist-packages/ipykernel_launcher.py:1: FutureWarning: In a future version of pandas all arguments of DataFrame.drop except for the argument 'labels' will be keyword-only\n",
      "  \"\"\"Entry point for launching an IPython kernel.\n"
     ]
    },
    {
     "name": "stdout",
     "output_type": "stream",
     "text": [
      "Confusion Matrix:\n",
      "[[43 23]\n",
      " [10 86]]\n",
      "Accuracy: 0.7962962962962963\n",
      "Precision: 0.7889908256880734\n",
      "Recall: 0.8958333333333334\n",
      "TPR:  0.8958333333333334\n",
      "FPR:  0.3484848484848485\n",
      "F1 Score: 0.8390243902439025\n"
     ]
    }
   ],
   "source": [
    "X = df_before.drop('target',1)\n",
    "y = df_before['target']\n",
    "X_train, X_test, y_train, y_test = train_test_split(X, y, test_size=0.3,random_state=5)\n",
    "clf=RandomForestClassifier(n_estimators=100,random_state=20)\n",
    "clf.fit(X_train,y_train)\n",
    "y_pred=clf.predict(X_test)\n",
    "\n",
    "tn, fp, fn, tp = confusion_matrix(y_test, y_pred).ravel()\n",
    "print(\"Confusion Matrix:\")\n",
    "print(confusion_matrix(y_test,y_pred))\n",
    "print(\"Accuracy:\",metrics.accuracy_score(y_test, y_pred))\n",
    "print(\"Precision:\",metrics.precision_score(y_test, y_pred))\n",
    "print(\"Recall:\",metrics.recall_score(y_test, y_pred))\n",
    "print(\"TPR: \",tp/(tp+fn))\n",
    "print(\"FPR: \",fp/(tn+fp))\n",
    "print(\"F1 Score:\",metrics.f1_score(y_test, y_pred))"
   ]
  },
  {
   "cell_type": "code",
   "execution_count": null,
   "metadata": {
    "colab": {
     "base_uri": "https://localhost:8080/"
    },
    "id": "aseen9JXnYXd",
    "outputId": "7fa61905-04f0-4509-d4a6-843a5734725f"
   },
   "outputs": [
    {
     "name": "stderr",
     "output_type": "stream",
     "text": [
      "/usr/local/lib/python3.7/dist-packages/ipykernel_launcher.py:1: FutureWarning: In a future version of pandas all arguments of DataFrame.drop except for the argument 'labels' will be keyword-only\n",
      "  \"\"\"Entry point for launching an IPython kernel.\n"
     ]
    },
    {
     "name": "stdout",
     "output_type": "stream",
     "text": [
      "Confusion Matrix:\n",
      "[[43 16]\n",
      " [13 87]]\n",
      "Accuracy: 0.8176100628930818\n",
      "Precision: 0.8446601941747572\n",
      "Recall: 0.87\n",
      "TPR:  0.87\n",
      "FPR:  0.2711864406779661\n",
      "F1 Score: 0.8571428571428571\n"
     ]
    }
   ],
   "source": [
    "X = df_after.drop('target',1)\n",
    "y = df_after['target']\n",
    "X_train, X_test, y_train, y_test = train_test_split(X, y, test_size=0.3,random_state=5)\n",
    "clf=RandomForestClassifier(n_estimators=100,random_state=20)\n",
    "clf.fit(X_train,y_train)\n",
    "y_pred=clf.predict(X_test)\n",
    "\n",
    "tn, fp, fn, tp = confusion_matrix(y_test, y_pred).ravel()\n",
    "print(\"Confusion Matrix:\")\n",
    "print(confusion_matrix(y_test,y_pred))\n",
    "print(\"Accuracy:\",metrics.accuracy_score(y_test, y_pred))\n",
    "print(\"Precision:\",metrics.precision_score(y_test, y_pred))\n",
    "print(\"Recall:\",metrics.recall_score(y_test, y_pred))\n",
    "print(\"TPR: \",tp/(tp+fn))\n",
    "print(\"FPR: \",fp/(tn+fp))\n",
    "print(\"F1 Score:\",metrics.f1_score(y_test, y_pred))"
   ]
  },
  {
   "cell_type": "markdown",
   "metadata": {
    "id": "ILDWfEhnYiiK"
   },
   "source": [
    "Credit\n",
    "-------------"
   ]
  },
  {
   "cell_type": "code",
   "execution_count": null,
   "metadata": {
    "id": "8E1hIZjyYiiL"
   },
   "outputs": [],
   "source": [
    "df_after=pd.read_csv(\"drive/MyDrive/Datasets/IQRAfterRemovingOutliers/credit.csv\")\n",
    "colnames = ['A1','A2','A3','A4','A5','A6','A7','A8','A9','A10','A11','A12','A13','A14','A15','target']\n",
    "df_before = pd.read_csv(\"drive/MyDrive/Datasets/creditapproval.data\",names=colnames, header=None)"
   ]
  },
  {
   "cell_type": "code",
   "execution_count": null,
   "metadata": {
    "id": "kWQfJMsgY-wq"
   },
   "outputs": [],
   "source": [
    "categ=['A1','A4','A5','A6','A7','A9','A10','A12','A13']\n",
    "cont=['A2','A3','A8','A11','A14','A15']\n",
    "df_before = MissingValuesHandler(df_before, categ, cont)\n",
    "df_after = MissingValuesHandler(df_after, categ, cont)"
   ]
  },
  {
   "cell_type": "code",
   "execution_count": null,
   "metadata": {
    "colab": {
     "base_uri": "https://localhost:8080/"
    },
    "id": "CxlppAmhYiiM",
    "outputId": "aee59549-eb22-4c5d-892e-af3357697de7"
   },
   "outputs": [
    {
     "name": "stdout",
     "output_type": "stream",
     "text": [
      "      A2     A3    A8  A11    A14  A15 target  A1_b  A1_a  A4_u  ...  A7_n  \\\n",
      "0  30.83  0.000  1.25    1  00202    0      +     0     1     0  ...     0   \n",
      "1  58.67  4.460  3.04    6  00043  560      +     1     0     0  ...     0   \n",
      "2  24.50  0.500  1.50    0  00280  824      +     1     0     0  ...     0   \n",
      "3  27.83  1.540  3.75    5  00100    3      +     0     1     0  ...     0   \n",
      "4  20.17  5.625  1.71    0  00120    0      +     0     1     0  ...     0   \n",
      "\n",
      "   A9_t  A9_f  A10_t  A10_f  A12_f  A12_t  A13_g  A13_s  A13_p  \n",
      "0     0     1      0      1      1      0      1      0      0  \n",
      "1     0     1      0      1      1      0      1      0      0  \n",
      "2     0     1      1      0      1      0      1      0      0  \n",
      "3     0     1      0      1      0      1      1      0      0  \n",
      "4     0     1      1      0      1      0      0      0      1  \n",
      "\n",
      "[5 rows x 47 columns]\n",
      "      A2     A3    A8  A11    A14  A15 target  A1_b  A1_a  A4_u  ...  A7_n  \\\n",
      "0  30.83  0.000  1.25    1  00202    0      +     0     1     0  ...     0   \n",
      "1  58.67  4.460  3.04    6  00043  560      +     1     0     0  ...     0   \n",
      "2  24.50  0.500  1.50    0  00280  824      +     1     0     0  ...     0   \n",
      "3  27.83  1.540  3.75    5  00100    3      +     0     1     0  ...     0   \n",
      "4  20.17  5.625  1.71    0  00120    0      +     0     1     0  ...     0   \n",
      "\n",
      "   A9_t  A9_f  A10_t  A10_f  A12_f  A12_t  A13_g  A13_s  A13_p  \n",
      "0     0     1      0      1      1      0      1      0      0  \n",
      "1     0     1      0      1      1      0      1      0      0  \n",
      "2     0     1      1      0      1      0      1      0      0  \n",
      "3     0     1      0      1      0      1      1      0      0  \n",
      "4     0     1      1      0      1      0      0      0      1  \n",
      "\n",
      "[5 rows x 47 columns]\n"
     ]
    }
   ],
   "source": [
    "df_before = oneHotFunc(df_before, categ)\n",
    "df_after = oneHotFunc(df_after, categ)"
   ]
  },
  {
   "cell_type": "code",
   "execution_count": null,
   "metadata": {
    "id": "1vkk3I3QZ35L"
   },
   "outputs": [],
   "source": [
    "map = { '+':0, '-':1}\n",
    "df_before.target = [map[item] for item in df_before.target]\n",
    "df_after.target = [map[item] for item in df_after.target]\n",
    "df_before = df_before.astype(float)\n",
    "df_after = df_after.astype(float)"
   ]
  },
  {
   "cell_type": "code",
   "execution_count": null,
   "metadata": {
    "colab": {
     "base_uri": "https://localhost:8080/"
    },
    "id": "CcQqHpuhYiiN",
    "outputId": "095250d8-1980-4f0b-8566-9a0750fef292"
   },
   "outputs": [
    {
     "name": "stderr",
     "output_type": "stream",
     "text": [
      "/usr/local/lib/python3.7/dist-packages/ipykernel_launcher.py:1: FutureWarning: In a future version of pandas all arguments of DataFrame.drop except for the argument 'labels' will be keyword-only\n",
      "  \"\"\"Entry point for launching an IPython kernel.\n"
     ]
    },
    {
     "name": "stdout",
     "output_type": "stream",
     "text": [
      "Confusion Matrix:\n",
      "[[ 72  18]\n",
      " [ 12 105]]\n",
      "Accuracy: 0.855072463768116\n",
      "Precision: 0.8536585365853658\n",
      "Recall: 0.8974358974358975\n",
      "TPR:  0.8974358974358975\n",
      "FPR:  0.2\n",
      "F1 Score: 0.875\n"
     ]
    }
   ],
   "source": [
    "X = df_before.drop('target',1)\n",
    "y = df_before['target']\n",
    "X_train, X_test, y_train, y_test = train_test_split(X, y, test_size=0.3,random_state=5)\n",
    "clf=RandomForestClassifier(n_estimators=100,random_state=20)\n",
    "clf.fit(X_train,y_train)\n",
    "y_pred=clf.predict(X_test)\n",
    "\n",
    "tn, fp, fn, tp = confusion_matrix(y_test, y_pred).ravel()\n",
    "print(\"Confusion Matrix:\")\n",
    "print(confusion_matrix(y_test,y_pred))\n",
    "print(\"Accuracy:\",metrics.accuracy_score(y_test, y_pred))\n",
    "print(\"Precision:\",metrics.precision_score(y_test, y_pred))\n",
    "print(\"Recall:\",metrics.recall_score(y_test, y_pred))\n",
    "print(\"TPR: \",tp/(tp+fn))\n",
    "print(\"FPR: \",fp/(tn+fp))\n",
    "print(\"F1 Score:\",metrics.f1_score(y_test, y_pred))"
   ]
  },
  {
   "cell_type": "code",
   "execution_count": null,
   "metadata": {
    "colab": {
     "base_uri": "https://localhost:8080/"
    },
    "id": "wbCOEPssYiiN",
    "outputId": "b41c6ced-2a20-4ee7-c5fa-e5fb8d7ee6f5"
   },
   "outputs": [
    {
     "name": "stderr",
     "output_type": "stream",
     "text": [
      "/usr/local/lib/python3.7/dist-packages/ipykernel_launcher.py:1: FutureWarning: In a future version of pandas all arguments of DataFrame.drop except for the argument 'labels' will be keyword-only\n",
      "  \"\"\"Entry point for launching an IPython kernel.\n"
     ]
    },
    {
     "name": "stdout",
     "output_type": "stream",
     "text": [
      "Confusion Matrix:\n",
      "[[83 12]\n",
      " [ 7 95]]\n",
      "Accuracy: 0.9035532994923858\n",
      "Precision: 0.8878504672897196\n",
      "Recall: 0.9313725490196079\n",
      "TPR:  0.9313725490196079\n",
      "FPR:  0.12631578947368421\n",
      "F1 Score: 0.9090909090909091\n"
     ]
    }
   ],
   "source": [
    "X = df_after.drop('target',1)\n",
    "y = df_after['target']\n",
    "X_train, X_test, y_train, y_test = train_test_split(X, y, test_size=0.3,random_state=105)\n",
    "clf=RandomForestClassifier(n_estimators=100,random_state=20)\n",
    "clf.fit(X_train,y_train)\n",
    "y_pred=clf.predict(X_test)\n",
    "\n",
    "tn, fp, fn, tp = confusion_matrix(y_test, y_pred).ravel()\n",
    "print(\"Confusion Matrix:\")\n",
    "print(confusion_matrix(y_test,y_pred))\n",
    "print(\"Accuracy:\",metrics.accuracy_score(y_test, y_pred))\n",
    "print(\"Precision:\",metrics.precision_score(y_test, y_pred))\n",
    "print(\"Recall:\",metrics.recall_score(y_test, y_pred))\n",
    "print(\"TPR: \",tp/(tp+fn))\n",
    "print(\"FPR: \",fp/(tn+fp))\n",
    "print(\"F1 Score:\",metrics.f1_score(y_test, y_pred))"
   ]
  },
  {
   "cell_type": "markdown",
   "metadata": {
    "id": "NZS4CNA9kzS5"
   },
   "source": [
    "German\n",
    "-------------"
   ]
  },
  {
   "cell_type": "code",
   "execution_count": null,
   "metadata": {
    "id": "f2PZcdNxkzS6"
   },
   "outputs": [],
   "source": [
    "df_after=pd.read_csv(\"drive/MyDrive/Datasets/IQRAfterRemovingOutliers/german.csv\")\n",
    "colnames = ['A1','A2','A3','A4','A5','A6','A7','A8','A9','A10','A11','A12','A13','A14','A15','A16','A17','A18','A19','A20','target']\n",
    "df_before = pd.read_csv(\"drive/MyDrive/Datasets/german.data\",delimiter=' ',names=colnames, header=None)"
   ]
  },
  {
   "cell_type": "code",
   "execution_count": null,
   "metadata": {
    "colab": {
     "base_uri": "https://localhost:8080/"
    },
    "id": "Bu6aU_tCny66",
    "outputId": "7ea27e4c-5b46-4279-c430-9dec7a62e675"
   },
   "outputs": [
    {
     "name": "stdout",
     "output_type": "stream",
     "text": [
      "   A2    A5  A8  A11  A13  A16  A18  target  A1_A11  A1_A12  ...  A15_A153  \\\n",
      "0   6  1169   4    4   67    2    1       1       1       0  ...         1   \n",
      "1  48  5951   2    2   22    1    1       2       0       1  ...         1   \n",
      "2  12  2096   2    3   49    1    2       1       0       0  ...         1   \n",
      "3  42  7882   2    4   45    1    2       1       1       0  ...         0   \n",
      "4  24  4870   3    4   53    2    2       2       1       0  ...         0   \n",
      "\n",
      "   A15_A151  A17_A173  A17_A172  A17_A174  A17_A171  A19_A192  A19_A191  \\\n",
      "0         0         0         0         1         0         0         1   \n",
      "1         0         0         0         1         0         1         0   \n",
      "2         0         0         1         0         0         1         0   \n",
      "3         1         0         0         1         0         1         0   \n",
      "4         1         0         0         1         0         1         0   \n",
      "\n",
      "   A20_A201  A20_A202  \n",
      "0         1         0  \n",
      "1         1         0  \n",
      "2         1         0  \n",
      "3         1         0  \n",
      "4         1         0  \n",
      "\n",
      "[5 rows x 62 columns]\n",
      "   A2    A5  A8  A11  A13  A16  A18  target  A1_A11  A1_A12  ...  A15_A153  \\\n",
      "0   6  1169   4    4   67    2    1       1       1       0  ...         1   \n",
      "1  48  5951   2    2   22    1    1       2       0       1  ...         1   \n",
      "2  12  2096   2    3   49    1    2       1       0       0  ...         1   \n",
      "3  42  7882   2    4   45    1    2       1       1       0  ...         0   \n",
      "4  24  4870   3    4   53    2    2       2       1       0  ...         0   \n",
      "\n",
      "   A15_A151  A17_A173  A17_A172  A17_A174  A17_A171  A19_A192  A19_A191  \\\n",
      "0         0         0         0         1         0         0         1   \n",
      "1         0         0         0         1         0         1         0   \n",
      "2         0         0         1         0         0         1         0   \n",
      "3         1         0         0         1         0         1         0   \n",
      "4         1         0         0         1         0         1         0   \n",
      "\n",
      "   A20_A201  A20_A202  \n",
      "0         1         0  \n",
      "1         1         0  \n",
      "2         1         0  \n",
      "3         1         0  \n",
      "4         1         0  \n",
      "\n",
      "[5 rows x 62 columns]\n"
     ]
    }
   ],
   "source": [
    "categ=['A1','A3','A4','A6','A7','A9','A10','A12','A14','A15','A17','A19','A20']\n",
    "df_before = oneHotFunc(df_before, categ)\n",
    "df_after = oneHotFunc(df_after, categ)"
   ]
  },
  {
   "cell_type": "code",
   "execution_count": null,
   "metadata": {
    "colab": {
     "base_uri": "https://localhost:8080/"
    },
    "id": "fz5tq35okzS7",
    "outputId": "372f6c3d-2cd7-4d72-c339-3d217b987083"
   },
   "outputs": [
    {
     "name": "stderr",
     "output_type": "stream",
     "text": [
      "/usr/local/lib/python3.7/dist-packages/ipykernel_launcher.py:1: FutureWarning: In a future version of pandas all arguments of DataFrame.drop except for the argument 'labels' will be keyword-only\n",
      "  \"\"\"Entry point for launching an IPython kernel.\n"
     ]
    },
    {
     "name": "stdout",
     "output_type": "stream",
     "text": [
      "Confusion Matrix:\n",
      "[[195  23]\n",
      " [ 50  32]]\n",
      "Accuracy: 0.7566666666666667\n",
      "Precision: 0.7959183673469388\n",
      "Recall: 0.8944954128440367\n",
      "TPR:  0.3902439024390244\n",
      "FPR:  0.10550458715596331\n",
      "F1 Score: 0.8423326133909287\n"
     ]
    }
   ],
   "source": [
    "X = df_before.drop('target',1)\n",
    "y = df_before['target']\n",
    "X_train, X_test, y_train, y_test = train_test_split(X, y, test_size=0.3,random_state=5)\n",
    "clf=RandomForestClassifier(n_estimators=100,random_state=20)\n",
    "clf.fit(X_train,y_train)\n",
    "y_pred=clf.predict(X_test)\n",
    "\n",
    "tn, fp, fn, tp = confusion_matrix(y_test, y_pred).ravel()\n",
    "print(\"Confusion Matrix:\")\n",
    "print(confusion_matrix(y_test,y_pred))\n",
    "print(\"Accuracy:\",metrics.accuracy_score(y_test, y_pred))\n",
    "print(\"Precision:\",metrics.precision_score(y_test, y_pred))\n",
    "print(\"Recall:\",metrics.recall_score(y_test, y_pred))\n",
    "print(\"TPR: \",tp/(tp+fn))\n",
    "print(\"FPR: \",fp/(tn+fp))\n",
    "print(\"F1 Score:\",metrics.f1_score(y_test, y_pred))"
   ]
  },
  {
   "cell_type": "code",
   "execution_count": null,
   "metadata": {
    "colab": {
     "base_uri": "https://localhost:8080/"
    },
    "id": "9og_P7N7kzS8",
    "outputId": "d2bc6b41-08c8-4f60-b84c-b9dc4b116d3e"
   },
   "outputs": [
    {
     "name": "stderr",
     "output_type": "stream",
     "text": [
      "/usr/local/lib/python3.7/dist-packages/ipykernel_launcher.py:1: FutureWarning: In a future version of pandas all arguments of DataFrame.drop except for the argument 'labels' will be keyword-only\n",
      "  \"\"\"Entry point for launching an IPython kernel.\n"
     ]
    },
    {
     "name": "stdout",
     "output_type": "stream",
     "text": [
      "Confusion Matrix:\n",
      "[[201  12]\n",
      " [ 51  35]]\n",
      "Accuracy: 0.7892976588628763\n",
      "Precision: 0.7976190476190477\n",
      "Recall: 0.9436619718309859\n",
      "TPR:  0.4069767441860465\n",
      "FPR:  0.056338028169014086\n",
      "F1 Score: 0.8645161290322582\n"
     ]
    }
   ],
   "source": [
    "X = df_after.drop('target',1)\n",
    "y = df_after['target']\n",
    "X_train, X_test, y_train, y_test = train_test_split(X, y, test_size=0.3,random_state=105)\n",
    "clf=RandomForestClassifier(n_estimators=100,random_state=20)\n",
    "clf.fit(X_train,y_train)\n",
    "y_pred=clf.predict(X_test)\n",
    "\n",
    "tn, fp, fn, tp = confusion_matrix(y_test, y_pred).ravel()\n",
    "print(\"Confusion Matrix:\")\n",
    "print(confusion_matrix(y_test,y_pred))\n",
    "print(\"Accuracy:\",metrics.accuracy_score(y_test, y_pred))\n",
    "print(\"Precision:\",metrics.precision_score(y_test, y_pred))\n",
    "print(\"Recall:\",metrics.recall_score(y_test, y_pred))\n",
    "print(\"TPR: \",tp/(tp+fn))\n",
    "print(\"FPR: \",fp/(tn+fp))\n",
    "print(\"F1 Score:\",metrics.f1_score(y_test, y_pred))"
   ]
  },
  {
   "cell_type": "markdown",
   "metadata": {
    "id": "Ck_WRkpY39XH"
   },
   "source": [
    "Heart\n",
    "-------------"
   ]
  },
  {
   "cell_type": "code",
   "execution_count": null,
   "metadata": {
    "id": "dHz8tw164E7n"
   },
   "outputs": [],
   "source": [
    "df_after=pd.read_csv(\"drive/MyDrive/Datasets/IQRAfterRemovingOutliers/heart.csv\")\n",
    "df_before = pd.read_csv(\"drive/MyDrive/Datasets/heart.csv\")"
   ]
  },
  {
   "cell_type": "code",
   "execution_count": null,
   "metadata": {
    "colab": {
     "base_uri": "https://localhost:8080/"
    },
    "id": "K8styPKa1g-l",
    "outputId": "869b27dd-3e87-46a6-e098-a31624aac462"
   },
   "outputs": [
    {
     "name": "stdout",
     "output_type": "stream",
     "text": [
      "   age  trestbps  chol  thalach  oldpeak  target  sex_1  sex_0  cp_3  cp_2  \\\n",
      "0   63       145   233      150      2.3       1      0      1     0     0   \n",
      "1   37       130   250      187      3.5       1      0      1     0     0   \n",
      "2   41       130   204      172      1.4       1      1      0     0     1   \n",
      "3   56       120   236      178      0.8       1      0      1     0     1   \n",
      "4   57       120   354      163      0.6       1      1      0     1     0   \n",
      "\n",
      "   ...  slope_1  ca_0  ca_2  ca_1  ca_3  ca_4  thal_1  thal_2  thal_3  thal_0  \n",
      "0  ...        0     1     0     0     0     0       0       1       0       0  \n",
      "1  ...        0     1     0     0     0     0       0       0       1       0  \n",
      "2  ...        1     1     0     0     0     0       0       0       1       0  \n",
      "3  ...        1     1     0     0     0     0       0       0       1       0  \n",
      "4  ...        1     1     0     0     0     0       0       0       1       0  \n",
      "\n",
      "[5 rows x 31 columns]\n",
      "   age  trestbps  chol  thalach  oldpeak  target  sex_1  sex_0  cp_3  cp_2  \\\n",
      "0   63       145   233      150      2.3       1      0      1     0     0   \n",
      "1   37       130   250      187      3.5       1      0      1     0     0   \n",
      "2   41       130   204      172      1.4       1      1      0     0     1   \n",
      "3   56       120   236      178      0.8       1      0      1     0     1   \n",
      "4   57       120   354      163      0.6       1      1      0     1     0   \n",
      "\n",
      "   ...  slope_1  ca_0  ca_2  ca_1  ca_3  ca_4  thal_1  thal_2  thal_3  thal_0  \n",
      "0  ...        0     1     0     0     0     0       0       1       0       0  \n",
      "1  ...        0     1     0     0     0     0       0       0       1       0  \n",
      "2  ...        1     1     0     0     0     0       0       0       1       0  \n",
      "3  ...        1     1     0     0     0     0       0       0       1       0  \n",
      "4  ...        1     1     0     0     0     0       0       0       1       0  \n",
      "\n",
      "[5 rows x 31 columns]\n"
     ]
    }
   ],
   "source": [
    "categ = ['sex','cp','fbs','restecg','exang','slope','ca','thal']\n",
    "df_after = oneHotFunc(df_after, categ)\n",
    "df_before = oneHotFunc(df_before, categ)"
   ]
  },
  {
   "cell_type": "code",
   "execution_count": null,
   "metadata": {
    "colab": {
     "base_uri": "https://localhost:8080/"
    },
    "id": "wLIQmqE33-c1",
    "outputId": "890f5a48-0ca1-4772-9a62-c4dfe95ee2b0"
   },
   "outputs": [
    {
     "name": "stderr",
     "output_type": "stream",
     "text": [
      "/usr/local/lib/python3.7/dist-packages/ipykernel_launcher.py:1: FutureWarning: In a future version of pandas all arguments of DataFrame.drop except for the argument 'labels' will be keyword-only\n",
      "  \"\"\"Entry point for launching an IPython kernel.\n"
     ]
    },
    {
     "name": "stdout",
     "output_type": "stream",
     "text": [
      "Confusion Matrix:\n",
      "[[37 13]\n",
      " [ 5 36]]\n",
      "Accuracy: 0.8021978021978022\n",
      "Precision: 0.7346938775510204\n",
      "Recall: 0.8780487804878049\n",
      "TPR:  0.8780487804878049\n",
      "FPR:  0.26\n",
      "F1 Score: 0.8\n"
     ]
    }
   ],
   "source": [
    "X = df_before.drop('target',1)\n",
    "y = df_before['target']\n",
    "\n",
    "X_train, X_test, y_train, y_test = train_test_split(X, y, test_size=0.3,random_state=10)\n",
    "clf=RandomForestClassifier(n_estimators=100,random_state=20)\n",
    "clf.fit(X_train,y_train)\n",
    "y_pred=clf.predict(X_test)\n",
    "\n",
    "tn, fp, fn, tp = confusion_matrix(y_test, y_pred).ravel()\n",
    "print(\"Confusion Matrix:\")\n",
    "print(confusion_matrix(y_test,y_pred))\n",
    "print(\"Accuracy:\",metrics.accuracy_score(y_test, y_pred))\n",
    "print(\"Precision:\",metrics.precision_score(y_test, y_pred))\n",
    "print(\"Recall:\",metrics.recall_score(y_test, y_pred))\n",
    "print(\"TPR: \",tp/(tp+fn))\n",
    "print(\"FPR: \",fp/(tn+fp))\n",
    "print(\"F1 Score:\",metrics.f1_score(y_test, y_pred))"
   ]
  },
  {
   "cell_type": "code",
   "execution_count": null,
   "metadata": {
    "colab": {
     "base_uri": "https://localhost:8080/"
    },
    "id": "L2mPVNWc4EaD",
    "outputId": "6b69003e-ceea-43bf-c56f-d0accf549a07"
   },
   "outputs": [
    {
     "name": "stderr",
     "output_type": "stream",
     "text": [
      "/usr/local/lib/python3.7/dist-packages/ipykernel_launcher.py:1: FutureWarning: In a future version of pandas all arguments of DataFrame.drop except for the argument 'labels' will be keyword-only\n",
      "  \"\"\"Entry point for launching an IPython kernel.\n"
     ]
    },
    {
     "name": "stdout",
     "output_type": "stream",
     "text": [
      "Confusion Matrix:\n",
      "[[33 10]\n",
      " [ 4 42]]\n",
      "Accuracy: 0.8426966292134831\n",
      "Precision: 0.8076923076923077\n",
      "Recall: 0.9130434782608695\n",
      "TPR:  0.9130434782608695\n",
      "FPR:  0.23255813953488372\n",
      "F1 Score: 0.8571428571428572\n"
     ]
    }
   ],
   "source": [
    "X = df_after.drop('target',1)\n",
    "y = df_after['target']\n",
    "\n",
    "X_train, X_test, y_train, y_test = train_test_split(X, y, test_size=0.3,random_state=10)\n",
    "clf=RandomForestClassifier(n_estimators=100,random_state=20)\n",
    "clf.fit(X_train,y_train)\n",
    "y_pred=clf.predict(X_test)\n",
    "\n",
    "tn, fp, fn, tp = confusion_matrix(y_test, y_pred).ravel()\n",
    "print(\"Confusion Matrix:\")\n",
    "print(confusion_matrix(y_test,y_pred))\n",
    "print(\"Accuracy:\",metrics.accuracy_score(y_test, y_pred))\n",
    "print(\"Precision:\",metrics.precision_score(y_test, y_pred))\n",
    "print(\"Recall:\",metrics.recall_score(y_test, y_pred))\n",
    "print(\"TPR: \",tp/(tp+fn))\n",
    "print(\"FPR: \",fp/(tn+fp))\n",
    "print(\"F1 Score:\",metrics.f1_score(y_test, y_pred))"
   ]
  },
  {
   "cell_type": "markdown",
   "metadata": {
    "id": "iuwKCaLwFlr7"
   },
   "source": [
    "Australian\n",
    "-------------"
   ]
  },
  {
   "cell_type": "code",
   "execution_count": null,
   "metadata": {
    "id": "3t60kWsAFlr8"
   },
   "outputs": [],
   "source": [
    "df_after=pd.read_csv(\"drive/MyDrive/Datasets/IQRAfterRemovingOutliers/australian.csv\")\n",
    "colnames = ['A1','A2','A3','A4','A5','A6','A7','A8','A9','A10','A11','A12','A13','A14','target']\n",
    "df_before = pd.read_csv(\"drive/MyDrive/Datasets/australian.dat\",delimiter=' ',names=colnames, header=None)"
   ]
  },
  {
   "cell_type": "code",
   "execution_count": null,
   "metadata": {
    "colab": {
     "base_uri": "https://localhost:8080/"
    },
    "id": "sTeNVTXzyKXX",
    "outputId": "c2f1f6d2-311f-4b3e-f255-b2626be2a465"
   },
   "outputs": [
    {
     "name": "stdout",
     "output_type": "stream",
     "text": [
      "      A2     A3     A7  A10  A13   A14  target  A1_1  A1_0  A4_2  ...  A6_9  \\\n",
      "0  22.08  11.46  1.585    0  100  1213       0     0     1     0  ...     0   \n",
      "1  22.67   7.00  0.165    0  160     1       0     1     0     0  ...     0   \n",
      "2  29.58   1.75  1.250    0  280     1       0     1     0     1  ...     0   \n",
      "3  21.67  11.50  0.000   11    0     1       1     1     0     1  ...     0   \n",
      "4  20.17   8.17  1.960   14   60   159       1     0     1     0  ...     0   \n",
      "\n",
      "   A8_0  A8_1  A9_0  A9_1  A11_1  A11_0  A12_2  A12_1  A12_3  \n",
      "0     1     0     1     0      0      1      0      1      0  \n",
      "1     1     0     1     0      1      0      0      1      0  \n",
      "2     1     0     1     0      0      1      0      1      0  \n",
      "3     0     1     0     1      0      1      0      1      0  \n",
      "4     0     1     0     1      1      0      0      1      0  \n",
      "\n",
      "[5 rows x 43 columns]\n",
      "      A2     A3     A7  A10  A13   A14  target  A1_1  A1_0  A4_2  ...  A6_7  \\\n",
      "0  22.08  11.46  1.585    0  100  1213       0     0     1     0  ...     0   \n",
      "1  22.67   7.00  0.165    0  160     1       0     1     0     0  ...     0   \n",
      "2  29.58   1.75  1.250    0  280     1       0     1     0     1  ...     0   \n",
      "3  21.67  11.50  0.000   11    0     1       1     1     0     1  ...     0   \n",
      "4  20.17   8.17  1.960   14   60   159       1     0     1     0  ...     0   \n",
      "\n",
      "   A8_0  A8_1  A9_0  A9_1  A11_1  A11_0  A12_2  A12_1  A12_3  \n",
      "0     1     0     1     0      0      1      0      1      0  \n",
      "1     1     0     1     0      1      0      0      1      0  \n",
      "2     1     0     1     0      0      1      0      1      0  \n",
      "3     0     1     0     1      0      1      0      1      0  \n",
      "4     0     1     0     1      1      0      0      1      0  \n",
      "\n",
      "[5 rows x 43 columns]\n"
     ]
    }
   ],
   "source": [
    "categ = ['A1','A4','A5','A6','A8','A9','A11','A12']\n",
    "df_after = oneHotFunc(df_after, categ)\n",
    "df_before = oneHotFunc(df_before, categ)"
   ]
  },
  {
   "cell_type": "code",
   "execution_count": null,
   "metadata": {
    "colab": {
     "base_uri": "https://localhost:8080/"
    },
    "id": "6nkUgc5cFlr8",
    "outputId": "d0393507-29ae-470c-bd1e-7f2fdf52f92c"
   },
   "outputs": [
    {
     "name": "stderr",
     "output_type": "stream",
     "text": [
      "/usr/local/lib/python3.7/dist-packages/ipykernel_launcher.py:1: FutureWarning: In a future version of pandas all arguments of DataFrame.drop except for the argument 'labels' will be keyword-only\n",
      "  \"\"\"Entry point for launching an IPython kernel.\n"
     ]
    },
    {
     "name": "stdout",
     "output_type": "stream",
     "text": [
      "Confusion Matrix:\n",
      "[[105  17]\n",
      " [ 11  74]]\n",
      "Accuracy: 0.8647342995169082\n",
      "Precision: 0.8131868131868132\n",
      "Recall: 0.8705882352941177\n",
      "TPR:  0.8705882352941177\n",
      "FPR:  0.13934426229508196\n",
      "F1 Score: 0.8409090909090909\n"
     ]
    }
   ],
   "source": [
    "X = df_before.drop('target',1)\n",
    "y = df_before['target']\n",
    "X_train, X_test, y_train, y_test = train_test_split(X, y, test_size=0.3,random_state=101)\n",
    "clf=RandomForestClassifier(n_estimators=100,random_state=20)\n",
    "clf.fit(X_train,y_train)\n",
    "y_pred=clf.predict(X_test)\n",
    "\n",
    "tn, fp, fn, tp = confusion_matrix(y_test, y_pred).ravel()\n",
    "print(\"Confusion Matrix:\")\n",
    "print(confusion_matrix(y_test,y_pred))\n",
    "print(\"Accuracy:\",metrics.accuracy_score(y_test, y_pred))\n",
    "print(\"Precision:\",metrics.precision_score(y_test, y_pred))\n",
    "print(\"Recall:\",metrics.recall_score(y_test, y_pred))\n",
    "print(\"TPR: \",tp/(tp+fn))\n",
    "print(\"FPR: \",fp/(tn+fp))\n",
    "print(\"F1 Score:\",metrics.f1_score(y_test, y_pred))"
   ]
  },
  {
   "cell_type": "code",
   "execution_count": null,
   "metadata": {
    "colab": {
     "base_uri": "https://localhost:8080/"
    },
    "id": "CmToF803Flr-",
    "outputId": "803a80e8-6b3e-4449-9ddf-0eaf5a0717c2"
   },
   "outputs": [
    {
     "name": "stderr",
     "output_type": "stream",
     "text": [
      "/usr/local/lib/python3.7/dist-packages/ipykernel_launcher.py:1: FutureWarning: In a future version of pandas all arguments of DataFrame.drop except for the argument 'labels' will be keyword-only\n",
      "  \"\"\"Entry point for launching an IPython kernel.\n"
     ]
    },
    {
     "name": "stdout",
     "output_type": "stream",
     "text": [
      "Confusion Matrix:\n",
      "[[100  15]\n",
      " [  8  84]]\n",
      "Accuracy: 0.8888888888888888\n",
      "Precision: 0.8484848484848485\n",
      "Recall: 0.9130434782608695\n",
      "TPR:  0.9130434782608695\n",
      "FPR:  0.13043478260869565\n",
      "F1 Score: 0.8795811518324607\n"
     ]
    }
   ],
   "source": [
    "X = df_before.drop('target',1)\n",
    "y = df_before['target']\n",
    "X_train, X_test, y_train, y_test = train_test_split(X, y, test_size=0.3,random_state=10)\n",
    "clf=RandomForestClassifier(n_estimators=100,random_state=20)\n",
    "clf.fit(X_train,y_train)\n",
    "y_pred=clf.predict(X_test)\n",
    "\n",
    "tn, fp, fn, tp = confusion_matrix(y_test, y_pred).ravel()\n",
    "print(\"Confusion Matrix:\")\n",
    "print(confusion_matrix(y_test,y_pred))\n",
    "print(\"Accuracy:\",metrics.accuracy_score(y_test, y_pred))\n",
    "print(\"Precision:\",metrics.precision_score(y_test, y_pred))\n",
    "print(\"Recall:\",metrics.recall_score(y_test, y_pred))\n",
    "print(\"TPR: \",tp/(tp+fn))\n",
    "print(\"FPR: \",fp/(tn+fp))\n",
    "print(\"F1 Score:\",metrics.f1_score(y_test, y_pred))"
   ]
  }
 ],
 "metadata": {
  "colab": {
   "collapsed_sections": [
    "A4F4XXdIKI8E",
    "4vWcZGBaKdje",
    "VHTgM4i3RfMz",
    "POFcw_sOAgyM",
    "_Rx-IQO-031c",
    "VVBInD0VjKis",
    "pcr6CSFnc9uK",
    "9fHi2Va_CN4Q",
    "nyv5IrYCE6tg",
    "553TZ88BnYXX",
    "ILDWfEhnYiiK",
    "NZS4CNA9kzS5",
    "Ck_WRkpY39XH"
   ],
   "provenance": []
  },
  "kernelspec": {
   "display_name": "Python 3",
   "name": "python3"
  },
  "language_info": {
   "name": "python"
  }
 },
 "nbformat": 4,
 "nbformat_minor": 0
}
